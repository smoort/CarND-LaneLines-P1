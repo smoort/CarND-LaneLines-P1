{
 "cells": [
  {
   "cell_type": "markdown",
   "metadata": {
    "deletable": true,
    "editable": true
   },
   "source": [
    "# Self-Driving Car Engineer Nanodegree\n",
    "\n",
    "\n",
    "## Project: **Finding Lane Lines on the Road** \n",
    "***\n",
    "In this project, you will use the tools you learned about in the lesson to identify lane lines on the road.  You can develop your pipeline on a series of individual images, and later apply the result to a video stream (really just a series of images). Check out the video clip \"raw-lines-example.mp4\" (also contained in this repository) to see what the output should look like after using the helper functions below. \n",
    "\n",
    "Once you have a result that looks roughly like \"raw-lines-example.mp4\", you'll need to get creative and try to average and/or extrapolate the line segments you've detected to map out the full extent of the lane lines.  You can see an example of the result you're going for in the video \"P1_example.mp4\".  Ultimately, you would like to draw just one line for the left side of the lane, and one for the right.\n",
    "\n",
    "In addition to implementing code, there is a brief writeup to complete. The writeup should be completed in a separate file, which can be either a markdown file or a pdf document. There is a [write up template](https://github.com/udacity/CarND-LaneLines-P1/blob/master/writeup_template.md) that can be used to guide the writing process. Completing both the code in the Ipython notebook and the writeup template will cover all of the [rubric points](https://review.udacity.com/#!/rubrics/322/view) for this project.\n",
    "\n",
    "---\n",
    "Let's have a look at our first image called 'test_images/solidWhiteRight.jpg'.  Run the 2 cells below (hit Shift-Enter or the \"play\" button above) to display the image.\n",
    "\n",
    "**Note: If, at any point, you encounter frozen display windows or other confounding issues, you can always start again with a clean slate by going to the \"Kernel\" menu above and selecting \"Restart & Clear Output\".**\n",
    "\n",
    "---"
   ]
  },
  {
   "cell_type": "markdown",
   "metadata": {
    "deletable": true,
    "editable": true
   },
   "source": [
    "**The tools you have are color selection, region of interest selection, grayscaling, Gaussian smoothing, Canny Edge Detection and Hough Tranform line detection.  You  are also free to explore and try other techniques that were not presented in the lesson.  Your goal is piece together a pipeline to detect the line segments in the image, then average/extrapolate them and draw them onto the image for display (as below).  Once you have a working pipeline, try it out on the video stream below.**\n",
    "\n",
    "---\n",
    "\n",
    "<figure>\n",
    " <img src=\"line-segments-example.jpg\" width=\"380\" alt=\"Combined Image\" />\n",
    " <figcaption>\n",
    " <p></p> \n",
    " <p style=\"text-align: center;\"> Your output should look something like this (above) after detecting line segments using the helper functions below </p> \n",
    " </figcaption>\n",
    "</figure>\n",
    " <p></p> \n",
    "<figure>\n",
    " <img src=\"laneLines_thirdPass.jpg\" width=\"380\" alt=\"Combined Image\" />\n",
    " <figcaption>\n",
    " <p></p> \n",
    " <p style=\"text-align: center;\"> Your goal is to connect/average/extrapolate line segments to get output like this</p> \n",
    " </figcaption>\n",
    "</figure>"
   ]
  },
  {
   "cell_type": "markdown",
   "metadata": {
    "deletable": true,
    "editable": true
   },
   "source": [
    "**Run the cell below to import some packages.  If you get an `import error` for a package you've already installed, try changing your kernel (select the Kernel menu above --> Change Kernel).  Still have problems?  Try relaunching Jupyter Notebook from the terminal prompt.  Also, see [this forum post](https://carnd-forums.udacity.com/cq/viewquestion.action?spaceKey=CAR&id=29496372&questionTitle=finding-lanes---import-cv2-fails-even-though-python-in-the-terminal-window-has-no-problem-with-import-cv2) for more troubleshooting tips.**  "
   ]
  },
  {
   "cell_type": "markdown",
   "metadata": {
    "deletable": true,
    "editable": true
   },
   "source": [
    "## Import Packages"
   ]
  },
  {
   "cell_type": "code",
   "execution_count": 1,
   "metadata": {
    "collapsed": false,
    "deletable": true,
    "editable": true
   },
   "outputs": [
    {
     "name": "stdout",
     "output_type": "stream",
     "text": [
      "prev_clip_data = 0\n"
     ]
    }
   ],
   "source": [
    "#importing some useful packages\n",
    "import matplotlib.pyplot as plt\n",
    "import matplotlib.image as mpimg\n",
    "import numpy as np\n",
    "import cv2\n",
    "%matplotlib inline\n",
    "import math\n",
    "\n",
    "# global variable\n",
    "prev_clip_data = [0, 0, 0, 0]\n",
    "print('prev_clip_data =', prev_clip_data[0])\n",
    "bottom_y = 0\n",
    "\n",
    "# constants\n",
    "SLOPE_TOLERANCE = 0.25\n",
    "INTERCEPT_TOLERANCE = 25\n",
    "TOP_Y_FACTOR = 0.625\n",
    "BOTTOM_Y_FACTOR = 1.0\n",
    "MASK_BOTTOM_RIGHT_X_FACTOR = 0.975\n",
    "MASK_BOTTOM_LEFT_X_FACTOR = 0.125\n",
    "MASK_TOP_RIGHT_X_FACTOR = 0.575\n",
    "MASK_TOP_LEFT_X_FACTOR = 0.425"
   ]
  },
  {
   "cell_type": "markdown",
   "metadata": {
    "deletable": true,
    "editable": true
   },
   "source": [
    "## Read in an Image"
   ]
  },
  {
   "cell_type": "code",
   "execution_count": 2,
   "metadata": {
    "collapsed": false,
    "deletable": true,
    "editable": true
   },
   "outputs": [],
   "source": [
    "#reading in an image\n",
    "#image = mpimg.imread('test_images/Challenge6.jpg')\n",
    "\n",
    "#printing out some stats and plotting\n",
    "#print('This image is:', type(image), 'with dimensions:', image.shape)\n",
    "#plt.imshow(image)  # if you wanted to show a single color channel image called 'gray',\n",
    "#    for example, call as plt.imshow(gray, cmap='gray')"
   ]
  },
  {
   "cell_type": "markdown",
   "metadata": {
    "deletable": true,
    "editable": true
   },
   "source": [
    "## Ideas for Lane Detection Pipeline"
   ]
  },
  {
   "cell_type": "markdown",
   "metadata": {
    "deletable": true,
    "editable": true
   },
   "source": [
    "**Some OpenCV functions (beyond those introduced in the lesson) that might be useful for this project are:**\n",
    "\n",
    "`cv2.inRange()` for color selection  \n",
    "`cv2.fillPoly()` for regions selection  \n",
    "`cv2.line()` to draw lines on an image given endpoints  \n",
    "`cv2.addWeighted()` to coadd / overlay two images\n",
    "`cv2.cvtColor()` to grayscale or change color\n",
    "`cv2.imwrite()` to output images to file  \n",
    "`cv2.bitwise_and()` to apply a mask to an image\n",
    "\n",
    "**Check out the OpenCV documentation to learn about these and discover even more awesome functionality!**"
   ]
  },
  {
   "cell_type": "markdown",
   "metadata": {
    "deletable": true,
    "editable": true
   },
   "source": [
    "## Helper Functions"
   ]
  },
  {
   "cell_type": "markdown",
   "metadata": {
    "deletable": true,
    "editable": true
   },
   "source": [
    "Below are some helper functions to help get you started. They should look familiar from the lesson!"
   ]
  },
  {
   "cell_type": "code",
   "execution_count": 3,
   "metadata": {
    "collapsed": false,
    "deletable": true,
    "editable": true
   },
   "outputs": [],
   "source": [
    "def grayscale(img):\n",
    "    \"\"\"Applies the Grayscale transform\n",
    "    This will return an image with only one color channel\n",
    "    but NOTE: to see the returned image as grayscale\n",
    "    (assuming your grayscaled image is called 'gray')\n",
    "    you should call plt.imshow(gray, cmap='gray')\"\"\"\n",
    "    return cv2.cvtColor(img, cv2.COLOR_RGB2GRAY)\n",
    "    # Or use BGR2GRAY if you read an image with cv2.imread()\n",
    "    # return cv2.cvtColor(img, cv2.COLOR_BGR2GRAY)\n",
    "\n",
    "def canny(img, low_threshold, high_threshold):\n",
    "    \"\"\"Applies the Canny transform\"\"\"\n",
    "    return cv2.Canny(img, low_threshold, high_threshold)\n",
    "\n",
    "def gaussian_blur(img, kernel_size):\n",
    "    \"\"\"Applies a Gaussian Noise kernel\"\"\"\n",
    "    return cv2.GaussianBlur(img, (kernel_size, kernel_size), 0)\n",
    "\n",
    "def region_of_interest(img, vertices):\n",
    "    \"\"\"\n",
    "    Applies an image mask.\n",
    "\n",
    "    Only keeps the region of the image defined by the polygon\n",
    "    formed from `vertices`. The rest of the image is set to black.\n",
    "    \"\"\"\n",
    "    #defining a blank mask to start with\n",
    "    mask = np.zeros_like(img)\n",
    "\n",
    "    #defining a 3 channel or 1 channel color to fill the mask with depending on the input image\n",
    "    if len(img.shape) > 2:\n",
    "        channel_count = img.shape[2]  # i.e. 3 or 4 depending on your image\n",
    "        ignore_mask_color = (255,) * channel_count\n",
    "    else:\n",
    "        ignore_mask_color = 255\n",
    "\n",
    "    #filling pixels inside the polygon defined by \"vertices\" with the fill color\n",
    "    cv2.fillPoly(mask, vertices, ignore_mask_color)\n",
    "\n",
    "    #returning the image only where mask pixels are nonzero\n",
    "    masked_image = cv2.bitwise_and(img, mask)\n",
    "    return masked_image\n",
    "\n",
    "def draw_lines(img, lines, color=[255, 0, 0], thickness=10):\n",
    "    \"\"\"\n",
    "    NOTE: this is the function you might want to use as a starting point once you want to\n",
    "    average/extrapolate the line segments you detect to map out the full\n",
    "    extent of the lane (going from the result shown in raw-lines-example.mp4\n",
    "    to that shown in P1_example.mp4).\n",
    "\n",
    "    Think about things like separating line segments by their\n",
    "    slope ((y2-y1)/(x2-x1)) to decide which segments are part of the left\n",
    "    line vs. the right line.  Then, you can average the position of each of\n",
    "    the lines and extrapolate to the top and bottom of the lane.\n",
    "\n",
    "    This function draws `lines` with `color` and `thickness`.\n",
    "    Lines are drawn on the image inplace (mutates the image).\n",
    "    If you want to make the lines semi-transparent, think about combining\n",
    "    this function with the weighted_img() function below\n",
    "    \"\"\"\n",
    "\n",
    "    \"\"\"\n",
    "    NOTE: this section iterates through the line co-ordinates returned by Hough transform and\n",
    "    calculates the average slope (m) and intercept (b) for left lane and right lane seperately.  Any\n",
    "    outliers are filtered.\n",
    "\n",
    "    The left and right lanes are extrapolated by determining top and bottom x values using y = mx + b\n",
    "    for y = 330 and 539\n",
    "\n",
    "    \"\"\"\n",
    "\n",
    "    global prev_clip_data\n",
    "    global bottom_y\n",
    "#    global SLOPE_TOLERANCE\n",
    "#    global INTERCEPT_TOLERANCE\n",
    "\n",
    "    prev_left_slope = prev_clip_data[0]\n",
    "    prev_left_intercept = prev_clip_data[1]\n",
    "    prev_right_slope = prev_clip_data[2]\n",
    "    prev_right_intercept = prev_clip_data[3]\n",
    "\n",
    "    left_lane_slope_accumulator = 0.0\n",
    "    left_lane_intercept_accumulator = 0.0\n",
    "    left_lane_line_counter = 0\n",
    "    left_lane_slope_average = 0.0\n",
    "    left_lane_intercept_average = 0.0\n",
    "    right_lane_slope_accumulator = 0.0\n",
    "    right_lane_intercept_accumulator = 0.0\n",
    "    right_lane_line_counter = 0\n",
    "    right_lane_slope_average = 0.0\n",
    "    right_lane_intercept_average = 0.0\n",
    "\n",
    "    top_y = int(img.shape[0] * TOP_Y_FACTOR)\n",
    "#    bottom_y = int(img.shape [0] * BOTTOM_Y_FACTOR)\n",
    "\n",
    "\n",
    "\n",
    "    \"\"\"\n",
    "    for line in lines:\n",
    "        for x1,y1,x2,y2 in line:\n",
    "            slope, intercept = np.polyfit([x1,x2],[y1,y2], 1)         # calculate slope & intercept\n",
    "            print ('slope, intercept =', slope, ' ', intercept)\n",
    "            print ('line =', line)\n",
    "            if(((slope*slope) > 0.1) & ((slope*slope) < 100)):       # filter outliers\n",
    "                cv2.line(img, (x1, y1), (x2, y2), color, thickness)\n",
    "    \"\"\"\n",
    "\n",
    "    if prev_left_slope == 0:\n",
    "        for line in lines:\n",
    "            for x1, y1, x2, y2 in line:\n",
    "                slope, intercept = np.polyfit([x1, x2], [y1, y2], 1)   # calculate slope & intercept\n",
    "                if((slope*slope) > 0.1) & ((slope*slope) < 100):       # filter outliers\n",
    "                    cv2.line(img, (x1, y1), (x2, y2), color=[0, 255, 0], thickness=2)\n",
    "                    if y1 > bottom_y:\n",
    "                        bottom_y = y1\n",
    "                    if y2 > bottom_y:\n",
    "                        bottom_y = y2\n",
    "#                    if x1 < (img.shape[1]/2):\n",
    "                    if slope < 0:\n",
    "                        left_lane_slope_accumulator += slope\n",
    "                        left_lane_intercept_accumulator += intercept\n",
    "                        left_lane_line_counter += 1\n",
    "                    else:\n",
    "                        right_lane_slope_accumulator += slope\n",
    "                        right_lane_intercept_accumulator += intercept\n",
    "                        right_lane_line_counter += 1\n",
    "                else:\n",
    "#                    print ('ignoring line ', line, ' as outlier ', slope, intercept)\n",
    "                    cv2.line(img, (x1, y1), (x2, y2), color=[0, 0, 255], thickness=2)\n",
    "\n",
    "        if left_lane_line_counter != 0:                                    # handle division by zero scenario\n",
    "            left_lane_slope_average = left_lane_slope_accumulator/left_lane_line_counter\n",
    "            left_lane_intercept_average = left_lane_intercept_accumulator/left_lane_line_counter\n",
    "            left_lane_top_x = (top_y-left_lane_intercept_average)/left_lane_slope_average\n",
    "            left_lane_bottom_x = (bottom_y-left_lane_intercept_average)/left_lane_slope_average\n",
    "            cv2.line(img, (int(left_lane_bottom_x), bottom_y), (int(left_lane_top_x), top_y), color, thickness)\n",
    "\n",
    "        if right_lane_line_counter != 0:                                    # handle division by zero scenario\n",
    "            right_lane_slope_average = right_lane_slope_accumulator/right_lane_line_counter\n",
    "            right_lane_intercept_average = right_lane_intercept_accumulator/right_lane_line_counter\n",
    "            right_lane_top_x = (top_y-right_lane_intercept_average)/right_lane_slope_average\n",
    "            right_lane_bottom_x = (bottom_y-right_lane_intercept_average)/right_lane_slope_average\n",
    "            cv2.line(img, (int(right_lane_bottom_x), bottom_y), (int(right_lane_top_x), top_y), color, thickness)\n",
    "\n",
    "        prev_clip_data = [left_lane_slope_average, left_lane_intercept_average, \n",
    "                             right_lane_slope_average, right_lane_intercept_average]\n",
    "        print('current clip data =', prev_clip_data)\n",
    "\n",
    "    else:\n",
    "        left_lane_slope_accumulator = prev_left_slope\n",
    "        left_lane_intercept_accumulator = prev_left_intercept\n",
    "        left_lane_line_counter = 1\n",
    "        right_lane_slope_accumulator = prev_right_slope\n",
    "        right_lane_intercept_accumulator = prev_right_intercept\n",
    "        right_lane_line_counter = 1\n",
    "        \n",
    "        for line in lines:\n",
    "            for x1, y1, x2, y2 in line:\n",
    "                slope, intercept = np.polyfit([x1, x2], [y1, y2], 1)# calculate slope & intercept\n",
    "                if((slope*slope) > 0.1) & ((slope*slope) < 100):       # filter outliers\n",
    "                    if slope < 0:\n",
    "                        if x1 < (img.shape[1]/2):\n",
    "#                            if True:\n",
    "                            if ((prev_left_slope-SLOPE_TOLERANCE) < slope < (prev_left_slope+SLOPE_TOLERANCE)) & \\\n",
    "                              ((prev_left_intercept-INTERCEPT_TOLERANCE) < intercept < \\\n",
    "                                 (prev_left_intercept+INTERCEPT_TOLERANCE)):\n",
    "    #                            left_line_x1 = (y1-prev_left_intercept)/prev_left_slope\n",
    "    #                            left_line_x2 = (y2-prev_left_intercept)/prev_left_slope\n",
    "    #                           if((int(left_line_x1)-x1)< 100 & (int(left_line_x2)-x2)<100):\n",
    "                                left_lane_slope_accumulator += slope\n",
    "                                left_lane_intercept_accumulator += intercept\n",
    "                                left_lane_line_counter += 1\n",
    "                                cv2.line(img, (x1, y1), (x2, y2), color=[0, 255, 0], thickness=2)\n",
    "#                                print('green data left =', slope, intercept)\n",
    "                                if y1 > bottom_y:\n",
    "                                    bottom_y = y1\n",
    "                                if y2 > bottom_y:\n",
    "                                    bottom_y = y2\n",
    "                            else:\n",
    "    #                           print('ignoring line ', line, ' as outlier ', slope, intercept)\n",
    "                                cv2.line(img, (x1, y1), (x2, y2), color=[0, 0, 255], thickness=2)\n",
    "                        else:\n",
    "#                           print('ignoring line ', line, ' as outlier ', slope, intercept)\n",
    "                            cv2.line(img, (x1, y1), (x2, y2), color=[240, 66, 236], thickness=2)\n",
    "                    else:\n",
    "                        if x1 > (img.shape[1]/2):\n",
    "#                            if True:\n",
    "                            if ((prev_right_slope-SLOPE_TOLERANCE) < slope < (prev_right_slope+SLOPE_TOLERANCE)) & \\\n",
    "                                  ((prev_right_intercept-INTERCEPT_TOLERANCE) < \\\n",
    "                                     intercept < (prev_right_intercept+INTERCEPT_TOLERANCE)):\n",
    "    #                            right_line_x1 = (y1-prev_right_intercept)/prev_right_slope\n",
    "    #                            right_line_x2 = (y2-prev_right_intercept)/prev_right_slope\n",
    "    #                            print('line x1 x2 =', right_line_x1, right_line_x1)\n",
    "    #                            if((int(right_line_x1)-x1)< 100 & (int(right_line_x2)-x2)<100):\n",
    "                                right_lane_slope_accumulator += slope\n",
    "                                right_lane_intercept_accumulator += intercept\n",
    "                                right_lane_line_counter += 1\n",
    "                                cv2.line(img, (x1, y1), (x2, y2), color=[0, 255, 0], thickness=2)\n",
    "#                                print('green data right =', slope, intercept)\n",
    "                                if y1 > bottom_y:\n",
    "                                    bottom_y = y1\n",
    "                                if y2 > bottom_y:\n",
    "                                    bottom_y = y2\n",
    "                            else:\n",
    "    #                            print('ignoring line ', line, ' as outlier ', slope, intercept)\n",
    "                                cv2.line(img, (x1, y1), (x2, y2), color=[0, 0, 255], thickness=2)\n",
    "                        else:\n",
    "    #                    print('ignoring line ', line, ' as outlier ', slope, intercept)\n",
    "                            cv2.line(img, (x1, y1), (x2, y2), color=[240, 66, 236], thickness=2)\n",
    "                else:\n",
    "#                    print('ignoring line ', line, ' as outlier ', slope, intercept)\n",
    "                    cv2.line(img, (x1, y1), (x2, y2), color=[252, 255, 111], thickness=2)\n",
    "\n",
    "        \n",
    "        left_lane_slope_average = left_lane_slope_accumulator/left_lane_line_counter\n",
    "        left_lane_intercept_average = left_lane_intercept_accumulator/left_lane_line_counter\n",
    "        left_lane_top_x = (top_y-left_lane_intercept_average)/left_lane_slope_average\n",
    "        left_lane_bottom_x = (bottom_y-left_lane_intercept_average)/left_lane_slope_average\n",
    "        cv2.line(img, (int(left_lane_bottom_x), bottom_y), (int(left_lane_top_x), top_y), color, thickness)\n",
    "\n",
    "        right_lane_slope_average = right_lane_slope_accumulator/right_lane_line_counter\n",
    "        right_lane_intercept_average = right_lane_intercept_accumulator/right_lane_line_counter\n",
    "        right_lane_top_x = (top_y-right_lane_intercept_average)/right_lane_slope_average\n",
    "        right_lane_bottom_x = (bottom_y-right_lane_intercept_average)/right_lane_slope_average\n",
    "        cv2.line(img, (int(right_lane_bottom_x), bottom_y), (int(right_lane_top_x), top_y), color, thickness)\n",
    "        \n",
    "        prev_clip_data = [left_lane_slope_average, left_lane_intercept_average,  \n",
    "                             right_lane_slope_average, right_lane_intercept_average]\n",
    "\n",
    "        print('current clip data =', prev_clip_data)\n",
    "    \n",
    "    \n",
    "def hough_lines(img, rho, theta, threshold, min_line_len, max_line_gap):\n",
    "    \"\"\"\n",
    "    `img` should be the output of a Canny transform.\n",
    "        \n",
    "    Returns an image with hough lines drawn.\n",
    "    \"\"\"\n",
    "    lines = cv2.HoughLinesP(img, rho, theta, threshold, np.array([]), minLineLength=min_line_len, maxLineGap=max_line_gap)\n",
    "#    print ('line =', lines[0])\n",
    "    line_img = np.zeros((img.shape[0], img.shape[1], 3), dtype=np.uint8)\n",
    "\n",
    "    draw_lines(line_img, lines)\n",
    "    return line_img\n",
    "\n",
    "# Python 3 has support for cool math symbols.\n",
    "\n",
    "def weighted_img(img, initial_img, α=0.8, β=1., λ=0.):\n",
    "    \"\"\"\n",
    "    `img` is the output of the hough_lines(), An image with lines drawn on it.\n",
    "    Should be a blank image (all black) with lines drawn on it.\n",
    "    \n",
    "    `initial_img` should be the image before any processing.\n",
    "    \n",
    "    The result image is computed as follows:\n",
    "    \n",
    "    initial_img * α + img * β + λ\n",
    "    NOTE: initial_img and img must be the same shape!\n",
    "    \"\"\"\n",
    "    return cv2.addWeighted(initial_img, α, img, β, λ)"
   ]
  },
  {
   "cell_type": "markdown",
   "metadata": {
    "deletable": true,
    "editable": true
   },
   "source": [
    "## Test Images\n",
    "\n",
    "Build your pipeline to work on the images in the directory \"test_images\"  \n",
    "**You should make sure your pipeline works well on these images before you try the videos.**"
   ]
  },
  {
   "cell_type": "code",
   "execution_count": 4,
   "metadata": {
    "collapsed": false,
    "deletable": true,
    "editable": true
   },
   "outputs": [
    {
     "data": {
      "text/plain": [
       "['Challenge5.jpg',\n",
       " 'Challenge6.jpg',\n",
       " 'Challenge7.jpg',\n",
       " 'Output2_Challenge5-old.jpg',\n",
       " 'Output2_Challenge5-old1.jpg',\n",
       " 'Output2_Challenge5.jpg',\n",
       " 'Output2_Challenge6-old.jpg',\n",
       " 'Output2_Challenge6-old1.jpg',\n",
       " 'Output2_Challenge6.jpg',\n",
       " 'Output2_Challenge7-old.jpg',\n",
       " 'Output2_Challenge7-old1.jpg',\n",
       " 'Output2_Challenge7.jpg']"
      ]
     },
     "execution_count": 4,
     "metadata": {},
     "output_type": "execute_result"
    }
   ],
   "source": [
    "import os\n",
    "os.listdir(\"test_images/\")"
   ]
  },
  {
   "cell_type": "markdown",
   "metadata": {
    "deletable": true,
    "editable": true
   },
   "source": [
    "## Build a Lane Finding Pipeline\n",
    "\n"
   ]
  },
  {
   "cell_type": "markdown",
   "metadata": {
    "deletable": true,
    "editable": true
   },
   "source": [
    "Build the pipeline and run your solution on all test_images. Make copies into the test_images directory, and you can use the images in your writeup report.\n",
    "\n",
    "Try tuning the various parameters, especially the low and high Canny thresholds as well as the Hough lines parameters."
   ]
  },
  {
   "cell_type": "code",
   "execution_count": 5,
   "metadata": {
    "collapsed": false,
    "deletable": true,
    "editable": true,
    "scrolled": true
   },
   "outputs": [
    {
     "name": "stdout",
     "output_type": "stream",
     "text": [
      "processing image  Challenge5.jpg\n",
      "current clip data = [-0.83573912382499926, 1433.1443942747658, 0.55971572764127109, 82.520299773534447]\n",
      "output image name = Output2_Challenge5.jpg\n",
      "processing image  Challenge6.jpg\n",
      "current clip data = [-0.81355932203389725, 1365.983050847457, 0.67650378316937509, -34.75307320595325]\n",
      "output image name = Output2_Challenge6.jpg\n",
      "processing image  Challenge7.jpg\n",
      "current clip data = [-0.56538767947200663, 1198.3334786507276, 0.62166659141893577, 27.845235994443808]\n",
      "output image name = Output2_Challenge7.jpg\n",
      "ignoring image  Output2_Challenge5-old.jpg\n",
      "ignoring image  Output2_Challenge5-old1.jpg\n",
      "ignoring image  Output2_Challenge5.jpg\n",
      "ignoring image  Output2_Challenge6-old.jpg\n",
      "ignoring image  Output2_Challenge6-old1.jpg\n",
      "ignoring image  Output2_Challenge6.jpg\n",
      "ignoring image  Output2_Challenge7-old.jpg\n",
      "ignoring image  Output2_Challenge7-old1.jpg\n",
      "ignoring image  Output2_Challenge7.jpg\n",
      "dummy statement to make the above multiline comment work\n"
     ]
    },
    {
     "data": {
      "image/png": "[encoded data removed]",
      "text/plain": [
       "<matplotlib.figure.Figure at 0x1cd5f5dec88>"
      ]
     },
     "metadata": {},
     "output_type": "display_data"
    }
   ],
   "source": [
    "# Pipeline that will draw lane lines on the test_images\n",
    "# then save them to the test_images directory.\n",
    "def pipeline(input_image):\n",
    "#    print(\"inside pipeline\")\n",
    "#    print(\"input image\")\n",
    "#    plt.imshow(inImg)\n",
    "    \n",
    "    gaussian_kernel_size = 7  # kernel size used for gaussian blur\n",
    "    canny_low_threshold = 40 # pixel with gradient below the low threshold are rejected\n",
    "    canny_high_threshold = 120 # gradient used to detect strong edges\n",
    "    \n",
    "    center_x = input_image.shape[1]/2\n",
    "    mask_bottom_right_x = input_image.shape[1] * MASK_BOTTOM_RIGHT_X_FACTOR\n",
    "    mask_bottom_left_x = input_image.shape[1] * MASK_BOTTOM_LEFT_X_FACTOR\n",
    "    mask_top_right_x = input_image.shape[1] * MASK_TOP_RIGHT_X_FACTOR\n",
    "    mask_top_left_x = input_image.shape[1] * MASK_TOP_LEFT_X_FACTOR\n",
    "    mask_top_y = input_image.shape[0] * TOP_Y_FACTOR\n",
    "    mask_bottom_y = input_image.shape[0] * BOTTOM_Y_FACTOR\n",
    "\n",
    "    \n",
    "    vertices = np.array([[(mask_top_left_x, mask_top_y), (mask_top_right_x, mask_top_y),  \\\n",
    "                          (mask_bottom_right_x, mask_bottom_y), (mask_bottom_left_x, mask_bottom_y)]],  \\\n",
    "                             dtype=np.int32) # vertices of the masked area\n",
    "    rho = 2 # distance resolution in pixels of the Hough grid\n",
    "    theta = np.pi/180 # angular resolution in radians of the Hough grid\n",
    "    threshold = 50     # minimum number of votes (intersections in Hough grid cell)\n",
    "    min_line_length = 20 #minimum number of pixels making up a line\n",
    "    max_line_gap = 50    # maximum gap in pixels between connectable line segments\n",
    "    \n",
    "    grayscale_image = grayscale(input_image)\n",
    "#    print (\"gray image\")\n",
    "#    plt.imshow(grayscale_image, cmap='gray')\n",
    "\n",
    "    gaussian_blurred_image = gaussian_blur(grayscale_image, gaussian_kernel_size)\n",
    "#    print (\"gaussian image\")\n",
    "#    plt.imshow(gaussian_blurred_image, cmap='gray')\n",
    "\n",
    "    canny_image = canny(gaussian_blurred_image, canny_low_threshold, canny_high_threshold)\n",
    "#    print (\"canny image\")\n",
    "    plt.imshow(canny_image, cmap='gray')\n",
    "    plt.imsave('canny.png', canny_image, format='png', cmap='gray')\n",
    "\n",
    "    masked_image = region_of_interest(canny_image, vertices)\n",
    "#    print (\"masked image\")\n",
    "#    plt.imshow(masked_image, cmap='gray')\n",
    "#    plt.show()\n",
    "\n",
    "    hough_image = hough_lines(masked_image, rho, theta, threshold, min_line_length, max_line_gap)\n",
    "#    print (\"hough image\")\n",
    "#    plt.imshow(hough_image, cmap='gray')\n",
    "#    plt.show()\n",
    "\n",
    "    weighted_image = weighted_img(hough_image, input_image)\n",
    "#    print (\"weighted image\")\n",
    "#    plt.imshow(weighted_image)\n",
    "    \n",
    "    return weighted_image\n",
    "\n",
    "'''\n",
    "NOTE : This section is used to test the pipeline against the set of test images provided\n",
    "'''\n",
    "\n",
    "images = os.listdir('test_images/')\n",
    "\n",
    "for image in images:\n",
    "    \n",
    "    if image[:6] != 'Output':\n",
    "        input_image = mpimg.imread('test_images/%s' % image)\n",
    "        print('processing image ', image)\n",
    "        prev_clip_data = [0, 0, 0, 0]\n",
    "        bottom_y = 0\n",
    "        output_image = pipeline(input_image)\n",
    "        output_img_name = 'Output2_' + image\n",
    "        print('output image name =', output_img_name)\n",
    "        mpimg.imsave('test_images/%s' % output_img_name, output_image)\n",
    "    else:\n",
    "        print('ignoring image ', image)\n",
    "\n",
    "print('dummy statement to make the above multiline comment work')"
   ]
  },
  {
   "cell_type": "code",
   "execution_count": null,
   "metadata": {
    "collapsed": true
   },
   "outputs": [],
   "source": []
  },
  {
   "cell_type": "markdown",
   "metadata": {
    "deletable": true,
    "editable": true
   },
   "source": [
    "## Test on Videos\n",
    "\n",
    "You know what's cooler than drawing lanes over images? Drawing lanes over video!\n",
    "\n",
    "We can test our solution on two provided videos:\n",
    "\n",
    "`solidWhiteRight.mp4`\n",
    "\n",
    "`solidYellowLeft.mp4`\n",
    "\n",
    "**Note: if you get an `import error` when you run the next cell, try changing your kernel (select the Kernel menu above --> Change Kernel).  Still have problems?  Try relaunching Jupyter Notebook from the terminal prompt. Also, check out [this forum post](https://carnd-forums.udacity.com/questions/22677062/answers/22677109) for more troubleshooting tips.**\n",
    "\n",
    "**If you get an error that looks like this:**\n",
    "```\n",
    "NeedDownloadError: Need ffmpeg exe. \n",
    "You can download it by calling: \n",
    "imageio.plugins.ffmpeg.download()\n",
    "```\n",
    "**Follow the instructions in the error message and check out [this forum post](https://carnd-forums.udacity.com/display/CAR/questions/26218840/import-videofileclip-error) for more troubleshooting tips across operating systems.**"
   ]
  },
  {
   "cell_type": "code",
   "execution_count": 6,
   "metadata": {
    "collapsed": true,
    "deletable": true,
    "editable": true
   },
   "outputs": [],
   "source": [
    "# Import everything needed to edit/save/watch video clips\n",
    "from moviepy.editor import VideoFileClip\n",
    "from IPython.display import HTML"
   ]
  },
  {
   "cell_type": "code",
   "execution_count": 7,
   "metadata": {
    "collapsed": true,
    "deletable": true,
    "editable": true
   },
   "outputs": [],
   "source": [
    "def process_image(image):\n",
    "    # NOTE: The output you return should be a color image (3 channel) for processing video below\n",
    "    # Calling pipeline that will return the final output (image where lines are drawn on lanes)\n",
    "        \n",
    "    result = pipeline(image)\n",
    "\n",
    "    return result"
   ]
  },
  {
   "cell_type": "markdown",
   "metadata": {
    "deletable": true,
    "editable": true
   },
   "source": [
    "Let's try the one with the solid white lane on the right first ..."
   ]
  },
  {
   "cell_type": "code",
   "execution_count": null,
   "metadata": {
    "collapsed": false,
    "deletable": true,
    "editable": true
   },
   "outputs": [],
   "source": [
    "prev_clip_data = [0, 0, 0, 0]\n",
    "bottom_y = 0\n",
    "white_output = 'white.mp4'\n",
    "clip1 = VideoFileClip(\"solidWhiteRight.mp4\")\n",
    "white_clip = clip1.fl_image(process_image) #NOTE: this function expects color images!!\n",
    "%time white_clip.write_videofile(white_output, audio=False)"
   ]
  },
  {
   "cell_type": "markdown",
   "metadata": {
    "deletable": true,
    "editable": true
   },
   "source": [
    "Play the video inline, or if you prefer find the video in your filesystem (should be in the same directory) and play it in your video player of choice."
   ]
  },
  {
   "cell_type": "code",
   "execution_count": null,
   "metadata": {
    "collapsed": false,
    "deletable": true,
    "editable": true
   },
   "outputs": [],
   "source": [
    "HTML(\"\"\"\n",
    "<video width=\"960\" height=\"540\" controls>\n",
    "  <source src=\"{0}\">\n",
    "</video>\n",
    "\"\"\".format(white_output))"
   ]
  },
  {
   "cell_type": "markdown",
   "metadata": {
    "deletable": true,
    "editable": true
   },
   "source": [
    "## Improve the draw_lines() function\n",
    "\n",
    "**At this point, if you were successful with making the pipeline and tuning parameters, you probably have the Hough line segments drawn onto the road, but what about identifying the full extent of the lane and marking it clearly as in the example video (P1_example.mp4)?  Think about defining a line to run the full length of the visible lane based on the line segments you identified with the Hough Transform. As mentioned previously, try to average and/or extrapolate the line segments you've detected to map out the full extent of the lane lines. You can see an example of the result you're going for in the video \"P1_example.mp4\".**\n",
    "\n",
    "**Go back and modify your draw_lines function accordingly and try re-running your pipeline. The new output should draw a single, solid line over the left lane line and a single, solid line over the right lane line. The lines should start from the bottom of the image and extend out to the top of the region of interest.**"
   ]
  },
  {
   "cell_type": "markdown",
   "metadata": {
    "deletable": true,
    "editable": true
   },
   "source": [
    "Now for the one with the solid yellow lane on the left. This one's more tricky!"
   ]
  },
  {
   "cell_type": "code",
   "execution_count": null,
   "metadata": {
    "collapsed": false,
    "deletable": true,
    "editable": true
   },
   "outputs": [],
   "source": [
    "prev_clip_data = [0, 0, 0, 0]\n",
    "bottom_y = 0\n",
    "yellow_output = 'yellow.mp4'\n",
    "clip2 = VideoFileClip('solidYellowLeft.mp4')\n",
    "yellow_clip = clip2.fl_image(process_image)\n",
    "%time yellow_clip.write_videofile(yellow_output, audio=False)"
   ]
  },
  {
   "cell_type": "code",
   "execution_count": null,
   "metadata": {
    "collapsed": false,
    "deletable": true,
    "editable": true
   },
   "outputs": [],
   "source": [
    "HTML(\"\"\"\n",
    "<video width=\"960\" height=\"540\" controls>\n",
    "  <source src=\"{0}\">\n",
    "</video>\n",
    "\"\"\".format(yellow_output))"
   ]
  },
  {
   "cell_type": "markdown",
   "metadata": {
    "deletable": true,
    "editable": true
   },
   "source": [
    "## Writeup and Submission\n",
    "\n",
    "If you're satisfied with your video outputs, it's time to make the report writeup in a pdf or markdown file. Once you have this Ipython notebook ready along with the writeup, it's time to submit for review! Here is a [link](https://github.com/udacity/CarND-LaneLines-P1/blob/master/writeup_template.md) to the writeup template file.\n"
   ]
  },
  {
   "cell_type": "markdown",
   "metadata": {
    "collapsed": true,
    "deletable": true,
    "editable": true
   },
   "source": [
    "## Optional Challenge\n",
    "\n",
    "Try your lane finding pipeline on the video below.  Does it still work?  Can you figure out a way to make it more robust?  If you're up for the challenge, modify your pipeline so it works with this video and submit it along with the rest of your project!"
   ]
  },
  {
   "cell_type": "code",
   "execution_count": 8,
   "metadata": {
    "collapsed": false,
    "deletable": true,
    "editable": true
   },
   "outputs": [
    {
     "name": "stdout",
     "output_type": "stream",
     "text": [
      "current clip data = [-0.64755553182738801, 847.071890243388, 0.60042114134009261, 25.609435434399138]\n",
      "[MoviePy] >>>> Building video extra.mp4\n",
      "[MoviePy] Writing video extra.mp4\n"
     ]
    },
    {
     "name": "stderr",
     "output_type": "stream",
     "text": [
      "\r",
      "  0%|                                                                                                                                                                                                             | 0/251 [00:00<?, ?it/s]"
     ]
    },
    {
     "name": "stdout",
     "output_type": "stream",
     "text": [
      "green data left = -0.673003802281 856.942965779\n",
      "green data right = 0.577380952381 43.9226190476\n",
      "green data right = 0.605095541401 27.5477707006\n",
      "green data left = -0.666666666667 862.333333333\n",
      "green data left = -0.666666666667 853.666666667\n",
      "green data right = 0.578431372549 38.637254902\n",
      "green data left = -0.64880952381 845.470238095\n",
      "current clip data = [-0.6605404382503236, 853.09701882361912, 0.59033225191783423, 33.929270021154352]\n"
     ]
    },
    {
     "name": "stderr",
     "output_type": "stream",
     "text": [
      "\r",
      "  0%|▊                                                                                                                                                                                                    | 1/251 [00:00<02:11,  1.91it/s]"
     ]
    },
    {
     "name": "stdout",
     "output_type": "stream",
     "text": [
      "green data left = -0.673306772908 856.693227092\n",
      "green data right = 0.592592592593 26.8888888889\n",
      "green data left = -0.68 868.2\n",
      "green data left = -0.627218934911 834.485207101\n",
      "green data left = -0.65625 849.96875\n",
      "current clip data = [-0.65946322921398748, 852.48884060316925, 0.59146242225521428, 30.409079455020628]\n"
     ]
    },
    {
     "name": "stderr",
     "output_type": "stream",
     "text": [
      "\r",
      "  1%|█▌                                                                                                                                                                                                   | 2/251 [00:00<02:04,  2.00it/s]"
     ]
    },
    {
     "name": "stdout",
     "output_type": "stream",
     "text": [
      "green data left = -0.670995670996 855.432900433\n",
      "green data left = -0.675496688742 857.927152318\n",
      "green data left = -0.675977653631 867.61452514\n",
      "green data left = -0.625 832.5\n",
      "green data right = 0.576271186441 44.7118644068\n",
      "green data right = 0.614035087719 17.5263157895\n",
      "green data left = -0.617647058824 829.617647059\n",
      "green data right = 0.615384615385 9.15384615384\n",
      "green data right = 0.575 43.8\n",
      "current clip data = [-0.65409671690103166, 849.26351092540597, 0.59443066235995945, 29.120221161025977]\n"
     ]
    },
    {
     "name": "stderr",
     "output_type": "stream",
     "text": [
      "\r",
      "  1%|██▎                                                                                                                                                                                                  | 3/251 [00:01<02:02,  2.03it/s]"
     ]
    },
    {
     "name": "stdout",
     "output_type": "stream",
     "text": [
      "green data left = -0.672811059908 857.239631336\n",
      "green data left = -0.666666666667 856.333333333\n",
      "green data left = -0.674157303371 872.415730337\n",
      "green data left = -0.648888888889 846.982222222\n",
      "green data right = 0.6 27.8\n",
      "green data left = -0.666666666667 856.0\n",
      "current clip data = [-0.663881217066978, 856.37240469240714, 0.5972153311799786, 28.460110580513721]\n"
     ]
    },
    {
     "name": "stderr",
     "output_type": "stream",
     "text": [
      "\r",
      "  2%|███▏                                                                                                                                                                                                 | 4/251 [00:01<01:50,  2.23it/s]"
     ]
    },
    {
     "name": "stdout",
     "output_type": "stream",
     "text": [
      "green data left = -0.649193548387 848.358870968\n",
      "green data left = -0.696 880.208\n",
      "green data left = -0.714285714286 870.714285714\n",
      "green data right = 0.597826086957 25.1847826087\n",
      "green data left = -0.738095238095 878.404761905\n",
      "green data left = -0.666666666667 863.666666667\n",
      "green data left = -0.652173913043 849.043478261\n",
      "green data left = -0.642857142857 846.857142857\n",
      "current clip data = [-0.67789418005028856, 861.70320138298428, 0.59752070906824994, 26.822446594604752]\n"
     ]
    },
    {
     "name": "stderr",
     "output_type": "stream",
     "text": [
      "\r",
      "  2%|███▉                                                                                                                                                                                                 | 5/251 [00:02<01:44,  2.35it/s]"
     ]
    },
    {
     "name": "stdout",
     "output_type": "stream",
     "text": [
      "green data left = -0.701492537313 883.119402985\n",
      "green data left = -0.672413793103 859.827586207\n",
      "green data left = -0.65 848.7\n",
      "green data left = -0.69512195122 871.719512195\n",
      "green data left = -0.669230769231 857.661538462\n",
      "green data left = -0.690909090909 880.963636364\n",
      "green data left = -0.642857142857 846.928571429\n",
      "green data left = -0.631578947368 842.842105263\n",
      "current clip data = [-0.67016649022801156, 861.49617269855344, 0.59752070906824994, 26.822446594604752]\n"
     ]
    },
    {
     "name": "stderr",
     "output_type": "stream",
     "text": [
      "\r",
      "  2%|████▋                                                                                                                                                                                                | 6/251 [00:02<01:40,  2.43it/s]"
     ]
    },
    {
     "name": "stdout",
     "output_type": "stream",
     "text": [
      "green data left = -0.672955974843 860.641509434\n",
      "green data left = -0.702830188679 884.603773585\n",
      "green data left = -0.638888888889 848.25\n",
      "green data left = -0.642857142857 847.714285714\n",
      "green data left = -0.692307692308 878.538461538\n",
      "green data left = -0.672413793103 862.0\n",
      "green data left = -0.673913043478 867.739130435\n",
      "green data right = 0.603305785124 22.173553719\n",
      "green data left = -0.651376146789 850.293577982\n",
      "green data left = -0.702380952381 885.69047619\n",
      "current clip data = [-0.67200903135553924, 864.69673875770718, 0.60041324709610844, 24.498000156806512]\n"
     ]
    },
    {
     "name": "stderr",
     "output_type": "stream",
     "text": [
      "\r",
      "  3%|█████▍                                                                                                                                                                                               | 7/251 [00:02<01:41,  2.41it/s]"
     ]
    },
    {
     "name": "stdout",
     "output_type": "stream",
     "text": [
      "green data left = -0.67619047619 863.514285714\n",
      "green data left = -0.673913043478 861.043478261\n",
      "green data left = -0.671641791045 860.970149254\n",
      "green data right = 0.621118012422 4.41614906832\n",
      "current clip data = [-0.6734385855172631, 862.55616299664848, 0.61076562975923454, 14.457074612564652]\n"
     ]
    },
    {
     "name": "stderr",
     "output_type": "stream",
     "text": [
      "\r",
      "  3%|██████▎                                                                                                                                                                                              | 8/251 [00:03<01:35,  2.53it/s]"
     ]
    },
    {
     "name": "stdout",
     "output_type": "stream",
     "text": [
      "green data left = -0.700421940928 874.113924051\n",
      "green data right = 0.597765363128 23.0335195531\n",
      "green data right = 0.647435897436 -10.4551282051\n",
      "green data left = -0.688888888889 870.377777778\n",
      "green data left = -0.695652173913 870.434782609\n",
      "green data left = -0.707317073171 880.0\n",
      "green data right = 0.625668449198 0.893048128343\n",
      "green data left = -0.69512195122 871.195121951\n",
      "current clip data = [-0.6934734356062856, 871.44629489749593, 0.62040883488037135, 6.9821285222125615]\n"
     ]
    },
    {
     "name": "stderr",
     "output_type": "stream",
     "text": [
      "\r",
      "  4%|███████                                                                                                                                                                                              | 9/251 [00:03<01:33,  2.58it/s]"
     ]
    },
    {
     "name": "stdout",
     "output_type": "stream",
     "text": [
      "green data left = -0.697674418605 874.162790698\n",
      "green data right = 0.605633802817 17.1267605634\n",
      "green data right = 0.640449438202 -4.25842696629\n",
      "green data right = 0.617021276596 7.06382978723\n",
      "green data left = -0.690476190476 870.738095238\n",
      "green data left = -0.666666666667 860.666666667\n",
      "green data right = 0.595744680851 29.3617021277\n",
      "green data right = 0.604938271605 19.012345679\n",
      "current clip data = [-0.68707267783844772, 869.25346187498269, 0.61403271749187882, 12.548056618866882]\n"
     ]
    },
    {
     "name": "stderr",
     "output_type": "stream",
     "text": [
      "\r",
      "  4%|███████▊                                                                                                                                                                                            | 10/251 [00:04<01:29,  2.68it/s]"
     ]
    },
    {
     "name": "stdout",
     "output_type": "stream",
     "text": [
      "green data left = -0.698689956332 875.043668122\n",
      "green data right = 0.622950819672 11.393442623\n",
      "green data right = 0.6 22.8\n",
      "green data right = 0.607843137255 16.5490196078\n",
      "green data right = 0.603053435115 20.7404580153\n",
      "green data left = -0.674418604651 869.139534884\n",
      "green data left = -0.652631578947 851.715789474\n",
      "green data right = 0.628571428571 5.22857142857\n",
      "green data left = -0.700336700337 877.393939394\n",
      "current clip data = [-0.68262990362111087, 868.50927874971944, 0.61274192301747521, 14.87659138224881]\n"
     ]
    },
    {
     "name": "stderr",
     "output_type": "stream",
     "text": [
      "\r",
      "  4%|████████▌                                                                                                                                                                                           | 11/251 [00:04<01:33,  2.58it/s]"
     ]
    },
    {
     "name": "stdout",
     "output_type": "stream",
     "text": [
      "green data left = -0.68085106383 867.276595745\n",
      "green data right = 0.601063829787 20.4414893617\n",
      "green data right = 0.622222222222 10.8444444444\n",
      "green data left = -0.698305084746 874.938983051\n",
      "green data right = 0.602739726027 17.4109589041\n",
      "green data left = -0.698181818182 874.207272727\n",
      "green data right = 0.634615384615 -2.88461538461\n",
      "green data right = 0.576086956522 39.3369565217\n",
      "current clip data = [-0.68999196759461978, 871.23303256813017, 0.60824500703190809, 16.67097087160548]\n"
     ]
    },
    {
     "name": "stderr",
     "output_type": "stream",
     "text": [
      "\r",
      "  5%|█████████▎                                                                                                                                                                                          | 12/251 [00:04<01:31,  2.61it/s]"
     ]
    },
    {
     "name": "stdout",
     "output_type": "stream",
     "text": [
      "green data right = 0.619718309859 13.0\n",
      "green data left = -0.698630136986 875.02739726\n",
      "green data right = 0.597402597403 23.2337662338\n",
      "green data right = 0.627906976744 5.23255813954\n",
      "green data right = 0.634615384615 -3.67307692308\n",
      "green data right = 0.58064516129 37.4838709677\n",
      "green data right = 0.613636363636 5.20454545455\n",
      "green data left = -0.689655172414 873.344827586\n",
      "green data left = -0.679389312977 866.541984733\n",
      "current clip data = [-0.68941664749295184, 871.53681053685841, 0.61173854293998731, 13.878947820588916]\n"
     ]
    },
    {
     "name": "stderr",
     "output_type": "stream",
     "text": [
      "\r",
      "  5%|██████████▏                                                                                                                                                                                         | 13/251 [00:05<01:27,  2.73it/s]"
     ]
    },
    {
     "name": "stdout",
     "output_type": "stream",
     "text": [
      "green data left = -0.698245614035 873.526315789\n",
      "green data left = -0.692307692308 872.384615385\n",
      "green data right = 0.619047619048 11.1428571429\n",
      "green data left = -0.697749196141 874.485530547\n",
      "green data right = 0.586206896552 33.0689655172\n",
      "green data left = -0.704081632653 883.714285714\n",
      "green data right = 0.608695652174 20.3913043478\n",
      "current clip data = [-0.69636015652605521, 875.12951159437182, 0.60642217767831008, 19.620518707129001]\n"
     ]
    },
    {
     "name": "stderr",
     "output_type": "stream",
     "text": [
      "\r",
      "  6%|██████████▉                                                                                                                                                                                         | 14/251 [00:05<01:32,  2.56it/s]"
     ]
    },
    {
     "name": "stdout",
     "output_type": "stream",
     "text": [
      "green data left = -0.697674418605 873.069767442\n",
      "green data right = 0.623188405797 3.31884057971\n",
      "green data right = 0.591836734694 36.6326530612\n",
      "green data left = -0.683333333333 869.633333333\n",
      "green data right = 0.615384615385 15.8461538462\n",
      "green data right = 0.590909090909 39.0\n",
      "green data left = -0.698412698413 874.761904762\n",
      "green data right = 0.584905660377 34.8301886792\n",
      "current clip data = [-0.69394515171918436, 873.14862928286743, 0.60210778080672656, 24.874725812243071]\n"
     ]
    },
    {
     "name": "stderr",
     "output_type": "stream",
     "text": [
      "\r",
      "  6%|███████████▋                                                                                                                                                                                        | 15/251 [00:06<01:43,  2.27it/s]"
     ]
    },
    {
     "name": "stdout",
     "output_type": "stream",
     "text": [
      "green data left = -0.698412698413 874.26984127\n",
      "green data left = -0.701149425287 876.114942529\n",
      "green data right = 0.625 1.375\n",
      "current clip data = [-0.69783575847307977, 874.51113769381482, 0.61355389040336528, 13.124862906119883]\n"
     ]
    },
    {
     "name": "stderr",
     "output_type": "stream",
     "text": [
      "\r",
      "  6%|████████████▍                                                                                                                                                                                       | 16/251 [00:06<01:45,  2.24it/s]"
     ]
    },
    {
     "name": "stdout",
     "output_type": "stream",
     "text": [
      "green data left = -0.72192513369 883.294117647\n",
      "green data left = -0.67816091954 868.459770115\n",
      "green data left = -0.728 895.08\n",
      "green data left = -0.720779220779 883.616883117\n",
      "green data left = -0.722222222222 894.055555556\n",
      "current clip data = [-0.71148720911743135, 883.16957735470896, 0.61355389040336528, 13.124862906119883]\n"
     ]
    },
    {
     "name": "stderr",
     "output_type": "stream",
     "text": [
      "\r",
      "  7%|█████████████▎                                                                                                                                                                                      | 17/251 [00:07<01:47,  2.18it/s]"
     ]
    },
    {
     "name": "stdout",
     "output_type": "stream",
     "text": [
      "green data left = -0.723214285714 884.732142857\n",
      "green data left = -0.751655629139 907.993377483\n",
      "green data left = -0.746268656716 906.731343284\n",
      "green data left = -0.7 873.2\n",
      "green data left = -0.741935483871 889.709677419\n",
      "green data left = -0.739130434783 903.826086957\n",
      "green data right = 0.621621621622 11.6756756757\n",
      "green data left = -0.7 873.8\n",
      "current clip data = [-0.72671146241759821, 890.39527566934453, 0.61758775601249305, 12.400269290898056]\n"
     ]
    },
    {
     "name": "stderr",
     "output_type": "stream",
     "text": [
      "\r",
      "  7%|██████████████                                                                                                                                                                                      | 18/251 [00:07<01:49,  2.12it/s]"
     ]
    },
    {
     "name": "stdout",
     "output_type": "stream",
     "text": [
      "green data left = -0.754098360656 908.655737705\n",
      "green data left = -0.722772277228 883.485148515\n",
      "green data left = -0.740740740741 905.851851852\n",
      "green data right = 0.632653061224 -3.18367346939\n",
      "green data left = -0.75355450237 909.236966825\n",
      "green data left = -0.736842105263 901.947368421\n",
      "green data left = -0.740740740741 893.148148148\n",
      "green data right = 0.618320610687 8.48091603053\n",
      "green data left = -0.736842105263 905.526315789\n",
      "current clip data = [-0.73903778683481502, 899.78085161553531, 0.62285380930800316, 5.8991706173470151]\n"
     ]
    },
    {
     "name": "stderr",
     "output_type": "stream",
     "text": [
      "\r",
      "  8%|██████████████▊                                                                                                                                                                                     | 19/251 [00:08<01:55,  2.02it/s]"
     ]
    },
    {
     "name": "stdout",
     "output_type": "stream",
     "text": [
      "green data left = -0.753333333333 910.0\n",
      "green data left = -0.700729927007 875.299270073\n",
      "green data left = -0.74358974359 905.358974359\n",
      "green data left = -0.727272727273 897.545454545\n",
      "green data right = 0.6 30.6\n",
      "green data left = -0.7 883.7\n",
      "green data left = -0.705882352941 878.529411765\n",
      "current clip data = [-0.72426369585415762, 892.88770890823798, 0.6114269046540004, 18.249585308674551]\n"
     ]
    },
    {
     "name": "stderr",
     "output_type": "stream",
     "text": [
      "\r",
      "  8%|███████████████▌                                                                                                                                                                                    | 20/251 [00:08<02:02,  1.88it/s]"
     ]
    },
    {
     "name": "stdout",
     "output_type": "stream",
     "text": [
      "green data left = -0.697452229299 874.00955414\n",
      "green data left = -0.753333333333 909.493333333\n",
      "green data left = -0.75 908.75\n",
      "green data left = -0.723926380368 883.803680982\n",
      "green data left = -0.759493670886 912.367088608\n",
      "current clip data = [-0.7347448849568381, 896.88522766181461, 0.6114269046540004, 18.249585308674551]\n"
     ]
    },
    {
     "name": "stderr",
     "output_type": "stream",
     "text": [
      "\r",
      "  8%|████████████████▍                                                                                                                                                                                   | 21/251 [00:09<01:56,  1.97it/s]"
     ]
    },
    {
     "name": "stdout",
     "output_type": "stream",
     "text": [
      "green data left = -0.700440528634 873.449339207\n",
      "green data left = -0.753333333333 909.0\n",
      "green data right = 0.62 13.2\n",
      "green data left = -0.754266211604 907.771331058\n",
      "green data left = -0.698360655738 872.954098361\n",
      "current clip data = [-0.72822912285326669, 892.01199925750791, 0.61571345232700014, 15.724792654337332]\n"
     ]
    },
    {
     "name": "stderr",
     "output_type": "stream",
     "text": [
      "\r",
      "  9%|█████████████████▏                                                                                                                                                                                  | 22/251 [00:09<01:48,  2.11it/s]"
     ]
    },
    {
     "name": "stdout",
     "output_type": "stream",
     "text": [
      "green data left = -0.701030927835 873.87628866\n",
      "green data left = -0.753378378378 908.506756757\n",
      "green data right = 0.593984962406 29.6691729323\n",
      "green data right = 0.601503759398 32.1052631579\n",
      "green data left = -0.688524590164 870.754098361\n",
      "green data left = -0.699570815451 873.755364807\n",
      "green data right = 0.6 25.4\n",
      "green data left = -0.753424657534 907.767123288\n",
      "green data right = 0.612903225806 11.8709677419\n",
      "green data right = 0.619047619048 8.19047619048\n",
      "current clip data = [-0.72069308203591975, 887.77860518820864, 0.60719216983093116, 20.493445446161981]\n"
     ]
    },
    {
     "name": "stderr",
     "output_type": "stream",
     "text": [
      "\r",
      "  9%|█████████████████▉                                                                                                                                                                                  | 23/251 [00:10<01:49,  2.09it/s]"
     ]
    },
    {
     "name": "stdout",
     "output_type": "stream",
     "text": [
      "green data left = -0.698996655518 873.428093645\n",
      "green data left = -0.753378378378 909.013513514\n",
      "green data right = 0.620689655172 13.4827586207\n",
      "green data left = -0.754325259516 907.788927336\n",
      "green data left = -0.686274509804 870.647058824\n",
      "green data right = 0.57671957672 45.3756613757\n",
      "current clip data = [-0.7227335770504375, 889.7312397012754, 0.60153380057430672, 26.450621814171658]\n"
     ]
    },
    {
     "name": "stderr",
     "output_type": "stream",
     "text": [
      "\r",
      " 10%|██████████████████▋                                                                                                                                                                                 | 24/251 [00:10<01:46,  2.14it/s]"
     ]
    },
    {
     "name": "stdout",
     "output_type": "stream",
     "text": [
      "green data left = -0.697674418605 872.372093023\n",
      "green data left = -0.752542372881 907.257627119\n",
      "green data right = 0.622950819672 12.0163934426\n",
      "green data left = -0.698630136986 871.931506849\n",
      "green data right = 0.576923076923 46.1538461538\n",
      "green data left = -0.754189944134 908.502793296\n",
      "green data right = 0.619834710744 14.2561983471\n",
      "green data right = 0.575163398693 46.9215686275\n",
      "green data left = -0.703389830508 881.661016949\n",
      "current clip data = [-0.72152671336088314, 888.57604615628873, 0.59928116132122544, 29.159725677039916]\n"
     ]
    },
    {
     "name": "stderr",
     "output_type": "stream",
     "text": [
      "\r",
      " 10%|███████████████████▌                                                                                                                                                                                | 25/251 [00:10<01:37,  2.31it/s]"
     ]
    },
    {
     "name": "stdout",
     "output_type": "stream",
     "text": [
      "green data left = -0.755813953488 909.23255814\n",
      "green data left = -0.701298701299 873.727272727\n",
      "green data left = -0.678260869565 868.486956522\n",
      "green data right = 0.615384615385 19.6923076923\n",
      "green data right = 0.619047619048 6.95238095238\n",
      "green data left = -0.753086419753 906.814814815\n",
      "green data left = -0.69696969697 872.727272727\n",
      "green data left = -0.72131147541 881.196721311\n",
      "green data right = 0.622807017544 6.72807017544\n",
      "green data left = -0.676056338028 865.718309859\n",
      "green data left = -0.72192513369 882.957219251\n",
      "green data left = -0.741379310345 902.086206897\n",
      "green data right = 0.626666666667 7.76\n",
      "current clip data = [-0.71676286119086385, 885.15233784054453, 0.61663741599279753, 14.058496899433113]\n"
     ]
    },
    {
     "name": "stderr",
     "output_type": "stream",
     "text": [
      "\r",
      " 10%|████████████████████▎                                                                                                                                                                               | 26/251 [00:11<01:34,  2.39it/s]"
     ]
    },
    {
     "name": "stdout",
     "output_type": "stream",
     "text": [
      "green data left = -0.753926701571 906.293193717\n",
      "green data left = -0.700854700855 871.461538462\n",
      "green data left = -0.71 876.95\n",
      "green data left = -0.755555555556 908.666666667\n",
      "green data left = -0.679012345679 867.333333333\n",
      "green data left = -0.724137931034 895.620689655\n",
      "green data left = -0.701219512195 872.475609756\n",
      "green data right = 0.633333333333 -0.500000000005\n",
      "green data right = 0.623188405797 5.69565217391\n",
      "green data left = -0.744680851064 902.489361702\n",
      "green data left = -0.740740740741 887.592592593\n",
      "current clip data = [-0.72268911998849927, 887.40353237253532, 0.62438638504107946, 6.4180496911133806]\n"
     ]
    },
    {
     "name": "stderr",
     "output_type": "stream",
     "text": [
      "\r",
      " 11%|█████████████████████                                                                                                                                                                               | 27/251 [00:11<01:34,  2.36it/s]"
     ]
    },
    {
     "name": "stdout",
     "output_type": "stream",
     "text": [
      "green data left = -0.722222222222 881.444444444\n",
      "green data left = -0.753731343284 907.104477612\n",
      "green data left = -0.726666666667 893.093333333\n",
      "green data left = -0.714285714286 879.285714286\n",
      "green data left = -0.738461538462 899.246153846\n",
      "green data right = 0.625 3.75\n",
      "green data right = 0.655172413793 -12.7931034483\n",
      "green data left = -0.717171717172 879.818181818\n",
      "green data left = -0.681818181818 863.772727273\n",
      "green data left = -0.710526315789 885.736842105\n",
      "current clip data = [-0.72084142440973276, 886.32282301003249, 0.63485293294472467, -0.87501791905175941]\n"
     ]
    },
    {
     "name": "stderr",
     "output_type": "stream",
     "text": [
      "\r",
      " 11%|█████████████████████▊                                                                                                                                                                              | 28/251 [00:12<01:46,  2.09it/s]"
     ]
    },
    {
     "name": "stdout",
     "output_type": "stream",
     "text": [
      "green data left = -0.700534759358 871.390374332\n",
      "green data left = -0.751724137931 905.006896552\n",
      "green data left = -0.755319148936 905.308510638\n",
      "green data left = -0.675675675676 865.540540541\n",
      "green data left = -0.741379310345 886.155172414\n",
      "green data right = 0.657142857143 -15.5714285714\n",
      "green data left = -0.722222222222 880.166666667\n",
      "green data right = 0.625 4.5\n",
      "current clip data = [-0.72395666841113648, 885.69871202180082, 0.6389985966958589, -3.9821488301586894]\n"
     ]
    },
    {
     "name": "stderr",
     "output_type": "stream",
     "text": [
      "\r",
      " 12%|██████████████████████▋                                                                                                                                                                             | 29/251 [00:12<01:51,  2.00it/s]"
     ]
    },
    {
     "name": "stdout",
     "output_type": "stream",
     "text": [
      "green data left = -0.697841726619 870.625899281\n",
      "green data left = -0.750889679715 902.758007117\n",
      "green data left = -0.752650176678 905.279151943\n",
      "green data right = 0.625 4.375\n",
      "green data left = -0.700534759358 870.780748663\n",
      "green data right = 0.651162790698 -10.1162790698\n",
      "current clip data = [-0.7251746021563753, 887.02850380527548, 0.63838712913117768, -3.2411426333087499]\n"
     ]
    },
    {
     "name": "stderr",
     "output_type": "stream",
     "text": [
      "\r",
      " 12%|███████████████████████▍                                                                                                                                                                            | 30/251 [00:13<01:52,  1.96it/s]"
     ]
    },
    {
     "name": "stdout",
     "output_type": "stream",
     "text": [
      "green data left = -0.752688172043 904.032258065\n",
      "green data left = -0.699619771863 871.098859316\n",
      "green data left = -0.751773049645 904.517730496\n",
      "green data left = -0.700787401575 870.299212598\n",
      "green data right = 0.619402985075 8.69402985075\n",
      "green data right = 0.652482269504 -17.134751773\n",
      "current clip data = [-0.72600859945653928, 887.39531285605187, 0.63675746123645027, -3.8939548518707556]\n"
     ]
    },
    {
     "name": "stderr",
     "output_type": "stream",
     "text": [
      "\r",
      " 12%|████████████████████████▏                                                                                                                                                                           | 31/251 [00:13<01:51,  1.97it/s]"
     ]
    },
    {
     "name": "stdout",
     "output_type": "stream",
     "text": [
      "green data left = -0.7 868.7\n",
      "green data left = -0.751824817518 902.781021898\n",
      "green data left = -0.684210526316 864.210526316\n",
      "green data left = -0.674074074074 864.859259259\n",
      "green data right = 0.625766871166 3.1963190184\n",
      "green data left = -0.700892857143 869.839285714\n",
      "green data left = -0.752747252747 902.554945055\n",
      "current clip data = [-0.71282258960782241, 880.04862158544836, 0.63126216620104758, -0.34881791673322904]\n"
     ]
    },
    {
     "name": "stderr",
     "output_type": "stream",
     "text": [
      "\r",
      " 13%|████████████████████████▉                                                                                                                                                                           | 32/251 [00:14<01:55,  1.90it/s]"
     ]
    },
    {
     "name": "stdout",
     "output_type": "stream",
     "text": [
      "green data left = -0.697777777778 867.817777778\n",
      "green data left = -0.73 894.24\n",
      "green data left = -0.701863354037 879.310559006\n",
      "green data left = -0.72 889.0\n",
      "green data right = 0.611940298507 23.9701492537\n",
      "green data left = -0.728813559322 894.627118644\n",
      "green data left = -0.681818181818 870.318181818\n",
      "green data right = 0.668831168831 -24.9480519481\n",
      "current clip data = [-0.71044220893758303, 882.19460840452643, 0.6373445445132262, -0.44224020368444883]\n"
     ]
    },
    {
     "name": "stderr",
     "output_type": "stream",
     "text": [
      "\r",
      " 13%|█████████████████████████▊                                                                                                                                                                          | 33/251 [00:15<01:56,  1.88it/s]"
     ]
    },
    {
     "name": "stdout",
     "output_type": "stream",
     "text": [
      "green data left = -0.697115384615 866.947115385\n",
      "green data left = -0.751633986928 900.470588235\n",
      "green data right = 0.647058823529 -8.11764705882\n",
      "green data left = -0.677966101695 868.305084746\n",
      "green data right = 0.666666666667 -23.6666666667\n",
      "green data right = 0.622641509434 5.64150943396\n",
      "green data left = -0.740740740741 897.296296296\n",
      "green data left = -0.675675675676 864.756756757\n",
      "green data left = -0.666666666667 858.333333333\n",
      "green data left = -0.690476190476 874.5\n",
      "green data left = -0.705202312139 881.300578035\n",
      "green data right = 0.626262626263 12.0606060606\n",
      "current clip data = [-0.70176880754155357, 877.12270679902917, 0.63999483408117785, -2.9048876869204983]\n"
     ]
    },
    {
     "name": "stderr",
     "output_type": "stream",
     "text": [
      "\r",
      " 14%|██████████████████████████▌                                                                                                                                                                         | 34/251 [00:15<02:02,  1.77it/s]"
     ]
    },
    {
     "name": "stdout",
     "output_type": "stream",
     "text": [
      "green data left = -0.673796791444 857.807486631\n",
      "green data left = -0.736111111111 895.527777778\n",
      "green data left = -0.701030927835 879.81443299\n",
      "green data right = 0.625 14.375\n",
      "green data left = -0.714285714286 887.0\n",
      "green data left = -0.679245283019 862.283018868\n",
      "green data right = 0.622641509434 4.90566037736\n",
      "green data left = -0.714285714286 887.571428571\n",
      "green data left = -0.694915254237 877.423728814\n",
      "green data left = -0.6735395189 858.773195876\n",
      "green data right = 0.608695652174 16.9130434783\n",
      "green data left = -0.6875 876.0\n",
      "current clip data = [-0.69764791226594869, 875.93237763267098, 0.62408299892226404, 8.3222040421741248]\n"
     ]
    },
    {
     "name": "stderr",
     "output_type": "stream",
     "text": [
      "\r",
      " 14%|███████████████████████████▎                                                                                                                                                                        | 35/251 [00:16<02:03,  1.75it/s]"
     ]
    },
    {
     "name": "stdout",
     "output_type": "stream",
     "text": [
      "green data left = -0.725694444444 891.097222222\n",
      "green data left = -0.673267326733 857.792079208\n",
      "green data right = 0.622754491018 16.2574850299\n",
      "green data left = -0.66 853.86\n",
      "green data left = -0.65 853.65\n",
      "green data left = -0.651685393258 853.134831461\n",
      "green data right = 0.65 -11.75\n",
      "green data left = -0.722543352601 889.034682081\n",
      "green data right = 0.648936170213 -13.829787234\n",
      "green data left = -0.652777777778 852.458333333\n",
      "green data right = 0.614583333333 22.8541666667\n",
      "current clip data = [-0.67920202588505296, 865.86994074221786, 0.63207139869726503, 4.3708137009483181]\n"
     ]
    },
    {
     "name": "stderr",
     "output_type": "stream",
     "text": [
      "\r",
      " 14%|████████████████████████████                                                                                                                                                                        | 36/251 [00:16<02:07,  1.68it/s]"
     ]
    },
    {
     "name": "stdout",
     "output_type": "stream",
     "text": [
      "green data left = -0.671428571429 856.885714286\n",
      "green data left = -0.701149425287 880.494252874\n",
      "green data left = -0.699507389163 880.162561576\n",
      "green data left = -0.674757281553 857.548543689\n",
      "green data left = -0.676829268293 867.926829268\n",
      "green data right = 0.659090909091 -19.1818181818\n",
      "green data left = -0.681818181818 876.318181818\n",
      "current clip data = [-0.68352744906111529, 869.31514632194933, 0.64558115389408788, -7.4055022404357302]\n"
     ]
    },
    {
     "name": "stderr",
     "output_type": "stream",
     "text": [
      "\r",
      " 15%|████████████████████████████▉                                                                                                                                                                       | 37/251 [00:17<02:01,  1.76it/s]"
     ]
    },
    {
     "name": "stdout",
     "output_type": "stream",
     "text": [
      "green data left = -0.724279835391 889.563786008\n",
      "green data left = -0.674418604651 857.325581395\n",
      "green data left = -0.674074074074 857.911111111\n",
      "green data left = -0.7 880.3\n",
      "green data left = -0.722222222222 889.611111111\n",
      "green data right = 0.628571428571 9.37142857143\n",
      "green data left = -0.719298245614 890.421052632\n",
      "current clip data = [-0.69968863300193729, 876.34968408276188, 0.63707629123275911, 0.98296316549544382]\n"
     ]
    },
    {
     "name": "stderr",
     "output_type": "stream",
     "text": [
      "\r",
      " 15%|█████████████████████████████▋                                                                                                                                                                      | 38/251 [00:17<01:59,  1.78it/s]"
     ]
    },
    {
     "name": "stdout",
     "output_type": "stream",
     "text": [
      "green data left = -0.723076923077 889.215384615\n",
      "green data left = -0.671641791045 856.268656716\n",
      "green data left = -0.696774193548 879.4\n",
      "green data left = -0.670212765957 863.521276596\n",
      "green data left = -0.678082191781 859.301369863\n",
      "green data right = 0.602739726027 22.2054794521\n",
      "green data left = -0.701030927835 879.216494845\n",
      "green data right = 0.607142857143 24.3214285714\n",
      "current clip data = [-0.69150106089219221, 871.89612381695486, 0.61565295813433785, 15.836623729659648]\n"
     ]
    },
    {
     "name": "stderr",
     "output_type": "stream",
     "text": [
      "\r",
      " 16%|██████████████████████████████▍                                                                                                                                                                     | 39/251 [00:18<01:58,  1.78it/s]"
     ]
    },
    {
     "name": "stdout",
     "output_type": "stream",
     "text": [
      "green data left = -0.671936758893 856.343873518\n",
      "green data left = -0.724738675958 889.825783972\n",
      "green data left = -0.720430107527 888.569892473\n",
      "green data left = -0.716417910448 888.850746269\n",
      "green data left = -0.674418604651 858.348837209\n",
      "green data left = -0.675257731959 867.309278351\n",
      "green data right = 0.605263157895 19.7105263158\n",
      "green data left = -0.717948717949 888.153846154\n",
      "green data right = 0.625 4.75\n",
      "current clip data = [-0.69908119603461794, 876.16229772028794, 0.61530537200969171, 13.432383348483031]\n"
     ]
    },
    {
     "name": "stderr",
     "output_type": "stream",
     "text": [
      "\r",
      " 16%|███████████████████████████████▏                                                                                                                                                                    | 40/251 [00:18<01:51,  1.89it/s]"
     ]
    },
    {
     "name": "stdout",
     "output_type": "stream",
     "text": [
      "green data left = -0.72380952381 889.838095238\n",
      "green data left = -0.708333333333 886.916666667\n",
      "green data left = -0.717391304348 888.108695652\n",
      "green data right = 0.628571428571 0.914285714287\n",
      "green data left = -0.690476190476 863.5\n",
      "green data left = -0.658536585366 854.243902439\n",
      "green data left = -0.717391304348 887.130434783\n",
      "green data left = -0.695652173913 877.782608696\n",
      "green data left = -0.659090909091 851.909090909\n",
      "green data left = -0.703488372093 880.593023256\n",
      "current clip data = [-0.69732508928121395, 875.6184815359411, 0.62193840029055902, 7.1733345313851871]\n"
     ]
    },
    {
     "name": "stderr",
     "output_type": "stream",
     "text": [
      "\r",
      " 16%|████████████████████████████████                                                                                                                                                                    | 41/251 [00:19<01:43,  2.02it/s]"
     ]
    },
    {
     "name": "stdout",
     "output_type": "stream",
     "text": [
      "green data left = -0.7 879.0\n",
      "green data left = -0.691358024691 876.49382716\n",
      "green data left = -0.658536585366 851.268292683\n",
      "green data left = -0.711111111111 884.444444444\n",
      "green data left = -0.721649484536 890.773195876\n",
      "green data left = -0.65625 853.3125\n",
      "green data right = 0.647058823529 -12.7647058824\n",
      "green data left = -0.703703703704 885.592592593\n",
      "green data right = 0.645669291339 -12.8818897638\n",
      "green data left = -0.685714285714 877.742857143\n",
      "green data left = -0.654545454545 850.981818182\n",
      "current clip data = [-0.68801937389490608, 872.52280096173615, 0.63822217171951778, -6.1577537049158559]\n"
     ]
    },
    {
     "name": "stderr",
     "output_type": "stream",
     "text": [
      "\r",
      " 17%|████████████████████████████████▊                                                                                                                                                                   | 42/251 [00:19<01:36,  2.17it/s]"
     ]
    },
    {
     "name": "stdout",
     "output_type": "stream",
     "text": [
      "green data left = -0.694444444444 879.0\n",
      "green data left = -0.722891566265 889.578313253\n",
      "green data left = -0.674641148325 858.708133971\n",
      "green data right = 0.622641509434 14.0188679245\n",
      "green data left = -0.674311926606 868.747706422\n",
      "green data right = 0.65 -14.2\n",
      "green data left = -0.670967741935 856.096774194\n",
      "green data right = 0.645833333333 -11.9375\n",
      "green data right = 0.64 -9.16\n",
      "current clip data = [-0.68754603357845934, 870.77562146693424, 0.6393394028973638, -5.4872771560783278]\n"
     ]
    },
    {
     "name": "stderr",
     "output_type": "stream",
     "text": [
      "\r",
      " 17%|█████████████████████████████████▌                                                                                                                                                                  | 43/251 [00:20<01:30,  2.30it/s]"
     ]
    },
    {
     "name": "stdout",
     "output_type": "stream",
     "text": [
      "green data left = -0.7 880.9\n",
      "green data left = -0.666666666667 856.333333333\n",
      "green data left = -0.671497584541 857.574879227\n",
      "green data left = -0.678571428571 875.321428571\n",
      "green data left = -0.68 875.04\n",
      "current clip data = [-0.68071361889293536, 869.32421043312445, 0.6393394028973638, -5.4872771560783278]\n"
     ]
    },
    {
     "name": "stderr",
     "output_type": "stream",
     "text": [
      "\r",
      " 18%|██████████████████████████████████▎                                                                                                                                                                 | 44/251 [00:20<01:22,  2.50it/s]"
     ]
    },
    {
     "name": "stdout",
     "output_type": "stream",
     "text": [
      "green data left = -0.649253731343 850.149253731\n",
      "green data left = -0.698170731707 880.487804878\n",
      "green data left = -0.706666666667 885.693333333\n",
      "green data left = -0.66 855.28\n",
      "green data right = 0.648484848485 -9.82424242424\n",
      "green data left = -0.698795180723 882.457831325\n",
      "green data left = -0.655172413793 852.862068966\n",
      "current clip data = [-0.67839604901802819, 868.03635752380967, 0.64391212569110678, -7.6557597901609018]\n"
     ]
    },
    {
     "name": "stderr",
     "output_type": "stream",
     "text": [
      "\r",
      " 18%|███████████████████████████████████▏                                                                                                                                                                | 45/251 [00:20<01:19,  2.60it/s]"
     ]
    },
    {
     "name": "stdout",
     "output_type": "stream",
     "text": [
      "green data left = -0.672932330827 860.635338346\n",
      "green data left = -0.6996996997 883.315315315\n",
      "green data left = -0.668639053254 859.810650888\n",
      "green data left = -0.700636942675 882.687898089\n",
      "green data left = -0.685185185185 879.611111111\n",
      "green data right = 0.666666666667 -27.3333333333\n",
      "green data right = 0.619469026549 14.2123893805\n",
      "current clip data = [-0.68424821010993009, 872.34944521214129, 0.64334927296881561, -6.9255679143211539]\n"
     ]
    },
    {
     "name": "stderr",
     "output_type": "stream",
     "text": [
      "\r",
      " 18%|███████████████████████████████████▉                                                                                                                                                                | 46/251 [00:21<01:15,  2.70it/s]"
     ]
    },
    {
     "name": "stdout",
     "output_type": "stream",
     "text": [
      "green data left = -0.673139158576 862.035598706\n",
      "green data left = -0.722727272727 893.145454545\n",
      "green data left = -0.676691729323 870.902255639\n",
      "green data left = -0.721804511278 894.248120301\n",
      "green data right = 0.633333333333 0.533333333333\n",
      "green data left = -0.6484375 849.1171875\n",
      "green data right = 0.670731707317 -30.9512195122\n",
      "current clip data = [-0.68784139700245961, 873.63301031715764, 0.64913810453974141, -12.447818031061665]\n"
     ]
    },
    {
     "name": "stderr",
     "output_type": "stream",
     "text": [
      "\r",
      " 19%|████████████████████████████████████▋                                                                                                                                                               | 47/251 [00:21<01:13,  2.79it/s]"
     ]
    },
    {
     "name": "stdout",
     "output_type": "stream",
     "text": [
      "green data left = -0.671974522293 861.729299363\n",
      "green data left = -0.723247232472 895.841328413\n",
      "green data left = -0.725490196078 895.392156863\n",
      "green data right = 0.636363636364 0.454545454544\n",
      "green data left = -0.656565656566 859.696969697\n",
      "green data right = 0.642105263158 -8.81052631579\n",
      "green data right = 0.622641509434 11.5094339623\n",
      "current clip data = [-0.69302380088237359, 877.25855293064308, 0.63756212837380899, -2.3235912325106609]\n"
     ]
    },
    {
     "name": "stderr",
     "output_type": "stream",
     "text": [
      "\r",
      " 19%|█████████████████████████████████████▍                                                                                                                                                              | 48/251 [00:21<01:10,  2.86it/s]"
     ]
    },
    {
     "name": "stdout",
     "output_type": "stream",
     "text": [
      "green data left = -0.673981191223 862.931034483\n",
      "green data left = -0.725806451613 896.935483871\n",
      "green data right = 0.619718309859 14.014084507\n",
      "green data left = -0.723849372385 894.916317992\n",
      "green data left = -0.673913043478 862.108695652\n",
      "green data left = -0.666666666667 865.666666667\n",
      "green data left = -0.661538461538 859.815384615\n",
      "current clip data = [-0.68839699825516765, 874.23316231574665, 0.62864021911648205, 5.8452466372657046]\n"
     ]
    },
    {
     "name": "stderr",
     "output_type": "stream",
     "text": [
      "\r",
      " 20%|██████████████████████████████████████▎                                                                                                                                                             | 49/251 [00:22<01:07,  2.99it/s]"
     ]
    },
    {
     "name": "stdout",
     "output_type": "stream",
     "text": [
      "green data left = -0.724919093851 895.951456311\n",
      "green data left = -0.673913043478 863.586956522\n",
      "green data right = 0.610169491525 23.7288135593\n",
      "green data left = -0.69587628866 871.670103093\n",
      "green data left = -0.726708074534 896.341614907\n",
      "green data right = 0.65625 -19.0625\n",
      "green data right = 0.604166666667 30.8333333333\n",
      "current clip data = [-0.70196269975570336, 880.35665862955625, 0.62480659432714225, 10.3362233824811]\n"
     ]
    },
    {
     "name": "stderr",
     "output_type": "stream",
     "text": [
      "\r",
      " 20%|███████████████████████████████████████                                                                                                                                                             | 50/251 [00:22<01:05,  3.08it/s]"
     ]
    },
    {
     "name": "stdout",
     "output_type": "stream",
     "text": [
      "green data left = -0.728155339806 897.436893204\n",
      "green data left = -0.695364238411 871.357615894\n",
      "green data left = -0.674418604651 863.88372093\n",
      "green data left = -0.714285714286 894.142857143\n",
      "green data left = -0.676470588235 865.441176471\n",
      "green data left = -0.725806451613 897.387096774\n",
      "green data right = 0.625 4.875\n",
      "green data left = -0.684210526316 868.473684211\n",
      "green data left = -0.703703703704 887.296296296\n",
      "green data left = -0.72 897.12\n",
      "green data left = -0.696078431373 873.401960784\n",
      "current clip data = [-0.70185966346811235, 881.4816327578618, 0.62490329716356996, 7.6056116912414833]\n"
     ]
    },
    {
     "name": "stderr",
     "output_type": "stream",
     "text": [
      "\r",
      " 20%|███████████████████████████████████████▊                                                                                                                                                            | 51/251 [00:22<01:04,  3.09it/s]"
     ]
    },
    {
     "name": "stdout",
     "output_type": "stream",
     "text": [
      "green data left = -0.724919093851 896.401294498\n",
      "green data left = -0.69696969697 872.181818182\n",
      "green data left = -0.726804123711 895.81443299\n",
      "green data right = 0.626506024096 2.14457831325\n",
      "green data left = -0.666666666667 859.0\n",
      "green data left = -0.700680272109 872.884353741\n",
      "green data left = -0.748251748252 905.475524476\n",
      "current clip data = [-0.70945018071821908, 883.3198652349671, 0.62570466062997743, 4.8750950022473827]\n"
     ]
    },
    {
     "name": "stderr",
     "output_type": "stream",
     "text": [
      "\r",
      " 21%|████████████████████████████████████████▌                                                                                                                                                           | 52/251 [00:23<01:03,  3.16it/s]"
     ]
    },
    {
     "name": "stdout",
     "output_type": "stream",
     "text": [
      "green data left = -0.724919093851 896.676375405\n",
      "green data left = -0.696428571429 873.321428571\n",
      "green data left = -0.715909090909 878.738636364\n",
      "green data left = -0.681818181818 867.0\n",
      "green data right = 0.625 5.0\n",
      "green data left = -0.674641148325 863.61722488\n",
      "green data right = 0.631578947368 6.57894736842\n",
      "green data left = -0.678571428571 866.178571429\n",
      "green data left = -0.708333333333 892.375\n",
      "current clip data = [-0.69875887861941444, 877.65338773543965, 0.62742786933279826, 5.4846807902237993]\n"
     ]
    },
    {
     "name": "stderr",
     "output_type": "stream",
     "text": [
      "\r",
      " 21%|█████████████████████████████████████████▍                                                                                                                                                          | 53/251 [00:23<01:05,  3.02it/s]"
     ]
    },
    {
     "name": "stdout",
     "output_type": "stream",
     "text": [
      "green data left = -0.724919093851 894.951456311\n",
      "green data left = -0.69298245614 871.070175439\n",
      "green data left = -0.676767676768 863.343434343\n",
      "green data left = -0.72972972973 899.864864865\n",
      "green data left = -0.725239616613 895.769968051\n",
      "green data right = 0.643564356436 -10.6732673267\n",
      "green data left = -0.678260869565 863.6\n",
      "green data left = -0.650602409639 855.759036145\n",
      "green data right = 0.642857142857 -11.2857142857\n",
      "current clip data = [-0.69715759136568667, 877.7515403610887, 0.63794978954186154, -5.491433607407628]\n"
     ]
    },
    {
     "name": "stderr",
     "output_type": "stream",
     "text": [
      "\r",
      " 22%|██████████████████████████████████████████▏                                                                                                                                                         | 54/251 [00:23<01:20,  2.45it/s]"
     ]
    },
    {
     "name": "stdout",
     "output_type": "stream",
     "text": [
      "green data left = -0.696261682243 872.588785047\n",
      "green data left = -0.726384364821 896.830618893\n",
      "green data left = -0.72641509434 895.943396226\n",
      "green data right = 0.624060150376 4.57142857143\n",
      "green data right = 0.620689655172 15.724137931\n",
      "green data left = -0.711538461538 877.75\n",
      "green data left = -0.695652173913 870.826086957\n",
      "green data left = -0.733333333333 882.2\n",
      "green data left = -0.743902439024 888.085365854\n",
      "current clip data = [-0.71633064257229706, 882.74697416711513, 0.62756653169673837, 4.9347109650186232]\n"
     ]
    },
    {
     "name": "stderr",
     "output_type": "stream",
     "text": [
      "\r",
      " 22%|██████████████████████████████████████████▉                                                                                                                                                         | 55/251 [00:24<01:27,  2.25it/s]"
     ]
    },
    {
     "name": "stdout",
     "output_type": "stream",
     "text": [
      "green data left = -0.69741697417 873.302583026\n",
      "green data left = -0.75 907.25\n",
      "green data left = -0.746987951807 904.855421687\n",
      "green data right = 0.642857142857 -11.8571428571\n",
      "green data right = 0.616438356164 18.5205479452\n",
      "green data right = 0.649425287356 -16.4827586207\n",
      "green data right = 0.59748427673 26.4716981132\n",
      "green data left = -0.676470588235 869.705882353\n",
      "current clip data = [-0.71744123135691251, 887.57217224652663, 0.62675431896082878, 4.3174111091201413]\n"
     ]
    },
    {
     "name": "stderr",
     "output_type": "stream",
     "text": [
      "\r",
      " 22%|███████████████████████████████████████████▋                                                                                                                                                        | 56/251 [00:25<01:32,  2.10it/s]"
     ]
    },
    {
     "name": "stdout",
     "output_type": "stream",
     "text": [
      "green data left = -0.698473282443 872.58778626\n",
      "green data left = -0.727777777778 896.027777778\n",
      "green data left = -0.731707317073 899.12195122\n",
      "green data right = 0.602040816327 23.4795918367\n",
      "green data right = 0.617647058824 7.02941176471\n",
      "green data left = -0.734693877551 901.673469388\n",
      "green data right = 0.625 3.0\n",
      "green data left = -0.73417721519 899.708860759\n",
      "green data left = -0.6875 870.0625\n",
      "green data right = 0.623655913978 3.76344086021\n",
      "current clip data = [-0.71882438591307196, 889.5363596643723, 0.6190196216178756, 8.3179711141561832]\n"
     ]
    },
    {
     "name": "stderr",
     "output_type": "stream",
     "text": [
      "\r",
      " 23%|████████████████████████████████████████████▌                                                                                                                                                       | 57/251 [00:25<01:38,  1.96it/s]"
     ]
    },
    {
     "name": "stdout",
     "output_type": "stream",
     "text": [
      "green data left = -0.750902527076 907.018050542\n",
      "green data left = -0.70110701107 875.701107011\n",
      "green data right = 0.618644067797 17.4406779661\n",
      "green data right = 0.595238095238 28.9285714286\n",
      "green data left = -0.688524590164 869.491803279\n",
      "green data right = 0.642857142857 -5.57142857143\n",
      "green data right = 0.596153846154 28.4807692308\n",
      "green data right = 0.65 -12.75\n",
      "green data right = 0.623931623932 2.93162393162\n",
      "green data right = 0.615384615385 12.0769230769\n",
      "green data right = 0.6 21.2\n",
      "current clip data = [-0.71483962855573346, 885.43683012391239, 0.6179143347755347, 11.228345352968294]\n"
     ]
    },
    {
     "name": "stderr",
     "output_type": "stream",
     "text": [
      "\r",
      " 23%|█████████████████████████████████████████████▎                                                                                                                                                      | 58/251 [00:26<01:44,  1.84it/s]"
     ]
    },
    {
     "name": "stdout",
     "output_type": "stream",
     "text": [
      "green data left = -0.703703703704 875.703703704\n",
      "green data left = -0.752727272727 907.56\n",
      "green data left = -0.673333333333 861.413333333\n",
      "green data right = 0.604790419162 29.1796407186\n",
      "green data left = -0.684210526316 866.631578947\n",
      "green data left = -0.684931506849 867.671232877\n",
      "green data right = 0.602836879433 31.829787234\n",
      "green data left = -0.666666666667 865.333333333\n",
      "green data left = -0.688524590164 869.93442623\n",
      "current clip data = [-0.69611715353946846, 874.96055481848396, 0.60851387778994415, 24.079257768525533]\n"
     ]
    },
    {
     "name": "stderr",
     "output_type": "stream",
     "text": [
      "\r",
      " 24%|██████████████████████████████████████████████                                                                                                                                                      | 59/251 [00:26<01:47,  1.78it/s]"
     ]
    },
    {
     "name": "stdout",
     "output_type": "stream",
     "text": [
      "green data left = -0.700389105058 874.105058366\n",
      "green data left = -0.726804123711 895.721649485\n",
      "green data left = -0.730769230769 898.384615385\n",
      "green data right = 0.578313253012 45.0602409639\n",
      "green data right = 0.603773584906 30.7547169811\n",
      "green data left = -0.7 872.9\n",
      "green data left = -0.71186440678 888.677966102\n",
      "current clip data = [-0.71099066997634452, 884.12497402584825, 0.5968669052358847, 33.298071904503672]\n"
     ]
    },
    {
     "name": "stderr",
     "output_type": "stream",
     "text": [
      "\r",
      " 24%|██████████████████████████████████████████████▊                                                                                                                                                     | 60/251 [00:27<01:40,  1.91it/s]"
     ]
    },
    {
     "name": "stdout",
     "output_type": "stream",
     "text": [
      "green data left = -0.752767527675 906.313653137\n",
      "green data left = -0.697368421053 870.5\n",
      "green data right = 0.594594594595 27.8648648649\n",
      "green data right = 0.625 9.5\n",
      "green data left = -0.69921875 873.08984375\n",
      "green data left = -0.675 868.125\n",
      "current clip data = [-0.70706907374085071, 880.4306941824758, 0.60548716661015922, 23.55431225645674]\n"
     ]
    },
    {
     "name": "stderr",
     "output_type": "stream",
     "text": [
      "\r",
      " 24%|███████████████████████████████████████████████▋                                                                                                                                                    | 61/251 [00:27<01:31,  2.08it/s]"
     ]
    },
    {
     "name": "stdout",
     "output_type": "stream",
     "text": [
      "green data left = -0.751824817518 902.781021898\n",
      "green data left = -0.697478991597 870.226890756\n",
      "green data left = -0.697916666667 868.947916667\n",
      "green data right = 0.603773584906 15.679245283\n",
      "green data left = -0.75 903.25\n",
      "green data right = 0.622950819672 9.19672131147\n",
      "green data left = -0.75 904.5\n",
      "current clip data = [-0.72571492492040024, 888.35608725054226, 0.61073719039598273, 16.143426283651134]\n"
     ]
    },
    {
     "name": "stderr",
     "output_type": "stream",
     "text": [
      "\r",
      " 25%|████████████████████████████████████████████████▍                                                                                                                                                   | 62/251 [00:28<01:22,  2.29it/s]"
     ]
    },
    {
     "name": "stdout",
     "output_type": "stream",
     "text": [
      "green data left = -0.696078431373 869.460784314\n",
      "green data left = -0.727272727273 895.909090909\n",
      "green data left = -0.673333333333 867.793333333\n",
      "green data left = -0.7125 889.3875\n",
      "green data left = -0.690476190476 877.285714286\n",
      "green data left = -0.7 885.4\n",
      "green data left = -0.690476190476 880.0\n",
      "green data left = -0.710526315789 889.631578947\n",
      "green data right = 0.605263157895 17.5263157895\n",
      "current clip data = [-0.70293090151565218, 882.58045433775294, 0.60800017414535956, 16.834871036562497]\n"
     ]
    },
    {
     "name": "stderr",
     "output_type": "stream",
     "text": [
      "\r",
      " 25%|█████████████████████████████████████████████████▏                                                                                                                                                  | 63/251 [00:28<01:20,  2.34it/s]"
     ]
    },
    {
     "name": "stdout",
     "output_type": "stream",
     "text": [
      "green data left = -0.700892857143 882.647321429\n",
      "green data left = -0.673819742489 860.622317597\n",
      "green data left = -0.714285714286 889.142857143\n",
      "green data left = -0.675 859.975\n",
      "green data left = -0.723684210526 892.868421053\n",
      "green data left = -0.723214285714 891.839285714\n",
      "green data left = -0.717391304348 874.391304348\n",
      "green data left = -0.666666666667 858.666666667\n",
      "green data left = -0.677419354839 862.967741935\n",
      "current clip data = [-0.69753050375272951, 875.57013702226413, 0.60800017414535956, 16.834871036562497]\n"
     ]
    },
    {
     "name": "stderr",
     "output_type": "stream",
     "text": [
      "\r",
      " 25%|█████████████████████████████████████████████████▉                                                                                                                                                  | 64/251 [00:28<01:24,  2.20it/s]"
     ]
    },
    {
     "name": "stdout",
     "output_type": "stream",
     "text": [
      "green data left = -0.673469387755 861.12244898\n",
      "green data left = -0.701421800948 882.464454976\n",
      "green data left = -0.700757575758 883.666666667\n",
      "green data left = -0.702702702703 887.783783784\n",
      "green data right = 0.613636363636 15.3863636364\n",
      "green data left = -0.727272727273 894.363636364\n",
      "green data left = -0.702702702703 887.486486486\n",
      "green data left = -0.69512195122 867.207317073\n",
      "current clip data = [-0.70012241901386585, 879.95811641898831, 0.61081826889086044, 16.110617336464198]\n"
     ]
    },
    {
     "name": "stderr",
     "output_type": "stream",
     "text": [
      "\r",
      " 26%|██████████████████████████████████████████████████▊                                                                                                                                                 | 65/251 [00:29<01:30,  2.05it/s]"
     ]
    },
    {
     "name": "stdout",
     "output_type": "stream",
     "text": [
      "green data left = -0.685185185185 875.759259259\n",
      "green data left = -0.722466960352 893.792951542\n",
      "green data left = -0.672535211268 861.204225352\n",
      "green data right = 0.62962962963 -4.59259259259\n",
      "green data left = -0.722222222222 895.666666667\n",
      "green data right = 0.603305785124 18.9504132231\n",
      "green data right = 0.607843137255 21.2941176471\n",
      "green data left = -0.68 864.52\n",
      "green data left = -0.742424242424 899.303030303\n",
      "green data right = 0.624113475177 0.390070921985\n",
      "green data left = -0.700421940928 883.658227848\n",
      "green data left = -0.666666666667 859.0\n",
      "current clip data = [-0.69911609422894228, 879.20694193222323, 0.61514205921533283, 10.430525307211244]\n"
     ]
    },
    {
     "name": "stderr",
     "output_type": "stream",
     "text": [
      "\r",
      " 26%|███████████████████████████████████████████████████▌                                                                                                                                                | 66/251 [00:30<01:38,  1.87it/s]"
     ]
    },
    {
     "name": "stdout",
     "output_type": "stream",
     "text": [
      "green data left = -0.672297297297 861.141891892\n",
      "green data left = -0.724252491694 894.033222591\n",
      "green data left = -0.720779220779 893.467532468\n",
      "green data right = 0.624242424242 0.672727272728\n",
      "green data right = 0.649253731343 -14.3955223881\n",
      "green data left = -0.671875 861.640625\n",
      "green data left = -0.7 884.2\n",
      "current clip data = [-0.69805335066663554, 878.94836898050164, 0.62954607160034692, -1.0974232693737165]\n"
     ]
    },
    {
     "name": "stderr",
     "output_type": "stream",
     "text": [
      "\r",
      " 27%|████████████████████████████████████████████████████▎                                                                                                                                               | 67/251 [00:30<01:34,  1.94it/s]"
     ]
    },
    {
     "name": "stdout",
     "output_type": "stream",
     "text": [
      "green data left = -0.673267326733 863.415841584\n",
      "green data left = -0.723333333333 896.0\n",
      "green data right = 0.603092783505 17.5515463918\n",
      "green data right = 0.647058823529 -12.3529411765\n",
      "green data left = -0.723214285714 894.732142857\n",
      "green data left = -0.676691729323 872.255639098\n",
      "green data right = 0.602272727273 20.5\n",
      "current clip data = [-0.69891200515404706, 881.07039850390936, 0.62049260147691032, 6.1502954864768871]\n"
     ]
    },
    {
     "name": "stderr",
     "output_type": "stream",
     "text": [
      "\r",
      " 27%|█████████████████████████████████████████████████████                                                                                                                                               | 68/251 [00:31<01:29,  2.04it/s]"
     ]
    },
    {
     "name": "stdout",
     "output_type": "stream",
     "text": [
      "green data left = -0.671924290221 863.403785489\n",
      "green data left = -0.724919093851 897.126213592\n",
      "green data right = 0.623762376238 5.42574257426\n",
      "green data left = -0.676923076923 866.092307692\n",
      "green data left = -0.661016949153 857.305084746\n",
      "green data right = 0.598039215686 20.0882352941\n",
      "current clip data = [-0.68673908306032372, 872.99955800463431, 0.61409806446693593, 10.554757784951038]\n"
     ]
    },
    {
     "name": "stderr",
     "output_type": "stream",
     "text": [
      "\r",
      " 27%|█████████████████████████████████████████████████████▉                                                                                                                                              | 69/251 [00:31<01:26,  2.11it/s]"
     ]
    },
    {
     "name": "stdout",
     "output_type": "stream",
     "text": [
      "green data left = -0.677419354839 867.903225806\n",
      "green data right = 0.621212121212 8.54545454545\n",
      "green data right = 0.580882352941 35.3382352941\n",
      "green data left = -0.65 851.7\n",
      "green data left = -0.674796747967 866.406504065\n",
      "green data right = 0.626373626374 -1.61538461538\n",
      "green data left = -0.666666666667 861.333333333\n",
      "current clip data = [-0.67112437050663543, 864.06852424189185, 0.6106415412484647, 13.205765752284748]\n"
     ]
    },
    {
     "name": "stderr",
     "output_type": "stream",
     "text": [
      "\r",
      " 28%|██████████████████████████████████████████████████████▋                                                                                                                                             | 70/251 [00:31<01:24,  2.14it/s]"
     ]
    },
    {
     "name": "stdout",
     "output_type": "stream",
     "text": [
      "green data left = -0.673796791444 866.14973262\n",
      "green data right = 0.577540106952 38.128342246\n",
      "green data right = 0.598901098901 28.5879120879\n",
      "green data left = -0.680555555556 871.152777778\n",
      "green data left = -0.659574468085 861.744680851\n",
      "green data right = 0.58064516129 34.9677419355\n",
      "green data left = -0.647058823529 851.588235294\n",
      "green data right = 0.583333333333 31.75\n",
      "green data left = -0.698039215686 877.356862745\n",
      "current clip data = [-0.67169153746780452, 865.34346892171095, 0.59021224834501784, 29.327952404334514]\n"
     ]
    },
    {
     "name": "stderr",
     "output_type": "stream",
     "text": [
      "\r",
      " 28%|███████████████████████████████████████████████████████▍                                                                                                                                            | 71/251 [00:32<01:26,  2.07it/s]"
     ]
    },
    {
     "name": "stdout",
     "output_type": "stream",
     "text": [
      "green data left = -0.697580645161 877.22983871\n",
      "green data right = 0.576158940397 37.3443708609\n",
      "green data right = 0.611111111111 13.4444444444\n",
      "green data right = 0.595419847328 31.0916030534\n",
      "green data left = -0.634146341463 845.0\n",
      "green data right = 0.572916666667 39.9270833333\n",
      "green data right = 0.594202898551 27.4347826087\n",
      "green data right = 0.6 19.6\n",
      "green data right = 0.617391304348 4.39130434783\n",
      "current clip data = [-0.66780617469750325, 862.52443587712958, 0.59467662709336711, 25.320192631625112]\n"
     ]
    },
    {
     "name": "stderr",
     "output_type": "stream",
     "text": [
      "\r",
      " 29%|████████████████████████████████████████████████████████▏                                                                                                                                           | 72/251 [00:33<01:31,  1.95it/s]"
     ]
    },
    {
     "name": "stdout",
     "output_type": "stream",
     "text": [
      "green data left = -0.69387755102 877.571428571\n",
      "green data right = 0.59595959596 28.5757575758\n",
      "green data left = -0.65 856.95\n",
      "green data left = -0.636363636364 847.454545455\n",
      "green data left = -0.676470588235 870.235294118\n",
      "green data left = -0.625 845.375\n",
      "green data right = 0.565217391304 45.8260869565\n",
      "green data left = -0.700598802395 879.706586826\n",
      "green data right = 0.583333333333 36.8333333333\n",
      "green data right = 0.594936708861 21.6455696203\n",
      "green data left = -0.675 873.225\n",
      "current clip data = [-0.6656395940890073, 864.13028635588762, 0.58682473131028146, 31.640188023497643]\n"
     ]
    },
    {
     "name": "stderr",
     "output_type": "stream",
     "text": [
      "\r",
      " 29%|█████████████████████████████████████████████████████████                                                                                                                                           | 73/251 [00:33<01:38,  1.81it/s]"
     ]
    },
    {
     "name": "stdout",
     "output_type": "stream",
     "text": [
      "green data left = -0.697080291971 879.182481752\n",
      "green data left = -0.673913043478 873.739130435\n",
      "green data right = 0.586206896552 32.9310344828\n",
      "green data right = 0.6125 7.775\n",
      "green data left = -0.701754385965 879.859649123\n",
      "green data left = -0.628571428571 841.6\n",
      "green data right = 0.571428571429 38.2857142857\n",
      "green data left = -0.700729927007 880.182481752\n",
      "green data right = 0.6 21.6\n",
      "green data right = 0.586206896552 34.1034482759\n",
      "current clip data = [-0.67794811184695225, 869.78233823618802, 0.59052784930704938, 27.72256417797303]\n"
     ]
    },
    {
     "name": "stderr",
     "output_type": "stream",
     "text": [
      "\r",
      " 29%|█████████████████████████████████████████████████████████▊                                                                                                                                          | 74/251 [00:34<01:43,  1.72it/s]"
     ]
    },
    {
     "name": "stdout",
     "output_type": "stream",
     "text": [
      "green data left = -0.700680272109 881.06122449\n",
      "green data left = -0.672131147541 872.606557377\n",
      "green data left = -0.653846153846 863.269230769\n",
      "green data left = -0.698884758364 881.085501859\n",
      "green data left = -0.707317073171 885.585365854\n",
      "green data right = 0.621359223301 3.8640776699\n",
      "green data right = 0.59375 29.09375\n",
      "green data left = -0.678571428571 875.428571429\n",
      "green data left = -0.688888888889 878.977777778\n",
      "current clip data = [-0.68478347929228656, 875.97457097387576, 0.60187902420267403, 20.226797282624602]\n"
     ]
    },
    {
     "name": "stderr",
     "output_type": "stream",
     "text": [
      "\r",
      " 30%|██████████████████████████████████████████████████████████▌                                                                                                                                         | 75/251 [00:34<01:45,  1.67it/s]"
     ]
    },
    {
     "name": "stdout",
     "output_type": "stream",
     "text": [
      "green data left = -0.705882352941 886.176470588\n",
      "green data left = -0.683544303797 875.151898734\n",
      "green data left = -0.70796460177 894.274336283\n",
      "green data left = -0.650406504065 856.902439024\n",
      "green data right = 0.6 23.8\n",
      "green data left = -0.6875 877.9375\n",
      "green data left = -0.666666666667 866.666666667\n",
      "green data left = -0.672955974843 868.886792453\n",
      "current clip data = [-0.6824629854219143, 875.24633434041982, 0.60093951210133589, 22.01339864131328]\n"
     ]
    },
    {
     "name": "stderr",
     "output_type": "stream",
     "text": [
      "\r",
      " 30%|███████████████████████████████████████████████████████████▎                                                                                                                                        | 76/251 [00:35<01:41,  1.72it/s]"
     ]
    },
    {
     "name": "stdout",
     "output_type": "stream",
     "text": [
      "green data left = -0.702290076336 883.801526718\n",
      "green data right = 0.598484848485 19.0984848485\n",
      "green data left = -0.675675675676 875.513513514\n",
      "green data right = 0.590909090909 31.6818181818\n",
      "green data left = -0.742424242424 898.53030303\n",
      "green data right = 0.571428571429 46.7142857143\n",
      "green data left = -0.702127659574 884.404255319\n",
      "current clip data = [-0.7009961278864355, 883.49918658418824, 0.5904405057309613, 29.876996846475709]\n"
     ]
    },
    {
     "name": "stderr",
     "output_type": "stream",
     "text": [
      "\r",
      " 31%|████████████████████████████████████████████████████████████▏                                                                                                                                       | 77/251 [00:36<01:40,  1.72it/s]"
     ]
    },
    {
     "name": "stdout",
     "output_type": "stream",
     "text": [
      "green data left = -0.700421940928 884.358649789\n",
      "green data left = -0.673913043478 875.847826087\n",
      "green data left = -0.70652173913 888.184782609\n",
      "green data right = 0.601307189542 23.0653594771\n",
      "green data right = 0.589285714286 28.5535714286\n",
      "green data right = 0.596026490066 21.6887417219\n",
      "green data right = 0.604166666667 18.6041666667\n",
      "green data left = -0.686274509804 879.62745098\n",
      "current clip data = [-0.69362547224546467, 882.30357920985261, 0.59624531325840946, 24.357767228139398]\n"
     ]
    },
    {
     "name": "stderr",
     "output_type": "stream",
     "text": [
      "\r",
      " 31%|████████████████████████████████████████████████████████████▉                                                                                                                                       | 78/251 [00:36<01:42,  1.69it/s]"
     ]
    },
    {
     "name": "stdout",
     "output_type": "stream",
     "text": [
      "green data left = -0.701086956522 884.364130435\n",
      "green data left = -0.692307692308 880.384615385\n",
      "green data left = -0.67619047619 877.942857143\n",
      "green data left = -0.700636942675 885.382165605\n",
      "green data right = 0.580110497238 33.2596685083\n",
      "green data right = 0.593220338983 30.593220339\n",
      "green data right = 0.576086956522 37.4891304348\n",
      "green data left = -0.659574468085 865.936170213\n",
      "green data right = 0.61963190184 6.38650306748\n",
      "green data left = -0.666666666667 877.0\n",
      "green data left = -0.724637681159 895.043478261\n",
      "current clip data = [-0.68934079448146512, 881.04462453135443, 0.59305900156825164, 26.41725791553576]\n"
     ]
    },
    {
     "name": "stderr",
     "output_type": "stream",
     "text": [
      "\r",
      " 31%|█████████████████████████████████████████████████████████████▋                                                                                                                                      | 79/251 [00:37<01:40,  1.71it/s]"
     ]
    },
    {
     "name": "stdout",
     "output_type": "stream",
     "text": [
      "green data left = -0.700980392157 884.299019608\n",
      "green data left = -0.70297029703 891.435643564\n",
      "green data left = -0.71 889.84\n",
      "green data right = 0.597156398104 24.2417061611\n",
      "green data left = -0.725099601594 895.454183267\n",
      "current clip data = [-0.70567821705233202, 888.41469419409771, 0.59510769983625833, 25.329482038336913]\n"
     ]
    },
    {
     "name": "stderr",
     "output_type": "stream",
     "text": [
      "\r",
      " 32%|██████████████████████████████████████████████████████████████▍                                                                                                                                     | 80/251 [00:37<01:34,  1.81it/s]"
     ]
    },
    {
     "name": "stdout",
     "output_type": "stream",
     "text": [
      "green data left = -0.727564102564 897.176282051\n",
      "green data right = 0.59793814433 23.7731958763\n",
      "green data left = -0.72619047619 895.80952381\n",
      "green data right = 0.594594594595 25.4594594595\n",
      "green data left = -0.72972972973 906.405405405\n",
      "current clip data = [-0.72229063138415972, 896.95147636507704, 0.59588014625358376, 24.854045791361163]\n"
     ]
    },
    {
     "name": "stderr",
     "output_type": "stream",
     "text": [
      "\r",
      " 32%|███████████████████████████████████████████████████████████████▎                                                                                                                                    | 81/251 [00:38<01:27,  1.93it/s]"
     ]
    },
    {
     "name": "stdout",
     "output_type": "stream",
     "text": [
      "green data left = -0.736842105263 901.105263158\n",
      "green data left = -0.72480620155 895.643410853\n",
      "green data right = 0.572519083969 46.893129771\n",
      "green data left = -0.717391304348 894.347826087\n",
      "green data left = -0.727272727273 904.636363636\n",
      "green data right = 0.592592592593 25.4814814815\n",
      "green data right = 0.59375 25.9375\n",
      "green data left = -0.75 910.25\n",
      "green data left = -0.741379310345 906.534482759\n",
      "current clip data = [-0.73142604002329803, 901.35268897966102, 0.58868545570391184, 30.791539260957428]\n"
     ]
    },
    {
     "name": "stderr",
     "output_type": "stream",
     "text": [
      "\r",
      " 33%|████████████████████████████████████████████████████████████████                                                                                                                                    | 82/251 [00:38<01:23,  2.03it/s]"
     ]
    },
    {
     "name": "stdout",
     "output_type": "stream",
     "text": [
      "green data left = -0.725806451613 896.209677419\n",
      "green data right = 0.575471698113 42.6603773585\n",
      "green data right = 0.602040816327 17.7040816327\n",
      "green data right = 0.571428571429 47.0\n",
      "green data left = -0.714285714286 893.857142857\n",
      "green data right = 0.59375 26.71875\n",
      "green data right = 0.592233009709 27.6310679612\n",
      "green data left = -0.724489795918 903.663265306\n",
      "green data left = -0.75 911.5\n",
      "current clip data = [-0.72920160036805726, 901.31655491245658, 0.58726825854682663, 32.084302702211026]\n"
     ]
    },
    {
     "name": "stderr",
     "output_type": "stream",
     "text": [
      "\r",
      " 33%|████████████████████████████████████████████████████████████████▊                                                                                                                                   | 83/251 [00:39<01:29,  1.87it/s]"
     ]
    },
    {
     "name": "stdout",
     "output_type": "stream",
     "text": [
      "green data left = -0.725490196078 897.745098039\n",
      "green data right = 0.565217391304 50.6086956522\n",
      "green data right = 0.56 49.4\n",
      "green data left = -0.727272727273 897.363636364\n",
      "green data left = -0.753623188406 919.173913043\n",
      "green data right = 0.553846153846 54.8\n",
      "green data left = -0.709677419355 893.774193548\n",
      "current clip data = [-0.72905302629597035, 901.874679181435, 0.56658295092433109, 46.723249588596921]\n"
     ]
    },
    {
     "name": "stderr",
     "output_type": "stream",
     "text": [
      "\r",
      " 33%|█████████████████████████████████████████████████████████████████▌                                                                                                                                  | 84/251 [00:39<01:33,  1.78it/s]"
     ]
    },
    {
     "name": "stdout",
     "output_type": "stream",
     "text": [
      "green data left = -0.728155339806 897.708737864\n",
      "green data left = -0.712328767123 892.602739726\n",
      "green data right = 0.573170731707 45.8048780488\n",
      "green data left = -0.730158730159 899.857142857\n",
      "green data right = 0.55223880597 56.552238806\n",
      "green data left = -0.744186046512 908.093023256\n",
      "current clip data = [-0.72877638197908856, 900.02726457689937, 0.56399749620059847, 49.693455481116303]\n"
     ]
    },
    {
     "name": "stderr",
     "output_type": "stream",
     "text": [
      "\r",
      " 34%|██████████████████████████████████████████████████████████████████▎                                                                                                                                 | 85/251 [00:40<01:34,  1.75it/s]"
     ]
    },
    {
     "name": "stdout",
     "output_type": "stream",
     "text": [
      "green data left = -0.727574750831 899.362126246\n",
      "green data left = -0.730337078652 899.550561798\n",
      "green data left = -0.701754385965 892.421052632\n",
      "green data left = -0.716981132075 897.018867925\n",
      "current clip data = [-0.72108474590034477, 897.67597463532127, 0.56399749620059847, 49.693455481116303]\n"
     ]
    },
    {
     "name": "stderr",
     "output_type": "stream",
     "text": [
      "\r",
      " 34%|███████████████████████████████████████████████████████████████████▏                                                                                                                                | 86/251 [00:40<01:30,  1.82it/s]"
     ]
    },
    {
     "name": "stdout",
     "output_type": "stream",
     "text": [
      "green data left = -0.75 909.5\n",
      "green data left = -0.752475247525 909.495049505\n",
      "green data left = -0.751677852349 919.510067114\n",
      "green data right = 0.591397849462 30.2795698925\n",
      "current clip data = [-0.74380946144352222, 909.04527281359105, 0.5776976728314831, 39.986512686793724]\n"
     ]
    },
    {
     "name": "stderr",
     "output_type": "stream",
     "text": [
      "\r",
      " 35%|███████████████████████████████████████████████████████████████████▉                                                                                                                                | 87/251 [00:41<01:28,  1.84it/s]"
     ]
    },
    {
     "name": "stdout",
     "output_type": "stream",
     "text": [
      "green data left = -0.75355450237 912.327014218\n",
      "green data left = -0.75 911.5\n",
      "green data right = 0.585365853659 30.5365853659\n",
      "green data right = 0.58 41.7\n",
      "green data left = -0.751351351351 920.059459459\n",
      "green data left = -0.75 917.25\n",
      "green data right = 0.552083333333 59.25\n",
      "green data right = 0.604166666667 19.5\n",
      "green data left = -0.75 917.25\n",
      "green data left = -0.769230769231 922.769230769\n",
      "current clip data = [-0.75256372634218682, 915.74299675146983, 0.57986270529800321, 38.194619610530097]\n"
     ]
    },
    {
     "name": "stderr",
     "output_type": "stream",
     "text": [
      "\r",
      " 35%|████████████████████████████████████████████████████████████████████▋                                                                                                                               | 88/251 [00:42<01:28,  1.85it/s]"
     ]
    },
    {
     "name": "stdout",
     "output_type": "stream",
     "text": [
      "green data left = -0.747368421053 911.210526316\n",
      "green data left = -0.785714285714 938.714285714\n",
      "green data left = -0.779816513761 938.779816514\n",
      "green data left = -0.777777777778 923.555555556\n",
      "green data right = 0.583333333333 39.4166666667\n",
      "green data right = 0.561538461538 50.9538461538\n",
      "green data left = -0.750889679715 912.270462633\n",
      "green data left = -0.753521126761 925.126760563\n",
      "green data right = 0.594827586207 29.0172413793\n",
      "current clip data = [-0.76395021873203028, 923.62862914967013, 0.57989052159417298, 39.395593452588869]\n"
     ]
    },
    {
     "name": "stderr",
     "output_type": "stream",
     "text": [
      "\r",
      " 35%|█████████████████████████████████████████████████████████████████████▍                                                                                                                              | 89/251 [00:42<01:25,  1.89it/s]"
     ]
    },
    {
     "name": "stdout",
     "output_type": "stream",
     "text": [
      "green data left = -0.754512635379 913.880866426\n",
      "green data right = 0.578947368421 42.8421052632\n",
      "green data right = 0.55223880597 59.2686567164\n",
      "green data left = -0.709677419355 899.451612903\n",
      "green data left = -0.71186440678 901.254237288\n",
      "green data left = -0.752808988764 912.393258427\n",
      "current clip data = [-0.73856273380192738, 910.12172083879818, 0.57035889866179157, 47.16878514405483]\n"
     ]
    },
    {
     "name": "stderr",
     "output_type": "stream",
     "text": [
      "\r",
      " 36%|██████████████████████████████████████████████████████████████████████▎                                                                                                                             | 90/251 [00:42<01:21,  1.98it/s]"
     ]
    },
    {
     "name": "stdout",
     "output_type": "stream",
     "text": [
      "green data left = -0.755555555556 914.955555556\n",
      "green data right = 0.556818181818 54.5113636364\n",
      "green data right = 0.573964497041 46.4142011834\n",
      "green data left = -0.752032520325 916.130081301\n",
      "green data left = -0.754807692308 916.235576923\n",
      "current clip data = [-0.75023962549759471, 914.36073365456082, 0.56704719250713109, 49.364783321283625]\n"
     ]
    },
    {
     "name": "stderr",
     "output_type": "stream",
     "text": [
      "\r",
      " 36%|███████████████████████████████████████████████████████████████████████                                                                                                                             | 91/251 [00:43<01:17,  2.06it/s]"
     ]
    },
    {
     "name": "stdout",
     "output_type": "stream",
     "text": [
      "green data left = -0.776223776224 923.629370629\n",
      "green data right = 0.551886792453 59.0518867925\n",
      "green data right = 0.577114427861 43.3582089552\n",
      "green data left = -0.775862068966 922.517241379\n",
      "green data right = 0.576086956522 37.2934782609\n",
      "green data right = 0.598984771574 24.5532994924\n",
      "current clip data = [-0.76744182356229629, 920.16911522108069, 0.57422402818320017, 42.724331364443167]\n"
     ]
    },
    {
     "name": "stderr",
     "output_type": "stream",
     "text": [
      "\r",
      " 37%|███████████████████████████████████████████████████████████████████████▊                                                                                                                            | 92/251 [00:43<01:17,  2.05it/s]"
     ]
    },
    {
     "name": "stdout",
     "output_type": "stream",
     "text": [
      "green data left = -0.782101167315 927.015564202\n",
      "green data right = 0.576388888889 44.9513888889\n",
      "green data right = 0.578947368421 32.3157894737\n",
      "green data right = 0.554054054054 57.3918918919\n",
      "green data left = -0.782608695652 928.869565217\n",
      "green data left = -0.818181818182 938.090909091\n",
      "green data left = -0.818181818182 936.454545455\n",
      "green data left = -0.794871794872 929.41025641\n",
      "green data right = 0.601449275362 21.5724637681\n",
      "green data right = 0.589743589744 28.9743589744\n",
      "current clip data = [-0.79389785296084714, 930.00165926608668, 0.57913453410884985, 37.988370726897955]\n"
     ]
    },
    {
     "name": "stderr",
     "output_type": "stream",
     "text": [
      "\r",
      " 37%|████████████████████████████████████████████████████████████████████████▌                                                                                                                           | 93/251 [00:44<01:23,  1.90it/s]"
     ]
    },
    {
     "name": "stdout",
     "output_type": "stream",
     "text": [
      "green data left = -0.780876494024 926.633466135\n",
      "green data right = 0.551440329218 58.4897119342\n",
      "green data right = 0.576419213974 42.2445414847\n",
      "green data right = 0.6 21.2\n",
      "green data left = -0.811320754717 935.283018868\n",
      "green data right = 0.596153846154 23.4038461538\n",
      "green data left = -0.757575757576 914.272727273\n",
      "green data left = -0.84 946.32\n",
      "green data left = -0.78313253012 925.903614458\n",
      "green data right = 0.56862745098 50.0980392157\n",
      "current clip data = [-0.79446723156632881, 929.7357476666715, 0.57862922907249936, 38.904084919216956]\n"
     ]
    },
    {
     "name": "stderr",
     "output_type": "stream",
     "text": [
      "\r",
      " 37%|█████████████████████████████████████████████████████████████████████████▍                                                                                                                          | 94/251 [00:45<01:27,  1.80it/s]"
     ]
    },
    {
     "name": "stdout",
     "output_type": "stream",
     "text": [
      "green data left = -0.778225806452 924.471774194\n",
      "green data right = 0.573529411765 45.4117647059\n",
      "green data left = -0.783783783784 926.216216216\n",
      "green data left = -0.75390625 916.203125\n",
      "green data right = 0.588235294118 32.4705882353\n",
      "green data right = 0.558139534884 51.1395348837\n",
      "green data right = 0.556701030928 53.618556701\n",
      "current clip data = [-0.77759576795043173, 924.15671576910904, 0.57104690015328086, 44.308905889029788]\n"
     ]
    },
    {
     "name": "stderr",
     "output_type": "stream",
     "text": [
      "\r",
      " 38%|██████████████████████████████████████████████████████████████████████████▏                                                                                                                         | 95/251 [00:45<01:22,  1.89it/s]"
     ]
    },
    {
     "name": "stdout",
     "output_type": "stream",
     "text": [
      "green data left = -0.807692307692 934.807692308\n",
      "green data left = -0.80701754386 938.473684211\n",
      "green data right = 0.554285714286 64.84\n",
      "green data right = 0.550387596899 57.7674418605\n",
      "green data left = -0.811428571429 937.6\n",
      "green data right = 0.555555555556 51.4444444444\n",
      "green data left = -0.834862385321 947.816513761\n",
      "green data right = 0.548387096774 65.4838709677\n",
      "green data right = 0.5625 53.5625\n",
      "green data right = 0.590909090909 30.0454545455\n",
      "green data right = 0.54347826087 67.3043478261\n",
      "green data left = -0.826086956522 945.434782609\n",
      "current clip data = [-0.81078058879563308, 938.04823144291493, 0.55956877693082796, 54.34462069165312]\n"
     ]
    },
    {
     "name": "stderr",
     "output_type": "stream",
     "text": [
      "\r",
      " 38%|██████████████████████████████████████████████████████████████████████████▉                                                                                                                         | 96/251 [00:46<01:21,  1.90it/s]"
     ]
    },
    {
     "name": "stdout",
     "output_type": "stream",
     "text": [
      "green data left = -0.806167400881 935.748898678\n",
      "green data right = 0.578125 38.21875\n",
      "green data right = 0.53125 76.0625\n",
      "green data right = 0.532258064516 75.5967741935\n",
      "green data right = 0.573770491803 44.0163934426\n",
      "green data left = -0.75 915.25\n",
      "green data left = -0.783653846154 926.307692308\n",
      "green data right = 0.560606060606 52.1212121212\n",
      "current clip data = [-0.78765045895763419, 928.83870560725552, 0.55592973230938247, 56.726708408172932]\n"
     ]
    },
    {
     "name": "stderr",
     "output_type": "stream",
     "text": [
      "\r",
      " 39%|███████████████████████████████████████████████████████████████████████████▋                                                                                                                        | 97/251 [00:46<01:17,  1.98it/s]"
     ]
    },
    {
     "name": "stdout",
     "output_type": "stream",
     "text": [
      "green data left = -0.808888888889 936.137777778\n",
      "green data left = -0.808888888889 934.52\n",
      "green data right = 0.576923076923 40.8846153846\n",
      "current clip data = [-0.80180941224513724, 933.16549446167767, 0.56642640461622884, 48.805661896394781]\n"
     ]
    },
    {
     "name": "stderr",
     "output_type": "stream",
     "text": [
      "\r",
      " 39%|████████████████████████████████████████████████████████████████████████████▌                                                                                                                       | 98/251 [00:46<01:11,  2.14it/s]"
     ]
    },
    {
     "name": "stdout",
     "output_type": "stream",
     "text": [
      "green data left = -0.810606060606 935.946969697\n",
      "green data left = -0.811926605505 934.825688073\n",
      "green data left = -0.809090909091 932.663636364\n",
      "current clip data = [-0.80835824686167368, 934.15044714891951, 0.56642640461622884, 48.805661896394781]\n"
     ]
    },
    {
     "name": "stderr",
     "output_type": "stream",
     "text": [
      "\r",
      " 39%|█████████████████████████████████████████████████████████████████████████████▎                                                                                                                      | 99/251 [00:47<01:08,  2.23it/s]"
     ]
    },
    {
     "name": "stdout",
     "output_type": "stream",
     "text": [
      "green data left = -0.774647887324 914.845070423\n",
      "green data left = -0.836842105263 957.157894737\n",
      "green data left = -0.779342723005 917.802816901\n",
      "green data left = -0.783582089552 921.992537313\n",
      "green data left = -0.764705882353 913.529411765\n",
      "green data left = -0.815789473684 945.315789474\n",
      "current clip data = [-0.79475262972040883, 929.25628110878984, 0.56642640461622884, 48.805661896394781]\n"
     ]
    },
    {
     "name": "stderr",
     "output_type": "stream",
     "text": [
      "\r",
      " 40%|█████████████████████████████████████████████████████████████████████████████▋                                                                                                                     | 100/251 [00:47<01:06,  2.28it/s]"
     ]
    },
    {
     "name": "stdout",
     "output_type": "stream",
     "text": [
      "green data left = -0.781725888325 918.081218274\n",
      "green data left = -0.752808988764 908.460674157\n",
      "green data right = 0.575757575758 41.5151515152\n",
      "green data left = -0.780612244898 918.525510204\n",
      "green data right = 0.585365853659 32.2926829268\n",
      "current clip data = [-0.77747493792682087, 918.58092093607127, 0.57584994467744499, 40.871165446126888]\n"
     ]
    },
    {
     "name": "stderr",
     "output_type": "stream",
     "text": [
      "\r",
      " 40%|██████████████████████████████████████████████████████████████████████████████▍                                                                                                                    | 101/251 [00:48<01:05,  2.29it/s]"
     ]
    },
    {
     "name": "stdout",
     "output_type": "stream",
     "text": [
      "green data left = -0.778301886792 915.919811321\n",
      "green data left = -0.759036144578 905.78313253\n",
      "green data left = -0.814516129032 929.338709677\n",
      "current clip data = [-0.78233227458246146, 917.40564361609165, 0.57584994467744499, 40.871165446126888]\n"
     ]
    },
    {
     "name": "stderr",
     "output_type": "stream",
     "text": [
      "\r",
      " 41%|███████████████████████████████████████████████████████████████████████████████▏                                                                                                                   | 102/251 [00:48<01:02,  2.37it/s]"
     ]
    },
    {
     "name": "stdout",
     "output_type": "stream",
     "text": [
      "green data left = -0.76 906.12\n",
      "green data left = -0.808219178082 924.04109589\n",
      "green data left = -0.777777777778 914.0\n",
      "green data right = 0.568965517241 49.4482758621\n",
      "green data left = -0.782178217822 929.603960396\n",
      "current clip data = [-0.7821014896528421, 918.23413998050819, 0.572407730959412, 45.159720654098237]\n"
     ]
    },
    {
     "name": "stderr",
     "output_type": "stream",
     "text": [
      "\r",
      " 41%|████████████████████████████████████████████████████████████████████████████████                                                                                                                   | 103/251 [00:49<01:02,  2.38it/s]"
     ]
    },
    {
     "name": "stdout",
     "output_type": "stream",
     "text": [
      "green data left = -0.806722689076 938.117647059\n",
      "green data left = -0.751724137931 902.503448276\n",
      "green data right = 0.577464788732 40.0845070423\n",
      "green data left = -0.753424657534 902.493150685\n",
      "green data right = 0.586206896552 32.1034482759\n",
      "green data right = 0.564102564103 51.1025641026\n",
      "current clip data = [-0.77349324354843885, 915.33709650003152, 0.57504549508652358, 42.112560018694424]\n"
     ]
    },
    {
     "name": "stderr",
     "output_type": "stream",
     "text": [
      "\r",
      " 41%|████████████████████████████████████████████████████████████████████████████████▊                                                                                                                  | 104/251 [00:49<01:00,  2.42it/s]"
     ]
    },
    {
     "name": "stdout",
     "output_type": "stream",
     "text": [
      "green data left = -0.775510204082 925.959183673\n",
      "green data left = -0.727272727273 893.090909091\n",
      "green data right = 0.556818181818 59.1363636364\n",
      "green data left = -0.766666666667 905.866666667\n",
      "green data left = -0.770833333333 925.354166667\n",
      "green data left = -0.75 902.25\n",
      "current clip data = [-0.76062936248380009, 911.30967043295732, 0.56593183845235262, 50.624461827529132]\n"
     ]
    },
    {
     "name": "stderr",
     "output_type": "stream",
     "text": [
      "\r",
      " 42%|█████████████████████████████████████████████████████████████████████████████████▌                                                                                                                 | 105/251 [00:49<01:05,  2.23it/s]"
     ]
    },
    {
     "name": "stdout",
     "output_type": "stream",
     "text": [
      "green data right = 0.549668874172 74.5761589404\n",
      "green data right = 0.551282051282 64.8205128205\n",
      "green data left = -0.692307692308 898.230769231\n",
      "green data left = -0.75 924.25\n",
      "current clip data = [-0.73431235159716524, 911.26347988790928, 0.55562758796886347, 63.340377862812694]\n"
     ]
    },
    {
     "name": "stderr",
     "output_type": "stream",
     "text": [
      "\r",
      " 42%|██████████████████████████████████████████████████████████████████████████████████▎                                                                                                                | 106/251 [00:50<01:05,  2.20it/s]"
     ]
    },
    {
     "name": "stdout",
     "output_type": "stream",
     "text": [
      "green data right = 0.527397260274 88.1575342466\n",
      "green data right = 0.529411764706 84.8823529412\n",
      "green data right = 0.552742616034 72.5105485232\n",
      "current clip data = [-0.73431235159716524, 911.26347988790928, 0.54129480724561818, 77.222703393442998]\n"
     ]
    },
    {
     "name": "stderr",
     "output_type": "stream",
     "text": [
      "\r",
      " 43%|███████████████████████████████████████████████████████████████████████████████████▏                                                                                                               | 107/251 [00:50<01:02,  2.30it/s]"
     ]
    },
    {
     "name": "stdout",
     "output_type": "stream",
     "text": [
      "green data right = 0.555555555556 71.5555555556\n",
      "green data right = 0.574257425743 54.0792079208\n",
      "current clip data = [-0.73431235159716524, 911.26347988790928, 0.55703592951458203, 67.61915562326412]\n"
     ]
    },
    {
     "name": "stderr",
     "output_type": "stream",
     "text": [
      "\r",
      " 43%|███████████████████████████████████████████████████████████████████████████████████▉                                                                                                               | 108/251 [00:51<01:00,  2.37it/s]"
     ]
    },
    {
     "name": "stdout",
     "output_type": "stream",
     "text": [
      "green data right = 0.622222222222 46.4444444444\n",
      "green data left = -0.764705882353 899.823529412\n",
      "green data right = 0.541666666667 74.4583333333\n",
      "green data right = 0.574712643678 45.816091954\n",
      "green data left = -0.769230769231 900.692307692\n",
      "current clip data = [-0.75608300106029136, 903.92643899732684, 0.57390936552040805, 58.584506338765912]\n"
     ]
    },
    {
     "name": "stderr",
     "output_type": "stream",
     "text": [
      "\r",
      " 43%|████████████████████████████████████████████████████████████████████████████████████▋                                                                                                              | 109/251 [00:51<01:04,  2.20it/s]"
     ]
    },
    {
     "name": "stdout",
     "output_type": "stream",
     "text": [
      "green data right = 0.573770491803 46.0163934426\n",
      "green data left = -0.763636363636 896.581818182\n",
      "current clip data = [-0.75985968234832812, 900.2541285895727, 0.57383992866184586, 52.300449890691539]\n"
     ]
    },
    {
     "name": "stderr",
     "output_type": "stream",
     "text": [
      "\r",
      " 44%|█████████████████████████████████████████████████████████████████████████████████████▍                                                                                                             | 110/251 [00:52<01:03,  2.22it/s]"
     ]
    },
    {
     "name": "stdout",
     "output_type": "stream",
     "text": [
      "green data left = -0.72380952381 877.819047619\n",
      "green data right = 0.645669291339 36.8503937008\n",
      "green data right = 0.56 56.2\n",
      "green data right = 0.571428571429 50.8571428571\n",
      "green data right = 0.590909090909 34.8636363636\n",
      "current clip data = [-0.74183460307892668, 889.03658810431057, 0.58836937646761611, 46.214324562453534]\n"
     ]
    },
    {
     "name": "stderr",
     "output_type": "stream",
     "text": [
      "\r",
      " 44%|██████████████████████████████████████████████████████████████████████████████████████▏                                                                                                            | 111/251 [00:52<01:05,  2.14it/s]"
     ]
    },
    {
     "name": "stdout",
     "output_type": "stream",
     "text": [
      "green data left = -0.723577235772 870.959349593\n",
      "green data right = 0.581818181818 38.7090909091\n",
      "green data right = 0.576923076923 43.5384615385\n",
      "green data right = 0.592592592593 31.2962962963\n",
      "current clip data = [-0.73270591942564212, 879.99796884890316, 0.58492580695036744, 39.939543326575148]\n"
     ]
    },
    {
     "name": "stderr",
     "output_type": "stream",
     "text": [
      "\r",
      " 45%|███████████████████████████████████████████████████████████████████████████████████████                                                                                                            | 112/251 [00:53<01:05,  2.11it/s]"
     ]
    },
    {
     "name": "stdout",
     "output_type": "stream",
     "text": [
      "green data left = -0.742857142857 886.057142857\n",
      "green data right = 0.594594594595 30.2702702703\n",
      "green data right = 0.586206896552 34.9655172414\n",
      "green data left = -0.732142857143 881.678571429\n",
      "current clip data = [-0.73590197314188044, 882.57789437820577, 0.58857576603223005, 35.058443612740462]\n"
     ]
    },
    {
     "name": "stderr",
     "output_type": "stream",
     "text": [
      "\r",
      " 45%|███████████████████████████████████████████████████████████████████████████████████████▊                                                                                                           | 113/251 [00:53<01:02,  2.19it/s]"
     ]
    },
    {
     "name": "stdout",
     "output_type": "stream",
     "text": [
      "green data left = -0.72972972973 876.783783784\n",
      "green data right = 0.602409638554 15.0481927711\n",
      "current clip data = [-0.73281585143580541, 879.6808390809947, 0.59549270229322304, 25.053318191912808]\n"
     ]
    },
    {
     "name": "stderr",
     "output_type": "stream",
     "text": [
      "\r",
      " 45%|████████████████████████████████████████████████████████████████████████████████████████▌                                                                                                          | 114/251 [00:53<00:58,  2.33it/s]"
     ]
    },
    {
     "name": "stdout",
     "output_type": "stream",
     "text": [
      "green data left = -0.754385964912 885.052631579\n",
      "green data left = -0.75 882.5\n",
      "green data right = 0.619565217391 1.09782608696\n",
      "current clip data = [-0.74573393878269467, 882.41115688664729, 0.60752895984226396, 13.075572139434492]\n"
     ]
    },
    {
     "name": "stderr",
     "output_type": "stream",
     "text": [
      "\r",
      " 46%|█████████████████████████████████████████████████████████████████████████████████████████▎                                                                                                         | 115/251 [00:54<00:54,  2.52it/s]"
     ]
    },
    {
     "name": "stdout",
     "output_type": "stream",
     "text": [
      "green data right = 0.612903225806 8.32258064517\n",
      "green data right = 0.644230769231 -8.93269230769\n",
      "current clip data = [-0.74573393878269467, 882.41115688664729, 0.62155431829316032, 4.1551534923027207]\n"
     ]
    },
    {
     "name": "stderr",
     "output_type": "stream",
     "text": [
      "\r",
      " 46%|██████████████████████████████████████████████████████████████████████████████████████████                                                                                                         | 116/251 [00:54<00:49,  2.75it/s]"
     ]
    },
    {
     "name": "stdout",
     "output_type": "stream",
     "text": [
      "green data left = -0.707317073171 876.975609756\n",
      "current clip data = [-0.72652550597671428, 879.69338332137272, 0.62155431829316032, 4.1551534923027207]\n"
     ]
    },
    {
     "name": "stderr",
     "output_type": "stream",
     "text": [
      "\r",
      " 47%|██████████████████████████████████████████████████████████████████████████████████████████▉                                                                                                        | 117/251 [00:54<00:45,  2.93it/s]"
     ]
    },
    {
     "name": "stdout",
     "output_type": "stream",
     "text": [
      "green data right = 0.621212121212 11.9545454545\n",
      "current clip data = [-0.72652550597671428, 879.69338332137272, 0.62138321975263833, 8.0548494734263532]\n"
     ]
    },
    {
     "name": "stderr",
     "output_type": "stream",
     "text": [
      "\r",
      " 47%|███████████████████████████████████████████████████████████████████████████████████████████▋                                                                                                       | 118/251 [00:55<00:42,  3.14it/s]"
     ]
    },
    {
     "name": "stdout",
     "output_type": "stream",
     "text": [
      "green data right = 0.597222222222 32.9444444444\n",
      "green data left = -0.725806451613 882.693548387\n",
      "green data right = 0.631578947368 -0.736842105268\n",
      "current clip data = [-0.7261659787948086, 881.19346585423477, 0.61672812978109592, 13.420817270867717]\n"
     ]
    },
    {
     "name": "stderr",
     "output_type": "stream",
     "text": [
      "\r",
      " 47%|████████████████████████████████████████████████████████████████████████████████████████████▍                                                                                                      | 119/251 [00:55<00:42,  3.13it/s]"
     ]
    },
    {
     "name": "stdout",
     "output_type": "stream",
     "text": [
      "green data right = 0.594827586207 34.775862069\n",
      "green data right = 0.627906976744 7.46511627907\n",
      "green data right = 0.598214285714 32.3125\n",
      "current clip data = [-0.7261659787948086, 881.19346585423477, 0.60941924461161623, 21.993573904725842]\n"
     ]
    },
    {
     "name": "stderr",
     "output_type": "stream",
     "text": [
      "\r",
      " 48%|█████████████████████████████████████████████████████████████████████████████████████████████▏                                                                                                     | 120/251 [00:55<00:40,  3.24it/s]"
     ]
    },
    {
     "name": "stdout",
     "output_type": "stream",
     "text": [
      "green data right = 0.6 33.8\n",
      "green data right = 0.577181208054 45.6577181208\n",
      "green data right = 0.586206896552 38.0344827586\n",
      "green data right = 0.613636363636 18.8636363636\n",
      "green data right = 0.575757575758 46.1212121212\n",
      "current clip data = [-0.7261659787948086, 881.19346585423477, 0.59370021476849411, 34.078437211501125]\n"
     ]
    },
    {
     "name": "stderr",
     "output_type": "stream",
     "text": [
      "\r",
      " 48%|██████████████████████████████████████████████████████████████████████████████████████████████                                                                                                     | 121/251 [00:56<00:41,  3.17it/s]"
     ]
    },
    {
     "name": "stdout",
     "output_type": "stream",
     "text": [
      "green data right = 0.572972972973 47.7405405405\n",
      "green data right = 0.596590909091 34.0681818182\n",
      "green data right = 0.607142857143 25.6071428571\n",
      "green data right = 0.571428571429 47.0\n",
      "green data right = 0.613333333333 19.2266666667\n",
      "green data right = 0.6 17.6\n",
      "current clip data = [-0.7261659787948086, 881.19346585423477, 0.59359555124816255, 32.188709870575956]\n"
     ]
    },
    {
     "name": "stderr",
     "output_type": "stream",
     "text": [
      "\r",
      " 49%|██████████████████████████████████████████████████████████████████████████████████████████████▊                                                                                                    | 122/251 [00:56<00:40,  3.22it/s]"
     ]
    },
    {
     "name": "stdout",
     "output_type": "stream",
     "text": [
      "green data right = 0.595744680851 37.170212766\n",
      "green data right = 0.595041322314 28.0\n",
      "green data right = 0.627118644068 8.38983050848\n",
      "green data right = 0.604651162791 29.4651162791\n",
      "current clip data = [-0.7261659787948086, 881.19346585423477, 0.60323027225435288, 27.042773884816917]\n"
     ]
    },
    {
     "name": "stderr",
     "output_type": "stream",
     "text": [
      "\r",
      " 49%|███████████████████████████████████████████████████████████████████████████████████████████████▌                                                                                                   | 123/251 [00:56<00:38,  3.35it/s]"
     ]
    },
    {
     "name": "stdout",
     "output_type": "stream",
     "text": [
      "green data right = 0.577777777778 45.8\n",
      "green data right = 0.595505617978 37.4269662921\n",
      "green data left = -0.686274509804 856.862745098\n",
      "green data right = 0.610169491525 23.3220338983\n",
      "green data right = 0.571428571429 47.7142857143\n",
      "green data right = 0.581395348837 41.4418604651\n",
      "green data right = 0.574074074074 47.9814814815\n",
      "current clip data = [-0.70622024429936403, 869.0281054761366, 0.58765445055356136, 38.675628819449251]\n"
     ]
    },
    {
     "name": "stderr",
     "output_type": "stream",
     "text": [
      "\r",
      " 49%|████████████████████████████████████████████████████████████████████████████████████████████████▎                                                                                                  | 124/251 [00:56<00:37,  3.34it/s]"
     ]
    },
    {
     "name": "stdout",
     "output_type": "stream",
     "text": [
      "green data left = -0.681818181818 853.5\n",
      "green data right = 0.5625 58.125\n",
      "current clip data = [-0.69401921305877168, 861.26405273806768, 0.57507722527678129, 48.400314409724103]\n"
     ]
    },
    {
     "name": "stderr",
     "output_type": "stream",
     "text": [
      "\r",
      " 50%|█████████████████████████████████████████████████████████████████████████████████████████████████                                                                                                  | 125/251 [00:57<00:36,  3.50it/s]"
     ]
    },
    {
     "name": "stdout",
     "output_type": "stream",
     "text": [
      "current clip data = [-0.69401921305877168, 861.26405273806768, 0.57507722527678129, 48.400314409724103]\n"
     ]
    },
    {
     "name": "stderr",
     "output_type": "stream",
     "text": [
      "\r",
      " 50%|█████████████████████████████████████████████████████████████████████████████████████████████████▉                                                                                                 | 126/251 [00:57<00:32,  3.82it/s]"
     ]
    },
    {
     "name": "stdout",
     "output_type": "stream",
     "text": [
      "green data left = -0.659574468085 849.893617021\n",
      "current clip data = [-0.67679684057193867, 855.57883487967194, 0.57507722527678129, 48.400314409724103]\n"
     ]
    },
    {
     "name": "stderr",
     "output_type": "stream",
     "text": [
      "\r",
      " 51%|██████████████████████████████████████████████████████████████████████████████████████████████████▋                                                                                                | 127/251 [00:57<00:30,  4.11it/s]"
     ]
    },
    {
     "name": "stdout",
     "output_type": "stream",
     "text": [
      "current clip data = [-0.67679684057193867, 855.57883487967194, 0.57507722527678129, 48.400314409724103]\n"
     ]
    },
    {
     "name": "stderr",
     "output_type": "stream",
     "text": [
      "\r",
      " 51%|███████████████████████████████████████████████████████████████████████████████████████████████████▍                                                                                               | 128/251 [00:57<00:28,  4.34it/s]"
     ]
    },
    {
     "name": "stdout",
     "output_type": "stream",
     "text": [
      "green data right = 0.6 32.8\n",
      "green data right = 0.587301587302 37.6349206349\n",
      "current clip data = [-0.67679684057193867, 855.57883487967194, 0.58745960419278909, 39.611745014882032]\n"
     ]
    },
    {
     "name": "stderr",
     "output_type": "stream",
     "text": [
      "\r",
      " 51%|████████████████████████████████████████████████████████████████████████████████████████████████████▏                                                                                              | 129/251 [00:58<00:28,  4.35it/s]"
     ]
    },
    {
     "name": "stdout",
     "output_type": "stream",
     "text": [
      "current clip data = [-0.67679684057193867, 855.57883487967194, 0.58745960419278909, 39.611745014882032]\n"
     ]
    },
    {
     "name": "stderr",
     "output_type": "stream",
     "text": [
      "\r",
      " 52%|████████████████████████████████████████████████████████████████████████████████████████████████████▉                                                                                              | 130/251 [00:58<00:26,  4.50it/s]"
     ]
    },
    {
     "name": "stdout",
     "output_type": "stream",
     "text": [
      "green data left = -0.675213675214 853.452991453\n",
      "green data right = 0.576923076923 48.6923076923\n",
      "green data right = 0.565217391304 53.8260869565\n",
      "green data right = 0.558823529412 62.7058823529\n",
      "green data left = -0.672268907563 851.705882353\n",
      "green data right = 0.607142857143 29.1785714286\n",
      "current clip data = [-0.67475980778288003, 853.57923622853502, 0.57911329179496729, 46.802918689044745]\n"
     ]
    },
    {
     "name": "stderr",
     "output_type": "stream",
     "text": [
      "\r",
      " 52%|█████████████████████████████████████████████████████████████████████████████████████████████████████▊                                                                                             | 131/251 [00:58<00:27,  4.35it/s]"
     ]
    },
    {
     "name": "stdout",
     "output_type": "stream",
     "text": [
      "green data left = -0.674008810573 851.13215859\n",
      "green data right = 0.6 27.0\n",
      "green data left = -0.666666666667 845.666666667\n",
      "green data left = -0.673819742489 849.738197425\n",
      "current clip data = [-0.67231375687787431, 850.02906472759958, 0.58955664589748413, 36.901459344521633]\n"
     ]
    },
    {
     "name": "stderr",
     "output_type": "stream",
     "text": [
      "\r",
      " 53%|██████████████████████████████████████████████████████████████████████████████████████████████████████▌                                                                                            | 132/251 [00:58<00:26,  4.45it/s]"
     ]
    },
    {
     "name": "stdout",
     "output_type": "stream",
     "text": [
      "green data right = 0.594936708861 31.4810126582\n",
      "green data left = -0.648148148148 838.611111111\n",
      "green data right = 0.579439252336 45.7757009346\n",
      "green data right = 0.576354679803 49.078817734\n",
      "green data right = 0.624309392265 12.7348066298\n",
      "green data left = -0.652173913043 838.826086957\n",
      "green data left = -0.7 853.7\n",
      "green data left = -0.641025641026 836.923076923\n",
      "green data right = 0.567164179104 59.8358208955\n",
      "current clip data = [-0.66273229181902826, 843.61786794366185, 0.58862680971122028, 39.301269699445555]\n"
     ]
    },
    {
     "name": "stderr",
     "output_type": "stream",
     "text": [
      "\r",
      " 53%|███████████████████████████████████████████████████████████████████████████████████████████████████████▎                                                                                           | 133/251 [00:58<00:27,  4.24it/s]"
     ]
    },
    {
     "name": "stdout",
     "output_type": "stream",
     "text": [
      "green data left = -0.670520231214 845.630057803\n",
      "green data right = 0.62091503268 15.7254901961\n",
      "green data right = 0.574712643678 51.8620689655\n",
      "green data right = 0.610169491525 16.4237288136\n",
      "green data right = 0.605442176871 19.7551020408\n",
      "green data left = -0.691358024691 850.530864198\n",
      "green data left = -0.633802816901 831.788732394\n",
      "current clip data = [-0.66460334115641639, 842.89188058475645, 0.59997323089305921, 28.613531943082442]\n"
     ]
    },
    {
     "name": "stderr",
     "output_type": "stream",
     "text": [
      "\r",
      " 53%|████████████████████████████████████████████████████████████████████████████████████████████████████████                                                                                           | 134/251 [00:59<00:27,  4.23it/s]"
     ]
    },
    {
     "name": "stdout",
     "output_type": "stream",
     "text": [
      "green data left = -0.647058823529 836.411764706\n",
      "green data right = 0.594827586207 29.6120689655\n",
      "green data right = 0.618181818182 18.0181818182\n",
      "green data right = 0.616071428571 19.0357142857\n",
      "current clip data = [-0.6558310823429141, 839.65182264531938, 0.60726351596329997, 23.819874253124738]\n"
     ]
    },
    {
     "name": "stderr",
     "output_type": "stream",
     "text": [
      "\r",
      " 54%|████████████████████████████████████████████████████████████████████████████████████████████████████████▉                                                                                          | 135/251 [00:59<00:26,  4.34it/s]"
     ]
    },
    {
     "name": "stdout",
     "output_type": "stream",
     "text": [
      "green data left = -0.636363636364 832.181818182\n",
      "green data left = -0.666666666667 844.0\n",
      "green data right = 0.636363636364 1.54545454545\n",
      "green data right = 0.591836734694 34.2653061225\n",
      "green data left = -0.626666666667 833.266666667\n",
      "green data right = 0.633333333333 3.66666666666\n",
      "current clip data = [-0.64638201300996878, 837.27507687344973, 0.61719930508853715, 15.824325396923497]\n"
     ]
    },
    {
     "name": "stderr",
     "output_type": "stream",
     "text": [
      "\r",
      " 54%|█████████████████████████████████████████████████████████████████████████████████████████████████████████▋                                                                                         | 136/251 [00:59<00:26,  4.33it/s]"
     ]
    },
    {
     "name": "stdout",
     "output_type": "stream",
     "text": [
      "green data right = 0.59756097561 28.1707317073\n",
      "green data left = -0.617021276596 830.382978723\n",
      "current clip data = [-0.63170164480285584, 833.82902779842675, 0.60738014034914745, 21.997528552119721]\n"
     ]
    },
    {
     "name": "stderr",
     "output_type": "stream",
     "text": [
      "\r",
      " 55%|██████████████████████████████████████████████████████████████████████████████████████████████████████████▍                                                                                        | 137/251 [00:59<00:25,  4.51it/s]"
     ]
    },
    {
     "name": "stdout",
     "output_type": "stream",
     "text": [
      "green data left = -0.65306122449 839.816326531\n",
      "green data right = 0.6 29.2\n",
      "green data left = -0.666666666667 845.666666667\n",
      "green data right = 0.621212121212 16.0909090909\n",
      "current clip data = [-0.65047651198643941, 839.77067366523534, 0.6095307538537561, 22.429479214343065]\n"
     ]
    },
    {
     "name": "stderr",
     "output_type": "stream",
     "text": [
      "\r",
      " 55%|███████████████████████████████████████████████████████████████████████████████████████████████████████████▏                                                                                       | 138/251 [01:00<00:24,  4.54it/s]"
     ]
    },
    {
     "name": "stdout",
     "output_type": "stream",
     "text": [
      "green data left = -0.645454545455 839.036363636\n",
      "green data right = 0.62037037037 12.5092592593\n",
      "green data left = -0.648148148148 840.611111111\n",
      "green data right = 0.607843137255 28.0588235294\n",
      "current clip data = [-0.64802640186304428, 839.80604947090342, 0.6125814204930089, 20.999187334338604]\n"
     ]
    },
    {
     "name": "stderr",
     "output_type": "stream",
     "text": [
      "\r",
      " 55%|███████████████████████████████████████████████████████████████████████████████████████████████████████████▉                                                                                       | 139/251 [01:00<00:24,  4.57it/s]"
     ]
    },
    {
     "name": "stdout",
     "output_type": "stream",
     "text": [
      "green data left = -0.620967741935 829.201612903\n",
      "green data right = 0.59375 40.9375\n",
      "green data left = -0.626086956522 831.626086957\n",
      "green data left = -0.652173913043 825.173913043\n",
      "current clip data = [-0.63681375334093671, 831.45191559353248, 0.60316571024650512, 30.968343667168796]\n"
     ]
    },
    {
     "name": "stderr",
     "output_type": "stream",
     "text": [
      "\r",
      " 56%|████████████████████████████████████████████████████████████████████████████████████████████████████████████▊                                                                                      | 140/251 [01:00<00:24,  4.54it/s]"
     ]
    },
    {
     "name": "stdout",
     "output_type": "stream",
     "text": [
      "green data right = 0.626666666667 7.52\n",
      "green data right = 0.620253164557 20.417721519\n",
      "green data left = -0.625 832.375\n",
      "green data left = -0.586206896552 814.827586207\n",
      "green data left = -0.586206896552 816.0\n",
      "green data left = -0.620689655172 828.413793103\n",
      "green data left = -0.636363636364 834.454545455\n",
      "green data right = 0.601307189542 29.0392156863\n",
      "current clip data = [-0.61521347299673979, 826.25380672640392, 0.61284818275315434, 21.986320218107664]\n"
     ]
    },
    {
     "name": "stderr",
     "output_type": "stream",
     "text": [
      "\r",
      " 56%|█████████████████████████████████████████████████████████████████████████████████████████████████████████████▌                                                                                     | 141/251 [01:00<00:25,  4.38it/s]"
     ]
    },
    {
     "name": "stdout",
     "output_type": "stream",
     "text": [
      "green data right = 0.620879120879 12.3076923077\n",
      "current clip data = [-0.61521347299673979, 826.25380672640392, 0.61686365181613745, 17.147006262900128]\n"
     ]
    },
    {
     "name": "stderr",
     "output_type": "stream",
     "text": [
      "\r",
      " 57%|██████████████████████████████████████████████████████████████████████████████████████████████████████████████▎                                                                                    | 142/251 [01:00<00:23,  4.55it/s]"
     ]
    },
    {
     "name": "stdout",
     "output_type": "stream",
     "text": [
      "green data right = 0.6 29.2\n",
      "green data right = 0.648514851485 -5.84653465346\n",
      "green data left = -0.596638655462 811.386554622\n",
      "green data left = -0.617886178862 824.349593496\n",
      "current clip data = [-0.60991276910690517, 820.6633182813963, 0.62179283443376165, 13.500157203145292]\n"
     ]
    },
    {
     "name": "stderr",
     "output_type": "stream",
     "text": [
      "\r",
      " 57%|███████████████████████████████████████████████████████████████████████████████████████████████████████████████                                                                                    | 143/251 [01:01<00:23,  4.57it/s]"
     ]
    },
    {
     "name": "stdout",
     "output_type": "stream",
     "text": [
      "green data right = 0.623574144487 17.0114068441\n",
      "green data left = -0.611111111111 826.944444444\n",
      "green data left = -0.6 816.2\n",
      "green data left = -0.623376623377 831.883116883\n",
      "green data right = 0.597989949749 31.7688442211\n",
      "green data right = 0.627358490566 12.9905660377\n",
      "green data left = -0.597402597403 813.61038961\n",
      "current clip data = [-0.60836062019944792, 821.8602538438696, 0.6176788548088088, 18.817743576523238]\n"
     ]
    },
    {
     "name": "stderr",
     "output_type": "stream",
     "text": [
      "\r",
      " 57%|███████████████████████████████████████████████████████████████████████████████████████████████████████████████▊                                                                                   | 144/251 [01:01<00:24,  4.36it/s]"
     ]
    },
    {
     "name": "stdout",
     "output_type": "stream",
     "text": [
      "green data right = 0.623595505618 17.2359550562\n",
      "green data right = 0.6 28.2\n",
      "green data left = -0.577540106952 807.497326203\n",
      "green data left = -0.578947368421 807.052631579\n",
      "green data right = 0.627118644068 12.9661016949\n",
      "current clip data = [-0.58828269852412429, 812.13673720867519, 0.6170982511236458, 19.304950081904462]\n"
     ]
    },
    {
     "name": "stderr",
     "output_type": "stream",
     "text": [
      "\r",
      " 58%|████████████████████████████████████████████████████████████████████████████████████████████████████████████████▋                                                                                  | 145/251 [01:01<00:23,  4.44it/s]"
     ]
    },
    {
     "name": "stdout",
     "output_type": "stream",
     "text": [
      "green data left = -0.556603773585 791.622641509\n",
      "green data left = -0.574257425743 806.891089109\n",
      "green data right = 0.6 42.0\n",
      "green data left = -0.581818181818 813.563636364\n",
      "green data right = 0.620689655172 19.5172413793\n",
      "green data left = -0.588235294118 815.352941176\n",
      "green data right = 0.646464646465 -4.26262626263\n",
      "green data left = -0.613636363636 816.181818182\n",
      "current clip data = [-0.58380562290396509, 809.2914772581571, 0.62106313819017656, 19.139891299647211]\n"
     ]
    },
    {
     "name": "stderr",
     "output_type": "stream",
     "text": [
      "\r",
      " 58%|█████████████████████████████████████████████████████████████████████████████████████████████████████████████████▍                                                                                 | 146/251 [01:01<00:24,  4.31it/s]"
     ]
    },
    {
     "name": "stdout",
     "output_type": "stream",
     "text": [
      "green data left = -0.57528957529 803.297297297\n",
      "green data left = -0.600840336134 821.714285714\n",
      "green data right = 0.592592592593 36.5185185185\n",
      "green data right = 0.621951219512 8.78048780487\n",
      "green data right = 0.619047619048 21.4761904762\n",
      "green data left = -0.596026490066 812.602649007\n",
      "green data left = -0.616666666667 817.4\n",
      "green data left = -0.622222222222 819.533333333\n",
      "green data right = 0.625 4.875\n",
      "green data left = -0.553571428571 798.267857143\n",
      "green data left = -0.616822429907 827.261682243\n",
      "current clip data = [-0.59565559647013511, 813.67107274944306, 0.61593091386851584, 18.158017619847559]\n"
     ]
    },
    {
     "name": "stderr",
     "output_type": "stream",
     "text": [
      "\r",
      " 59%|██████████████████████████████████████████████████████████████████████████████████████████████████████████████████▏                                                                                | 147/251 [01:02<00:24,  4.19it/s]"
     ]
    },
    {
     "name": "stdout",
     "output_type": "stream",
     "text": [
      "green data left = -0.575757575758 803.303030303\n",
      "green data left = -0.598591549296 819.73943662\n",
      "green data left = -0.597701149425 813.666666667\n",
      "green data left = -0.541666666667 798.833333333\n",
      "green data left = -0.59842519685 818.645669291\n",
      "green data left = -0.60447761194 824.641791045\n",
      "green data left = -0.615384615385 822.153846154\n",
      "green data left = -0.625748502994 819.038922156\n",
      "green data right = 0.588235294118 40.3529411765\n",
      "green data left = -0.552845528455 790.154471545\n",
      "green data left = -0.694915254237 835.338983051\n",
      "green data left = -0.7 835.2\n",
      "green data left = -0.681818181818 832.954545455\n",
      "green data left = -0.547169811321 801.094339623\n",
      "current clip data = [-0.60929694575830451, 816.31686485647072, 0.60208310399308007, 29.255479398160283]\n"
     ]
    },
    {
     "name": "stderr",
     "output_type": "stream",
     "text": [
      "\r",
      " 59%|██████████████████████████████████████████████████████████████████████████████████████████████████████████████████▉                                                                                | 148/251 [01:02<00:25,  4.04it/s]"
     ]
    },
    {
     "name": "stdout",
     "output_type": "stream",
     "text": [
      "green data left = -0.621621621622 832.459459459\n",
      "green data left = -0.600543478261 817.918478261\n",
      "green data left = -0.598566308244 813.691756272\n",
      "green data left = -0.620879120879 823.593406593\n",
      "green data left = -0.623626373626 834.799450549\n",
      "green data left = -0.622710622711 825.864468864\n",
      "green data left = -0.621794871795 818.064102564\n",
      "green data right = 0.586206896552 42.7586206897\n",
      "green data right = 0.625 19.125\n",
      "green data left = -0.649635036496 823.430656934\n",
      "green data left = -0.607142857143 820.285714286\n",
      "current clip data = [-0.6175817236534723, 822.64243586406519, 0.60443000018160109, 30.379700029272104]\n"
     ]
    },
    {
     "name": "stderr",
     "output_type": "stream",
     "text": [
      "\r",
      " 59%|███████████████████████████████████████████████████████████████████████████████████████████████████████████████████▊                                                                               | 149/251 [01:02<00:24,  4.12it/s]"
     ]
    },
    {
     "name": "stdout",
     "output_type": "stream",
     "text": [
      "green data left = -0.576530612245 808.602040816\n",
      "green data left = -0.629213483146 836.640449438\n",
      "green data left = -0.6 814.8\n",
      "green data left = -0.624113475177 832.843971631\n",
      "green data left = -0.6 816.0\n",
      "green data right = 0.59375 43.21875\n",
      "green data right = 0.578947368421 50.0526315789\n",
      "green data right = 0.588235294118 47.4705882353\n",
      "green data left = -0.626582278481 836.632911392\n",
      "green data right = 0.591397849462 38.4946236559\n",
      "green data left = -0.701149425287 835.114942529\n",
      "green data left = -0.624060150376 815.255639098\n",
      "green data left = -0.625 834.25\n",
      "current clip data = [-0.62242311483660495, 825.27823907686854, 0.59135210243653291, 41.923258699885913]\n"
     ]
    },
    {
     "name": "stderr",
     "output_type": "stream",
     "text": [
      "\r",
      " 60%|████████████████████████████████████████████████████████████████████████████████████████████████████████████████████▌                                                                              | 150/251 [01:02<00:24,  4.10it/s]"
     ]
    },
    {
     "name": "stdout",
     "output_type": "stream",
     "text": [
      "green data left = -0.600985221675 814.162561576\n",
      "green data left = -0.576923076923 807.884615385\n",
      "green data left = -0.629139072848 836.251655629\n",
      "green data left = -0.578313253012 807.144578313\n",
      "green data left = -0.626794258373 833.822966507\n",
      "green data right = 0.569230769231 58.3384615385\n",
      "green data right = 0.59375 43.59375\n",
      "green data left = -0.647058823529 827.117647059\n",
      "green data left = -0.576923076923 809.615384615\n",
      "green data left = -0.647975077882 842.23364486\n",
      "green data right = 0.596330275229 34.5963302752\n",
      "current clip data = [-0.61183721955573422, 822.61236589126997, 0.58766578672416481, 44.612950128394232]\n"
     ]
    },
    {
     "name": "stderr",
     "output_type": "stream",
     "text": [
      "\r",
      " 60%|█████████████████████████████████████████████████████████████████████████████████████████████████████████████████████▎                                                                             | 151/251 [01:03<00:24,  4.13it/s]"
     ]
    },
    {
     "name": "stdout",
     "output_type": "stream",
     "text": [
      "green data left = -0.649572649573 843.547008547\n",
      "green data left = -0.602459016393 815.799180328\n",
      "green data left = -0.598039215686 819.607843137\n",
      "green data left = -0.600760456274 816.038022814\n",
      "green data left = -0.6 819.8\n",
      "green data left = -0.615384615385 832.538461538\n",
      "green data left = -0.627906976744 838.581395349\n",
      "green data left = -0.583333333333 814.333333333\n",
      "green data left = -0.619047619048 834.142857143\n",
      "green data left = -0.577464788732 811.61971831\n",
      "green data left = -0.620689655172 837.448275862\n",
      "green data left = -0.579908675799 810.913242009\n",
      "green data left = -0.647342995169 844.144927536\n",
      "current clip data = [-0.6095533726331841, 825.79475941413307, 0.58766578672416481, 44.612950128394232]\n"
     ]
    },
    {
     "name": "stderr",
     "output_type": "stream",
     "text": [
      "\r",
      " 61%|██████████████████████████████████████████████████████████████████████████████████████████████████████████████████████                                                                             | 152/251 [01:03<00:24,  4.10it/s]"
     ]
    },
    {
     "name": "stdout",
     "output_type": "stream",
     "text": [
      "green data left = -0.648648648649 842.621621622\n",
      "green data left = -0.6 814.0\n",
      "green data right = 0.6 42.0\n",
      "green data left = -0.599236641221 819.13740458\n",
      "green data right = 0.598039215686 34.6470588235\n",
      "green data left = -0.6 815.4\n",
      "green data left = -0.619047619048 828.476190476\n",
      "current clip data = [-0.61274771359180413, 824.23832934868278, 0.59523500080347902, 40.420002983975223]\n"
     ]
    },
    {
     "name": "stderr",
     "output_type": "stream",
     "text": [
      "\r",
      " 61%|██████████████████████████████████████████████████████████████████████████████████████████████████████████████████████▊                                                                            | 153/251 [01:03<00:22,  4.33it/s]"
     ]
    },
    {
     "name": "stdout",
     "output_type": "stream",
     "text": [
      "green data left = -0.599431818182 813.278409091\n",
      "green data left = -0.647416413374 842.854103343\n",
      "green data right = 0.574468085106 58.6808510638\n",
      "green data left = -0.648484848485 841.933333333\n",
      "green data right = 0.623076923077 23.3846153846\n",
      "green data left = -0.576576576577 807.324324324\n",
      "green data left = -0.640625 825.859375\n",
      "green data left = -0.616822429907 820.495327103\n",
      "green data left = -0.622568093385 823.828793774\n",
      "green data right = 0.576388888889 58.7638888889\n",
      "green data right = 0.62015503876 26.8682170543\n",
      "current clip data = [-0.6205841116875831, 824.97649941472991, 0.59786478732707249, 41.623515075114888]\n"
     ]
    },
    {
     "name": "stderr",
     "output_type": "stream",
     "text": [
      "\r",
      " 61%|███████████████████████████████████████████████████████████████████████████████████████████████████████████████████████▋                                                                           | 154/251 [01:03<00:21,  4.42it/s]"
     ]
    },
    {
     "name": "stdout",
     "output_type": "stream",
     "text": [
      "green data left = -0.648093841642 842.134897361\n",
      "green data left = -0.622568093385 823.147859922\n",
      "green data right = 0.620689655172 23.275862069\n",
      "green data right = 0.573684210526 56.7157894737\n",
      "green data left = -0.597014925373 811.701492537\n",
      "green data left = -0.577981651376 808.266055046\n",
      "green data right = 0.572916666667 59.6875\n",
      "green data left = -0.621621621622 829.621621622\n",
      "green data left = -0.636363636364 837.272727273\n",
      "green data left = -0.647887323944 828.183098592\n",
      "green data left = -0.639534883721 838.325581395\n",
      "green data left = -0.64406779661 828.847457627\n",
      "green data left = -0.617647058824 826.558823529\n",
      "green data right = 0.59793814433 32.2164948454\n",
      "green data right = 0.620689655172 24.275862069\n",
      "green data left = -0.627118644068 830.118644068\n",
      "current clip data = [-0.62504029905130443, 827.42956319886423, 0.59729718653246378, 39.632503922014607]\n"
     ]
    },
    {
     "name": "stderr",
     "output_type": "stream",
     "text": [
      "\r",
      " 62%|████████████████████████████████████████████████████████████████████████████████████████████████████████████████████████▍                                                                          | 155/251 [01:04<00:22,  4.26it/s]"
     ]
    },
    {
     "name": "stdout",
     "output_type": "stream",
     "text": [
      "green data left = -0.648148148148 841.5\n",
      "green data left = -0.621794871795 821.416666667\n",
      "green data left = -0.648318042813 842.837920489\n",
      "green data right = 0.622222222222 28.4\n",
      "green data left = -0.618055555556 821.75\n",
      "green data right = 0.601398601399 37.5104895105\n",
      "green data left = -0.644444444444 831.222222222\n",
      "green data left = -0.698275862069 848.396551724\n",
      "green data left = -0.621621621622 822.0\n",
      "current clip data = [-0.64071235568729623, 832.06911553764871, 0.60697267005109612, 35.180997810834363]\n"
     ]
    },
    {
     "name": "stderr",
     "output_type": "stream",
     "text": [
      "\r",
      " 62%|█████████████████████████████████████████████████████████████████████████████████████████████████████████████████████████▏                                                                         | 156/251 [01:04<00:21,  4.46it/s]"
     ]
    },
    {
     "name": "stdout",
     "output_type": "stream",
     "text": [
      "green data left = -0.649390243902 843.75\n",
      "green data left = -0.623762376238 822.99009901\n",
      "green data left = -0.61797752809 822.97752809\n",
      "green data left = -0.622950819672 823.049180328\n",
      "green data left = -0.622641509434 824.226415094\n",
      "green data right = 0.628205128205 23.1794871795\n",
      "green data left = -0.648648648649 842.432432432\n",
      "green data right = 0.605263157895 44.7631578947\n",
      "current clip data = [-0.63229764023885593, 830.21353864172568, 0.61348031871698538, 34.374547628354406]\n"
     ]
    },
    {
     "name": "stderr",
     "output_type": "stream",
     "text": [
      "\r",
      " 63%|█████████████████████████████████████████████████████████████████████████████████████████████████████████████████████████▉                                                                         | 157/251 [01:04<00:19,  4.70it/s]"
     ]
    },
    {
     "name": "stdout",
     "output_type": "stream",
     "text": [
      "green data left = -0.621323529412 816.827205882\n",
      "green data left = -0.647058823529 837.0\n",
      "green data left = -0.621212121212 818.166666667\n",
      "green data left = -0.649230769231 838.815384615\n",
      "current clip data = [-0.63422457672458454, 828.20455916122592, 0.61348031871698538, 34.374547628354406]\n"
     ]
    },
    {
     "name": "stderr",
     "output_type": "stream",
     "text": [
      "\r",
      " 63%|██████████████████████████████████████████████████████████████████████████████████████████████████████████████████████████▋                                                                        | 158/251 [01:04<00:17,  5.18it/s]"
     ]
    },
    {
     "name": "stdout",
     "output_type": "stream",
     "text": [
      "green data left = -0.648734177215 836.398734177\n",
      "green data left = -0.622775800712 816.896797153\n",
      "green data left = -0.622641509434 815.622641509\n",
      "green data left = -0.649789029536 835.599156118\n",
      "current clip data = [-0.63563301872426936, 826.54437762380871, 0.61348031871698538, 34.374547628354406]\n"
     ]
    },
    {
     "name": "stderr",
     "output_type": "stream",
     "text": [
      "\r",
      " 63%|███████████████████████████████████████████████████████████████████████████████████████████████████████████████████████████▌                                                                       | 159/251 [01:04<00:16,  5.52it/s]"
     ]
    },
    {
     "name": "stdout",
     "output_type": "stream",
     "text": [
      "green data left = -0.646496815287 832.694267516\n",
      "green data left = -0.620192307692 813.653846154\n",
      "green data left = -0.624489795918 814.636734694\n",
      "green data left = -0.629032258065 827.838709677\n",
      "green data left = -0.606060606061 808.696969697\n",
      "green data left = -0.6 811.2\n",
      "current clip data = [-0.62312925739238401, 819.3235579088348, 0.61348031871698538, 34.374547628354406]\n"
     ]
    },
    {
     "name": "stderr",
     "output_type": "stream",
     "text": [
      "\r",
      " 64%|████████████████████████████████████████████████████████████████████████████████████████████████████████████████████████████▎                                                                      | 160/251 [01:04<00:16,  5.54it/s]"
     ]
    },
    {
     "name": "stdout",
     "output_type": "stream",
     "text": [
      "green data left = -0.578431372549 804.578431373\n",
      "green data left = -0.624489795918 815.644897959\n",
      "green data left = -0.609375 819.0\n",
      "green data left = -0.647727272727 833.681818182\n",
      "green data left = -0.669064748201 842.021582734\n",
      "green data left = -0.624338624339 825.878306878\n",
      "green data left = -0.666666666667 840.333333333\n",
      "green data left = -0.576642335766 801.678832117\n",
      "green data left = -0.623655913978 814.451612903\n",
      "current clip data = [-0.62435209875386877, 821.65923733878515, 0.61348031871698538, 34.374547628354406]\n"
     ]
    },
    {
     "name": "stderr",
     "output_type": "stream",
     "text": [
      "\r",
      " 64%|█████████████████████████████████████████████████████████████████████████████████████████████████████████████████████████████                                                                      | 161/251 [01:05<00:15,  5.65it/s]"
     ]
    },
    {
     "name": "stdout",
     "output_type": "stream",
     "text": [
      "green data left = -0.64347826087 832.973913043\n",
      "green data left = -0.623115577889 813.954773869\n",
      "green data left = -0.649193548387 835.032258065\n",
      "green data left = -0.621495327103 813.943925234\n",
      "green data left = -0.608695652174 819.086956522\n",
      "green data left = -0.612244897959 820.040816327\n",
      "current clip data = [-0.62608219473369719, 822.38455434257742, 0.61348031871698538, 34.374547628354406]\n"
     ]
    },
    {
     "name": "stderr",
     "output_type": "stream",
     "text": [
      "\r",
      " 65%|█████████████████████████████████████████████████████████████████████████████████████████████████████████████████████████████▊                                                                     | 162/251 [01:05<00:15,  5.61it/s]"
     ]
    },
    {
     "name": "stdout",
     "output_type": "stream",
     "text": [
      "green data left = -0.647887323944 833.014084507\n",
      "green data left = -0.584905660377 798.509433962\n",
      "green data left = -0.625 812.25\n",
      "green data left = -0.621794871795 811.826923077\n",
      "green data left = -0.625 823.875\n",
      "green data left = -0.634920634921 828.396825397\n",
      "green data left = -0.58904109589 809.369863014\n",
      "green data left = -0.591836734694 810.142857143\n",
      "current clip data = [-0.61627427959494518, 816.64106016024277, 0.61348031871698538, 34.374547628354406]\n"
     ]
    },
    {
     "name": "stderr",
     "output_type": "stream",
     "text": [
      "\r",
      " 65%|██████████████████████████████████████████████████████████████████████████████████████████████████████████████████████████████▋                                                                    | 163/251 [01:05<00:15,  5.58it/s]"
     ]
    },
    {
     "name": "stdout",
     "output_type": "stream",
     "text": [
      "green data left = -0.624203821656 827.025477707\n",
      "green data left = -0.576923076923 799.730769231\n",
      "green data left = -0.58064516129 803.032258065\n",
      "green data left = -0.571428571429 799.571428571\n",
      "green data left = -0.577669902913 808.0\n",
      "green data left = -0.609375 823.40625\n",
      "green data left = -0.588235294118 815.117647059\n",
      "green data left = -0.6 822.6\n",
      "green data left = -0.56 792.36\n",
      "green data left = -0.622641509434 827.962264151\n",
      "green data left = -0.60103626943 818.393782383\n",
      "current clip data = [-0.59403607389893642, 812.82007811059566, 0.61348031871698538, 34.374547628354406]\n"
     ]
    },
    {
     "name": "stderr",
     "output_type": "stream",
     "text": [
      "\r",
      " 65%|███████████████████████████████████████████████████████████████████████████████████████████████████████████████████████████████▍                                                                   | 164/251 [01:05<00:15,  5.54it/s]"
     ]
    },
    {
     "name": "stdout",
     "output_type": "stream",
     "text": [
      "green data left = -0.577272727273 810.795454545\n",
      "green data left = -0.577075098814 803.268774704\n",
      "green data left = -0.620689655172 828.75862069\n",
      "green data left = -0.561403508772 796.877192982\n",
      "green data left = -0.611111111111 827.388888889\n",
      "green data left = -0.577922077922 802.357142857\n",
      "green data left = -0.551724137931 797.034482759\n",
      "green data left = -0.618055555556 829.291666667\n",
      "green data left = -0.595744680851 819.595744681\n",
      "green data left = -0.509433962264 788.905660377\n",
      "green data left = -0.666666666667 825.666666667\n",
      "current clip data = [-0.58842793801932436, 811.89669782732597, 0.61348031871698538, 34.374547628354406]\n"
     ]
    },
    {
     "name": "stderr",
     "output_type": "stream",
     "text": [
      "\r",
      " 66%|████████████████████████████████████████████████████████████████████████████████████████████████████████████████████████████████▏                                                                  | 165/251 [01:05<00:15,  5.64it/s]"
     ]
    },
    {
     "name": "stdout",
     "output_type": "stream",
     "text": [
      "green data left = -0.621145374449 831.969162996\n",
      "green data left = -0.552795031056 800.49689441\n",
      "green data left = -0.601265822785 812.46835443\n",
      "green data left = -0.547619047619 792.119047619\n",
      "green data left = -0.535714285714 788.857142857\n",
      "green data left = -0.56 798.64\n",
      "green data right = 0.598684210526 32.3486842105\n",
      "green data left = -0.545454545455 792.727272727\n",
      "green data left = -0.6 823.8\n",
      "green data left = -0.63768115942 836.579710145\n",
      "current clip data = [-0.57901032045175427, 808.95542830116278, 0.60608226462165082, 33.361615919440098]\n"
     ]
    },
    {
     "name": "stderr",
     "output_type": "stream",
     "text": [
      "\r",
      " 66%|████████████████████████████████████████████████████████████████████████████████████████████████████████████████████████████████▉                                                                  | 166/251 [01:05<00:15,  5.43it/s]"
     ]
    },
    {
     "name": "stdout",
     "output_type": "stream",
     "text": [
      "green data left = -0.574912891986 806.456445993\n",
      "green data left = -0.603448275862 828.810344828\n",
      "green data left = -0.600649350649 826.801948052\n",
      "green data right = 0.621794871795 10.5448717949\n",
      "green data right = 0.625 9.125\n",
      "green data left = -0.598540145985 826.087591241\n",
      "green data right = 0.617021276596 16.3617021277\n",
      "green data left = -0.566666666667 805.833333333\n",
      "green data left = -0.595505617978 825.168539326\n",
      "current clip data = [-0.58839046708269083, 818.30194729625453, 0.61747460325306702, 17.348297460492773]\n"
     ]
    },
    {
     "name": "stderr",
     "output_type": "stream",
     "text": [
      "\r",
      " 67%|█████████████████████████████████████████████████████████████████████████████████████████████████████████████████████████████████▋                                                                 | 167/251 [01:06<00:15,  5.43it/s]"
     ]
    },
    {
     "name": "stdout",
     "output_type": "stream",
     "text": [
      "green data left = -0.601449275362 828.913043478\n",
      "green data left = -0.572413793103 807.737931034\n",
      "green data left = -0.596385542169 816.271084337\n",
      "green data right = 0.644859813084 0.0560747663561\n",
      "green data left = -0.6 829.4\n",
      "green data right = 0.626168224299 5.77570093458\n",
      "green data right = 0.621848739496 10.0\n",
      "green data left = -0.611111111111 818.833333333\n",
      "green data left = -0.577777777778 809.444444444\n",
      "green data left = -0.584905660377 826.962264151\n",
      "green data right = 0.648148148148 -3.90740740741\n",
      "current clip data = [-0.59155420337292264, 819.48300600938353, 0.63169990565603718, 5.8545331508049383]\n"
     ]
    },
    {
     "name": "stderr",
     "output_type": "stream",
     "text": [
      "\r",
      " 67%|██████████████████████████████████████████████████████████████████████████████████████████████████████████████████████████████████▌                                                                | 168/251 [01:06<00:15,  5.42it/s]"
     ]
    },
    {
     "name": "stdout",
     "output_type": "stream",
     "text": [
      "green data left = -0.622950819672 841.737704918\n",
      "green data left = -0.578274760383 813.591054313\n",
      "green data left = -0.620689655172 841.310344828\n",
      "green data right = 0.633333333333 12.5333333333\n",
      "green data left = -0.582417582418 815.879120879\n",
      "green data right = 0.651515151515 -11.303030303\n",
      "green data right = 0.625 14.875\n",
      "green data left = -0.55 797.1\n",
      "current clip data = [-0.59098117016973783, 821.51687182453634, 0.63538709762612877, 5.4899590452783524]\n"
     ]
    },
    {
     "name": "stderr",
     "output_type": "stream",
     "text": [
      "\r",
      " 67%|███████████████████████████████████████████████████████████████████████████████████████████████████████████████████████████████████▎                                                               | 169/251 [01:06<00:15,  5.42it/s]"
     ]
    },
    {
     "name": "stdout",
     "output_type": "stream",
     "text": [
      "green data left = -0.62447257384 846.489451477\n",
      "green data left = -0.598290598291 824.803418803\n",
      "green data left = -0.602941176471 834.073529412\n",
      "green data left = -0.565217391304 807.173913043\n",
      "green data left = -0.575 814.875\n",
      "green data left = -0.6 834.8\n",
      "green data left = -0.6 831.6\n",
      "green data left = -0.597402597403 825.844155844\n",
      "green data right = 0.630136986301 7.0\n",
      "green data left = -0.6 833.2\n",
      "green data right = 0.620689655172 20.0689655172\n",
      "current clip data = [-0.59543055074775364, 827.43763404041488, 0.62873791303330095, 10.852974854175818]\n"
     ]
    },
    {
     "name": "stderr",
     "output_type": "stream",
     "text": [
      "\r",
      " 68%|████████████████████████████████████████████████████████████████████████████████████████████████████████████████████████████████████                                                               | 170/251 [01:06<00:15,  5.19it/s]"
     ]
    },
    {
     "name": "stdout",
     "output_type": "stream",
     "text": [
      "green data left = -0.600985221675 831.039408867\n",
      "green data left = -0.6 828.6\n",
      "green data left = -0.584905660377 824.924528302\n",
      "green data left = -0.575757575758 820.575757576\n",
      "green data left = -0.578947368421 820.0\n",
      "green data right = 0.597701149425 34.0804597701\n",
      "green data left = -0.576923076923 815.961538462\n",
      "green data left = -0.569620253165 816.721518987\n",
      "green data left = -0.600760456274 829.783269962\n",
      "current clip data = [-0.58703668481555704, 823.89373957732323, 0.61321953122929296, 22.466717312146319]\n"
     ]
    },
    {
     "name": "stderr",
     "output_type": "stream",
     "text": [
      "\r",
      " 68%|████████████████████████████████████████████████████████████████████████████████████████████████████████████████████████████████████▊                                                              | 171/251 [01:06<00:15,  5.26it/s]"
     ]
    },
    {
     "name": "stdout",
     "output_type": "stream",
     "text": [
      "green data left = -0.622478386167 841.864553314\n",
      "green data right = 0.62 15.54\n",
      "green data left = -0.552631578947 806.368421053\n",
      "green data right = 0.602040816327 31.5\n",
      "green data left = -0.612903225806 836.387096774\n",
      "green data left = -0.6 829.2\n",
      "current clip data = [-0.59500997514730536, 827.54276214365416, 0.61175344918527419, 23.168905770715725]\n"
     ]
    },
    {
     "name": "stderr",
     "output_type": "stream",
     "text": [
      "\r",
      " 69%|█████████████████████████████████████████████████████████████████████████████████████████████████████████████████████████████████████▋                                                             | 172/251 [01:07<00:14,  5.40it/s]"
     ]
    },
    {
     "name": "stdout",
     "output_type": "stream",
     "text": [
      "green data left = -0.645454545455 849.909090909\n",
      "green data left = -0.631578947368 843.736842105\n",
      "green data right = 0.601694915254 26.7542372881\n",
      "green data left = -0.614035087719 839.0\n",
      "green data left = -0.624277456647 839.445086705\n",
      "green data left = -0.636363636364 846.636363636\n",
      "green data left = -0.555555555556 803.222222222\n",
      "current clip data = [-0.61461074346516631, 835.6417668173998, 0.60672418221975566, 24.961571529425775]\n"
     ]
    },
    {
     "name": "stderr",
     "output_type": "stream",
     "text": [
      "\r",
      " 69%|██████████████████████████████████████████████████████████████████████████████████████████████████████████████████████████████████████▍                                                            | 173/251 [01:07<00:14,  5.49it/s]"
     ]
    },
    {
     "name": "stdout",
     "output_type": "stream",
     "text": [
      "green data left = -0.649068322981 850.863354037\n",
      "green data left = -0.647058823529 848.411764706\n",
      "green data right = 0.620689655172 17.1034482759\n",
      "green data right = 0.58407079646 39.9557522124\n",
      "current clip data = [-0.63691262999198128, 844.97229518684981, 0.6038282112841159, 27.340257339225342]\n"
     ]
    },
    {
     "name": "stderr",
     "output_type": "stream",
     "text": [
      "\r",
      " 69%|███████████████████████████████████████████████████████████████████████████████████████████████████████████████████████████████████████▏                                                           | 174/251 [01:07<00:13,  5.75it/s]"
     ]
    },
    {
     "name": "stdout",
     "output_type": "stream",
     "text": [
      "green data left = -0.647416413374 847.501519757\n",
      "green data left = -0.649350649351 847.337662338\n",
      "green data right = 0.598684210526 25.5921052632\n",
      "green data left = -0.606557377049 829.245901639\n",
      "green data left = -0.64 850.44\n",
      "green data left = -0.633333333333 844.866666667\n",
      "green data right = 0.601226993865 24.0920245399\n",
      "current clip data = [-0.63559506718316683, 844.06067426456002, 0.60124647189182079, 25.674795714086901]\n"
     ]
    },
    {
     "name": "stderr",
     "output_type": "stream",
     "text": [
      "\r",
      " 70%|███████████████████████████████████████████████████████████████████████████████████████████████████████████████████████████████████████▉                                                           | 175/251 [01:07<00:13,  5.76it/s]"
     ]
    },
    {
     "name": "stdout",
     "output_type": "stream",
     "text": [
      "green data left = -0.65 846.4\n",
      "green data right = 0.578431372549 43.9607843137\n",
      "green data left = -0.623655913978 839.290322581\n",
      "green data left = -0.6875 861.0\n",
      "green data left = -0.637931034483 841.206896552\n",
      "green data right = 0.621052631579 4.72631578947\n",
      "green data left = -0.652173913043 849.304347826\n",
      "green data left = -0.625 838.75\n",
      "green data left = -0.655172413793 849.620689655\n",
      "green data left = -0.649789029536 847.227848101\n",
      "current clip data = [-0.64631304133520728, 846.31786433105049, 0.60024349200659632, 24.787298605761602]\n"
     ]
    },
    {
     "name": "stderr",
     "output_type": "stream",
     "text": [
      "\r",
      " 70%|████████████████████████████████████████████████████████████████████████████████████████████████████████████████████████████████████████▋                                                          | 176/251 [01:07<00:13,  5.50it/s]"
     ]
    },
    {
     "name": "stdout",
     "output_type": "stream",
     "text": [
      "green data left = -0.649746192893 847.406091371\n",
      "green data left = -0.653846153846 851.384615385\n",
      "green data right = 0.59375 29.03125\n",
      "green data left = -0.649635036496 848.532846715\n",
      "green data right = 0.610169491525 14.9322033898\n",
      "current clip data = [-0.64988510614277828, 848.41035445038835, 0.60138766117734055, 22.916917331863445]\n"
     ]
    },
    {
     "name": "stderr",
     "output_type": "stream",
     "text": [
      "\r",
      " 71%|█████████████████████████████████████████████████████████████████████████████████████████████████████████████████████████████████████████▌                                                         | 177/251 [01:07<00:12,  5.84it/s]"
     ]
    },
    {
     "name": "stdout",
     "output_type": "stream",
     "text": [
      "green data right = 0.620111731844 13.4804469274\n",
      "green data left = -0.671111111111 856.475555556\n",
      "green data right = 0.6 21.2\n",
      "green data left = -0.629032258065 836.677419355\n",
      "green data right = 0.631578947368 4.42105263158\n",
      "green data left = -0.65 847.7\n",
      "green data right = 0.582089552239 40.5223880597\n",
      "green data left = -0.636363636364 842.0\n",
      "current clip data = [-0.6472784223364092, 846.25266587215685, 0.60703357852562922, 20.508160990103029]\n"
     ]
    },
    {
     "name": "stderr",
     "output_type": "stream",
     "text": [
      "\r",
      " 71%|██████████████████████████████████████████████████████████████████████████████████████████████████████████████████████████████████████████▎                                                        | 178/251 [01:08<00:12,  5.86it/s]"
     ]
    },
    {
     "name": "stdout",
     "output_type": "stream",
     "text": [
      "green data left = -0.649446494465 849.915129151\n",
      "green data right = 0.593220338983 29.3389830508\n",
      "green data right = 0.62015503876 14.4573643411\n",
      "green data left = -0.655629139073 852.953642384\n",
      "green data right = 0.634615384615 -0.807692307692\n",
      "green data left = -0.606060606061 826.878787879\n",
      "green data right = 0.606060606061 14.3939393939\n",
      "current clip data = [-0.63960366548370196, 844.00005632158559, 0.61221698938887248, 15.578151093656086]\n"
     ]
    },
    {
     "name": "stderr",
     "output_type": "stream",
     "text": [
      "\r",
      " 71%|███████████████████████████████████████████████████████████████████████████████████████████████████████████████████████████████████████████                                                        | 179/251 [01:08<00:12,  5.88it/s]"
     ]
    },
    {
     "name": "stdout",
     "output_type": "stream",
     "text": [
      "green data left = -0.669950738916 859.45320197\n",
      "green data right = 0.590909090909 27.4090909091\n",
      "green data right = 0.614457831325 20.4337349398\n",
      "green data right = 0.59649122807 24.9649122807\n",
      "green data left = -0.637931034483 843.586206897\n",
      "green data left = -0.672811059908 859.258064516\n",
      "green data left = -0.607142857143 827.321428571\n",
      "green data left = -0.661764705882 856.691176471\n",
      "green data left = -0.6 825.6\n",
      "green data left = -0.642857142857 848.928571429\n",
      "green data right = 0.598039215686 36.6960784314\n",
      "current clip data = [-0.64150765058411208, 845.60483827191183, 0.60242287107594206, 25.01639353091668]\n"
     ]
    },
    {
     "name": "stderr",
     "output_type": "stream",
     "text": [
      "\r",
      " 72%|███████████████████████████████████████████████████████████████████████████████████████████████████████████████████████████████████████████▊                                                       | 180/251 [01:08<00:12,  5.72it/s]"
     ]
    },
    {
     "name": "stdout",
     "output_type": "stream",
     "text": [
      "green data left = -0.672413793103 858.155172414\n",
      "green data left = -0.649350649351 853.857142857\n",
      "green data left = -0.661538461538 854.707692308\n",
      "green data left = -0.642857142857 847.642857143\n",
      "green data left = -0.631067961165 844.417475728\n",
      "green data left = -0.623931623932 834.222222222\n",
      "green data left = -0.642857142857 849.857142857\n",
      "green data right = 0.606060606061 16.3636363636\n",
      "green data left = -0.645161290323 852.935483871\n",
      "green data left = -0.685185185185 864.62962963\n",
      "green data right = 0.59375 39.65625\n",
      "green data left = -0.655172413793 852.965517241\n",
      "green data right = 0.571428571429 49.2857142857\n",
      "green data right = 0.588235294118 32.3529411765\n",
      "current clip data = [-0.65009484678986462, 850.81774314026359, 0.59237946853655232, 32.534987071348596]\n"
     ]
    },
    {
     "name": "stderr",
     "output_type": "stream",
     "text": [
      "\r",
      " 72%|████████████████████████████████████████████████████████████████████████████████████████████████████████████████████████████████████████████▌                                                      | 181/251 [01:08<00:12,  5.47it/s]"
     ]
    },
    {
     "name": "stdout",
     "output_type": "stream",
     "text": [
      "green data left = -0.673913043478 861.565217391\n",
      "green data left = -0.642201834862 846.100917431\n",
      "green data left = -0.647058823529 850.411764706\n",
      "green data left = -0.636363636364 843.181818182\n",
      "green data right = 0.608108108108 16.4324324324\n",
      "green data right = 0.619047619048 14.5238095238\n",
      "green data right = 0.575757575758 47.5151515152\n",
      "green data left = -0.649717514124 849.531073446\n",
      "current clip data = [-0.64989161652464189, 850.26808904946483, 0.59882319286246277, 27.751595135686422]\n"
     ]
    },
    {
     "name": "stderr",
     "output_type": "stream",
     "text": [
      "\r",
      " 73%|█████████████████████████████████████████████████████████████████████████████████████████████████████████████████████████████████████████████▍                                                     | 182/251 [01:08<00:12,  5.59it/s]"
     ]
    },
    {
     "name": "stdout",
     "output_type": "stream",
     "text": [
      "green data left = -0.666666666667 858.0\n",
      "green data left = -0.691489361702 867.553191489\n",
      "green data left = -0.691176470588 867.014705882\n",
      "green data left = -0.694444444444 866.638888889\n",
      "green data right = 0.6 21.6\n",
      "green data left = -0.650273224044 850.366120219\n",
      "green data right = 0.6 28.8\n",
      "green data left = -0.707317073171 871.097560976\n",
      "green data left = -0.602564102564 828.41025641\n",
      "green data left = -0.603174603175 827.587301587\n",
      "current clip data = [-0.66188861809769695, 854.10401272242405, 0.59960773095415243, 26.050531711897047]\n"
     ]
    },
    {
     "name": "stderr",
     "output_type": "stream",
     "text": [
      "\r",
      " 73%|██████████████████████████████████████████████████████████████████████████████████████████████████████████████████████████████████████████████▏                                                    | 183/251 [01:09<00:12,  5.40it/s]"
     ]
    },
    {
     "name": "stdout",
     "output_type": "stream",
     "text": [
      "green data left = -0.671875 860.703125\n",
      "green data left = -0.666666666667 859.0\n",
      "green data right = 0.622807017544 3.21929824561\n",
      "green data left = -0.674418604651 868.953488372\n",
      "green data right = 0.604651162791 25.3255813954\n",
      "green data left = -0.651162790698 857.069767442\n",
      "current clip data = [-0.66520233602264001, 859.9660787072753, 0.60902197042956918, 18.198470450953796]\n"
     ]
    },
    {
     "name": "stderr",
     "output_type": "stream",
     "text": [
      "\r",
      " 73%|██████████████████████████████████████████████████████████████████████████████████████████████████████████████████████████████████████████████▉                                                    | 184/251 [01:09<00:12,  5.55it/s]"
     ]
    },
    {
     "name": "stdout",
     "output_type": "stream",
     "text": [
      "green data left = -0.673015873016 862.676190476\n",
      "green data left = -0.674285714286 862.514285714\n",
      "green data right = 0.611111111111 20.1111111111\n",
      "green data right = 0.584745762712 34.9491525424\n",
      "green data right = 0.615384615385 17.6923076923\n",
      "current clip data = [-0.67083464110807611, 861.71885163258401, 0.60506586490928993, 22.737760449186471]\n"
     ]
    },
    {
     "name": "stderr",
     "output_type": "stream",
     "text": [
      "\r",
      " 74%|███████████████████████████████████████████████████████████████████████████████████████████████████████████████████████████████████████████████▋                                                   | 185/251 [01:09<00:11,  5.87it/s]"
     ]
    },
    {
     "name": "stdout",
     "output_type": "stream",
     "text": [
      "green data left = -0.673015873016 862.349206349\n",
      "green data right = 0.601351351351 19.3986486486\n",
      "green data left = -0.700598802395 884.371257485\n",
      "green data right = 0.615384615385 16.6923076923\n",
      "green data left = -0.679487179487 879.692307692\n",
      "green data right = 0.576576576577 42.5765765766\n",
      "green data left = -0.64 849.72\n",
      "green data left = -0.685185185185 870.259259259\n",
      "current clip data = [-0.67485361353192175, 868.01848040306515, 0.59959460205545834, 25.351323341679915]\n"
     ]
    },
    {
     "name": "stderr",
     "output_type": "stream",
     "text": [
      "\r",
      " 74%|████████████████████████████████████████████████████████████████████████████████████████████████████████████████████████████████████████████████▌                                                  | 186/251 [01:09<00:11,  5.88it/s]"
     ]
    },
    {
     "name": "stdout",
     "output_type": "stream",
     "text": [
      "green data left = -0.673913043478 866.282608696\n",
      "green data left = -0.674796747967 867.869918699\n",
      "green data right = 0.578571428571 42.5571428571\n",
      "green data right = 0.603448275862 19.0689655172\n",
      "green data right = 0.6 21.6\n",
      "current clip data = [-0.67452113499255384, 867.39033593263446, 0.59540357662223886, 27.14435792901623]\n"
     ]
    },
    {
     "name": "stderr",
     "output_type": "stream",
     "text": [
      "\r",
      " 75%|█████████████████████████████████████████████████████████████████████████████████████████████████████████████████████████████████████████████████▎                                                 | 187/251 [01:09<00:10,  5.96it/s]"
     ]
    },
    {
     "name": "stdout",
     "output_type": "stream",
     "text": [
      "green data left = -0.697959183673 878.428571429\n",
      "green data left = -0.703703703704 889.814814815\n",
      "green data right = 0.627450980392 7.92156862745\n",
      "green data left = -0.688888888889 875.377777778\n",
      "green data right = 0.576576576577 44.4504504504\n",
      "green data left = -0.65 853.55\n",
      "green data left = -0.705882352941 891.882352941\n",
      "green data left = -0.694444444444 886.666666667\n",
      "green data left = -0.679738562092 870.503267974\n",
      "green data left = -0.690476190476 883.5\n",
      "green data right = 0.625 9.00000000001\n",
      "green data right = 0.574074074074 45.2962962963\n",
      "current clip data = [-0.68729049569021461, 877.45708750394419, 0.59970104153300818, 26.76253466064373]\n"
     ]
    },
    {
     "name": "stderr",
     "output_type": "stream",
     "text": [
      "\r",
      " 75%|██████████████████████████████████████████████████████████████████████████████████████████████████████████████████████████████████████████████████                                                 | 188/251 [01:09<00:10,  5.78it/s]"
     ]
    },
    {
     "name": "stdout",
     "output_type": "stream",
     "text": [
      "green data left = -0.697916666667 878.71875\n",
      "green data right = 0.568965517241 47.5689655172\n",
      "green data left = -0.692307692308 877.0\n",
      "green data right = 0.625 8.00000000001\n",
      "green data left = -0.725490196078 900.176470588\n",
      "green data left = -0.698689956332 879.746724891\n",
      "green data right = 0.613636363636 9.5\n",
      "green data left = -0.716981132075 896.962264151\n",
      "green data right = 0.604166666667 27.5833333333\n",
      "green data right = 0.588235294118 33.1764705882\n",
      "green data right = 0.620437956204 12.9781021898\n",
      "current clip data = [-0.70311268985839182, 885.01021618899142, 0.60287754848563391, 23.652772327034672]\n"
     ]
    },
    {
     "name": "stderr",
     "output_type": "stream",
     "text": [
      "\r",
      " 75%|██████████████████████████████████████████████████████████████████████████████████████████████████████████████████████████████████████████████████▊                                                | 189/251 [01:10<00:10,  5.66it/s]"
     ]
    },
    {
     "name": "stdout",
     "output_type": "stream",
     "text": [
      "green data left = -0.697368421053 879.565789474\n",
      "green data right = 0.6 31.6\n",
      "green data right = 0.573170731707 45.6951219512\n",
      "green data left = -0.698961937716 879.311418685\n",
      "green data right = 0.611111111111 19.0555555556\n",
      "green data right = 0.576271186441 41.2542372881\n",
      "green data right = 0.625 5.375\n",
      "green data right = 0.588235294118 32.3529411765\n",
      "green data right = 0.625 5.75\n",
      "current clip data = [-0.69981434954242872, 881.29580811593223, 0.60020823398279766, 25.59195353730286]\n"
     ]
    },
    {
     "name": "stderr",
     "output_type": "stream",
     "text": [
      "\r",
      " 76%|███████████████████████████████████████████████████████████████████████████████████████████████████████████████████████████████████████████████████▌                                               | 190/251 [01:10<00:10,  5.73it/s]"
     ]
    },
    {
     "name": "stdout",
     "output_type": "stream",
     "text": [
      "green data left = -0.7 878.7\n",
      "green data right = 0.573426573427 42.8041958042\n",
      "green data right = 0.625 4.0\n",
      "green data right = 0.602941176471 25.6323529412\n",
      "green data right = 0.590909090909 26.3181818182\n",
      "green data left = -0.670886075949 868.924050633\n",
      "green data left = -0.702290076336 881.34351145\n",
      "green data left = -0.684210526316 872.473684211\n",
      "green data right = 0.575471698113 36.6037735849\n",
      "green data right = 0.576923076923 38.3846153846\n",
      "green data left = -0.730337078652 906.02247191\n",
      "current clip data = [-0.69792301779919175, 881.45992105331072, 0.59212569283218996, 28.47643901005458]\n"
     ]
    },
    {
     "name": "stderr",
     "output_type": "stream",
     "text": [
      "\r",
      " 76%|████████████████████████████████████████████████████████████████████████████████████████████████████████████████████████████████████████████████████▍                                              | 191/251 [01:10<00:11,  5.26it/s]"
     ]
    },
    {
     "name": "stdout",
     "output_type": "stream",
     "text": [
      "green data left = -0.700389105058 880.828793774\n",
      "green data right = 0.573033707865 43.6629213483\n",
      "green data left = -0.722222222222 889.277777778\n",
      "green data left = -0.672727272727 864.981818182\n",
      "green data right = 0.620253164557 8.46835443038\n",
      "green data right = 0.6 23.8\n",
      "current clip data = [-0.69831540445176365, 879.13707769680661, 0.59635314131358041, 26.101928697186956]\n"
     ]
    },
    {
     "name": "stderr",
     "output_type": "stream",
     "text": [
      "\r",
      " 76%|█████████████████████████████████████████████████████████████████████████████████████████████████████████████████████████████████████████████████████▏                                             | 192/251 [01:10<00:10,  5.40it/s]"
     ]
    },
    {
     "name": "stdout",
     "output_type": "stream",
     "text": [
      "green data left = -0.725 890.9\n",
      "green data left = -0.724409448819 891.354330709\n",
      "current clip data = [-0.71590828442355348, 887.13046946848908, 0.59635314131358041, 26.101928697186956]\n"
     ]
    },
    {
     "name": "stderr",
     "output_type": "stream",
     "text": [
      "\r",
      " 77%|█████████████████████████████████████████████████████████████████████████████████████████████████████████████████████████████████████████████████████▉                                             | 193/251 [01:10<00:10,  5.79it/s]"
     ]
    },
    {
     "name": "stdout",
     "output_type": "stream",
     "text": [
      "green data left = -0.708737864078 883.650485437\n",
      "green data left = -0.674603174603 865.785714286\n",
      "green data left = -0.744186046512 909.558139535\n",
      "green data left = -0.675324675325 871.246753247\n",
      "green data left = -0.681818181818 876.272727273\n",
      "green data left = -0.678571428571 876.214285714\n",
      "green data left = -0.723076923077 890.692307692\n",
      "green data left = -0.725 890.35\n",
      "green data left = -0.72972972973 901.054054054\n",
      "current clip data = [-0.70569563081369702, 885.19549367061097, 0.59635314131358041, 26.101928697186956]\n"
     ]
    },
    {
     "name": "stderr",
     "output_type": "stream",
     "text": [
      "\r",
      " 77%|██████████████████████████████████████████████████████████████████████████████████████████████████████████████████████████████████████████████████████▋                                            | 194/251 [01:10<00:09,  5.71it/s]"
     ]
    },
    {
     "name": "stdout",
     "output_type": "stream",
     "text": [
      "green data left = -0.724696356275 891.263157895\n",
      "green data left = -0.742857142857 909.371428571\n",
      "green data left = -0.723214285714 889.392857143\n",
      "green data right = 0.6 24.0\n",
      "current clip data = [-0.72411585391510691, 893.8057343199082, 0.59817657065679009, 25.050964348593574]\n"
     ]
    },
    {
     "name": "stderr",
     "output_type": "stream",
     "text": [
      "\r",
      " 78%|███████████████████████████████████████████████████████████████████████████████████████████████████████████████████████████████████████████████████████▍                                           | 195/251 [01:11<00:09,  5.80it/s]"
     ]
    },
    {
     "name": "stdout",
     "output_type": "stream",
     "text": [
      "green data left = -0.722891566265 889.024096386\n",
      "green data right = 0.586206896552 34.8965517241\n",
      "green data left = -0.688888888889 873.022222222\n",
      "green data right = 0.588235294118 31.4117647059\n",
      "green data left = -0.714285714286 885.0\n",
      "green data right = 0.571428571429 39.7142857143\n",
      "green data left = -0.7 877.9\n",
      "current clip data = [-0.71003640467095097, 883.7504105855329, 0.58601183318868322, 32.768391623224794]\n"
     ]
    },
    {
     "name": "stderr",
     "output_type": "stream",
     "text": [
      "\r",
      " 78%|████████████████████████████████████████████████████████████████████████████████████████████████████████████████████████████████████████████████████████▎                                          | 196/251 [01:11<00:09,  5.84it/s]"
     ]
    },
    {
     "name": "stdout",
     "output_type": "stream",
     "text": [
      "green data left = -0.726086956522 890.934782609\n",
      "green data left = -0.708333333333 882.666666667\n",
      "green data right = 0.604026845638 13.2483221477\n",
      "green data right = 0.6 23.2\n",
      "green data left = -0.727777777778 901.95\n",
      "green data right = 0.586956521739 35.1739130435\n",
      "green data right = 0.612903225806 9.16129032259\n",
      "green data right = 0.583333333333 30.0833333333\n",
      "green data right = 0.572463768116 40.231884058\n",
      "green data left = -0.725490196078 890.803921569\n",
      "current clip data = [-0.71954493367644667, 890.02115628590468, 0.59224221826015722, 26.266733504037415]\n"
     ]
    },
    {
     "name": "stderr",
     "output_type": "stream",
     "text": [
      "\r",
      " 78%|█████████████████████████████████████████████████████████████████████████████████████████████████████████████████████████████████████████████████████████                                          | 197/251 [01:11<00:09,  5.52it/s]"
     ]
    },
    {
     "name": "stdout",
     "output_type": "stream",
     "text": [
      "green data left = -0.724299065421 890.425233645\n",
      "green data right = 0.573170731707 39.987804878\n",
      "green data left = -0.673913043478 866.043478261\n",
      "green data left = -0.703703703704 888.111111111\n",
      "green data right = 0.578125 43.6875\n",
      "green data left = -0.731182795699 904.333333333\n",
      "green data left = -0.714285714286 888.714285714\n",
      "current clip data = [-0.71115487604393512, 887.94143305839395, 0.58117931665582401, 36.647346127362759]\n"
     ]
    },
    {
     "name": "stderr",
     "output_type": "stream",
     "text": [
      "\r",
      " 79%|█████████████████████████████████████████████████████████████████████████████████████████████████████████████████████████████████████████████████████████▊                                         | 198/251 [01:11<00:09,  5.47it/s]"
     ]
    },
    {
     "name": "stdout",
     "output_type": "stream",
     "text": [
      "green data left = -0.716049382716 887.987654321\n",
      "green data left = -0.700421940928 881.050632911\n",
      "green data right = 0.551020408163 59.9795918367\n",
      "green data left = -0.700854700855 888.222222222\n",
      "green data left = -0.708333333333 889.875\n",
      "green data right = 0.597826086957 18.6630434783\n",
      "green data left = -0.723004694836 890.056338028\n",
      "green data left = -0.745098039216 911.960784314\n",
      "green data right = 0.555555555556 55.7777777778\n",
      "current clip data = [-0.71498813827537977, 891.01343783641335, 0.57139534183279139, 42.76693980503407]\n"
     ]
    },
    {
     "name": "stderr",
     "output_type": "stream",
     "text": [
      "\r",
      " 79%|██████████████████████████████████████████████████████████████████████████████████████████████████████████████████████████████████████████████████████████▌                                        | 199/251 [01:11<00:09,  5.41it/s]"
     ]
    },
    {
     "name": "stdout",
     "output_type": "stream",
     "text": [
      "green data left = -0.722222222222 890.833333333\n",
      "green data right = 0.596774193548 28.9838709677\n",
      "green data right = 0.550387596899 62.4108527132\n",
      "green data left = -0.715909090909 889.352272727\n",
      "green data right = 0.56 54.64\n",
      "green data right = 0.586956521739 30.3043478261\n",
      "green data right = 0.577235772358 37.4552845528\n",
      "green data left = -0.739130434783 899.391304348\n",
      "green data left = -0.744680851064 913.191489362\n",
      "green data right = 0.573643410853 42.2093023256\n",
      "current clip data = [-0.72738614745062535, 896.75636752130902, 0.57377040531856693, 42.681514027209964]\n"
     ]
    },
    {
     "name": "stderr",
     "output_type": "stream",
     "text": [
      "\r",
      " 80%|███████████████████████████████████████████████████████████████████████████████████████████████████████████████████████████████████████████████████████████▍                                       | 200/251 [01:12<00:09,  5.29it/s]"
     ]
    },
    {
     "name": "stdout",
     "output_type": "stream",
     "text": [
      "green data left = -0.72373540856 891.712062257\n",
      "green data left = -0.757281553398 918.757281553\n",
      "green data right = 0.584269662921 30.4831460674\n",
      "green data right = 0.59880239521 26.6646706587\n",
      "green data right = 0.551401869159 62.2897196262\n",
      "green data left = -0.738461538462 909.292307692\n",
      "green data left = -0.736842105263 907.947368421\n",
      "green data left = -0.71875 889.96875\n",
      "green data left = -0.7 885.5\n",
      "green data left = -0.677419354839 874.064516129\n",
      "green data right = 0.6 24.0\n",
      "green data left = -0.695652173913 882.652173913\n",
      "green data left = -0.741379310345 897.482758621\n",
      "green data left = -0.727272727273 902.090909091\n",
      "current clip data = [-0.72219821086390923, 896.02040865441404, 0.58164886652167425, 37.223810075895855]\n"
     ]
    },
    {
     "name": "stderr",
     "output_type": "stream",
     "text": [
      "\r",
      " 80%|████████████████████████████████████████████████████████████████████████████████████████████████████████████████████████████████████████████████████████████▏                                      | 201/251 [01:12<00:09,  5.12it/s]"
     ]
    },
    {
     "name": "stdout",
     "output_type": "stream",
     "text": [
      "green data left = -0.723880597015 891.753731343\n",
      "green data left = -0.752411575563 915.742765273\n",
      "green data right = 0.554913294798 59.710982659\n",
      "green data right = 0.594202898551 30.5507246377\n",
      "green data left = -0.754807692308 915.961538462\n",
      "green data left = -0.742857142857 897.685714286\n",
      "green data left = -0.759259259259 919.888888889\n",
      "green data right = 0.598130841121 20.1588785047\n",
      "green data right = 0.597402597403 28.0\n",
      "green data left = -0.7 879.8\n",
      "green data left = -0.7125 886.5625\n",
      "green data right = 0.567567567568 48.2162162162\n",
      "current clip data = [-0.73348930973320414, 900.426943363394, 0.58231101099362392, 37.310102015571459]\n"
     ]
    },
    {
     "name": "stderr",
     "output_type": "stream",
     "text": [
      "\r",
      " 80%|████████████████████████████████████████████████████████████████████████████████████████████████████████████████████████████████████████████████████████████▉                                      | 202/251 [01:12<00:09,  5.12it/s]"
     ]
    },
    {
     "name": "stdout",
     "output_type": "stream",
     "text": [
      "green data left = -0.7265917603 892.805243446\n",
      "green data right = 0.570247933884 54.0\n",
      "green data right = 0.6 18.2\n",
      "green data left = -0.77519379845 924.860465116\n",
      "current clip data = [-0.74509162282748154, 906.03088397512238, 0.58418631495930673, 36.503367338524207]\n"
     ]
    },
    {
     "name": "stderr",
     "output_type": "stream",
     "text": [
      "\r",
      " 81%|█████████████████████████████████████████████████████████████████████████████████████████████████████████████████████████████████████████████████████████████▋                                     | 203/251 [01:12<00:08,  5.53it/s]"
     ]
    },
    {
     "name": "stdout",
     "output_type": "stream",
     "text": [
      "green data left = -0.724907063197 891.323420074\n",
      "green data left = -0.780068728522 927.941580756\n",
      "green data left = -0.780141843972 926.964539007\n",
      "green data right = 0.59649122807 26.0175438597\n",
      "green data right = 0.605633802817 15.676056338\n",
      "green data left = -0.714285714286 889.142857143\n",
      "green data right = 0.6 19.6\n",
      "green data right = 0.5625 43.75\n",
      "green data right = 0.592592592593 30.2962962963\n",
      "green data right = 0.553571428571 58.6428571429\n",
      "current clip data = [-0.74889899456083753, 908.28065619108679, 0.58499648100148505, 32.92658871076619]\n"
     ]
    },
    {
     "name": "stderr",
     "output_type": "stream",
     "text": [
      "\r",
      " 81%|██████████████████████████████████████████████████████████████████████████████████████████████████████████████████████████████████████████████████████████████▍                                    | 204/251 [01:12<00:08,  5.41it/s]"
     ]
    },
    {
     "name": "stdout",
     "output_type": "stream",
     "text": [
      "green data left = -0.780821917808 929.95890411\n",
      "green data left = -0.729166666667 895.458333333\n",
      "green data left = -0.723247232472 892.295202952\n",
      "green data right = 0.578313253012 37.6746987952\n",
      "green data left = -0.75 914.0\n",
      "current clip data = [-0.74642696230161165, 907.99861931720864, 0.58165486700676583, 35.300643752973969]\n"
     ]
    },
    {
     "name": "stderr",
     "output_type": "stream",
     "text": [
      "\r",
      " 82%|███████████████████████████████████████████████████████████████████████████████████████████████████████████████████████████████████████████████████████████████▎                                   | 205/251 [01:12<00:08,  5.62it/s]"
     ]
    },
    {
     "name": "stdout",
     "output_type": "stream",
     "text": [
      "green data left = -0.70652173913 888.184782609\n",
      "green data left = -0.772727272727 926.454545455\n",
      "green data left = -0.75 904.0\n",
      "green data left = -0.725190839695 901.816793893\n",
      "green data right = 0.578947368421 38.0526315789\n",
      "green data right = 0.605263157895 22.4736842105\n",
      "green data left = -0.763157894737 924.684210526\n",
      "green data left = -0.6875 883.375\n",
      "current clip data = [-0.73593210122726005, 905.2162788285566, 0.58862179777418522, 31.94231984748258]\n"
     ]
    },
    {
     "name": "stderr",
     "output_type": "stream",
     "text": [
      "\r",
      " 82%|████████████████████████████████████████████████████████████████████████████████████████████████████████████████████████████████████████████████████████████████                                   | 206/251 [01:13<00:08,  5.62it/s]"
     ]
    },
    {
     "name": "stdout",
     "output_type": "stream",
     "text": [
      "green data left = -0.733944954128 898.311926606\n",
      "green data left = -0.7125 887.6875\n",
      "green data left = -0.709677419355 887.032258065\n",
      "green data left = -0.692307692308 880.923076923\n",
      "green data right = 0.593220338983 26.3220338983\n",
      "green data right = 0.565217391304 55.2173913043\n",
      "green data right = 0.588235294118 37.6470588235\n",
      "green data left = -0.75 904.25\n",
      "green data left = -0.753424657534 921.328767123\n",
      "current clip data = [-0.72682668922178162, 897.82140107784846, 0.58382370554480911, 37.782200968415069]\n"
     ]
    },
    {
     "name": "stderr",
     "output_type": "stream",
     "text": [
      "\r",
      " 82%|████████████████████████████████████████████████████████████████████████████████████████████████████████████████████████████████████████████████████████████████▊                                  | 207/251 [01:13<00:07,  5.66it/s]"
     ]
    },
    {
     "name": "stdout",
     "output_type": "stream",
     "text": [
      "green data left = -0.726829268293 895.302439024\n",
      "green data left = -0.752747252747 917.906593407\n",
      "green data left = -0.7265625 895.703125\n",
      "green data right = 0.597122302158 24.2949640288\n",
      "green data left = -0.70297029703 889.544554455\n",
      "green data left = -0.711538461538 888.346153846\n",
      "green data left = -0.720930232558 891.674418605\n",
      "green data right = 0.590909090909 32.4545454546\n",
      "green data right = 0.6 21.2\n",
      "green data right = 0.592592592593 34.5555555556\n",
      "green data left = -0.733333333333 899.6\n",
      "current clip data = [-0.72521725434016948, 896.98733567688532, 0.59288953824095181, 30.057453201460078]\n"
     ]
    },
    {
     "name": "stderr",
     "output_type": "stream",
     "text": [
      "\r",
      " 83%|█████████████████████████████████████████████████████████████████████████████████████████████████████████████████████████████████████████████████████████████████▌                                 | 208/251 [01:13<00:07,  5.44it/s]"
     ]
    },
    {
     "name": "stdout",
     "output_type": "stream",
     "text": [
      "green data left = -0.72625698324 895.167597765\n",
      "green data left = -0.729166666667 897.645833333\n",
      "green data left = -0.702702702703 888.675675676\n",
      "green data left = -0.738095238095 903.595238095\n",
      "green data left = -0.70202020202 883.848484848\n",
      "green data left = -0.72 893.92\n",
      "current clip data = [-0.72049414958074343, 894.2628807707116, 0.59288953824095181, 30.057453201460078]\n"
     ]
    },
    {
     "name": "stderr",
     "output_type": "stream",
     "text": [
      "\r",
      " 83%|██████████████████████████████████████████████████████████████████████████████████████████████████████████████████████████████████████████████████████████████████▎                                | 209/251 [01:13<00:07,  5.79it/s]"
     ]
    },
    {
     "name": "stdout",
     "output_type": "stream",
     "text": [
      "green data left = -0.716666666667 892.316666667\n",
      "green data left = -0.720930232558 893.88372093\n",
      "green data left = -0.748344370861 904.761589404\n",
      "green data left = -0.747826086957 905.895652174\n",
      "green data right = 0.578680203046 38.4060913706\n",
      "green data left = -0.764705882353 912.294117647\n",
      "green data left = -0.733333333333 900.666666667\n",
      "green data right = 0.576086956522 41.3913043478\n",
      "current clip data = [-0.7360429603298958, 900.58304203703153, 0.58255223260279199, 36.618282973281538]\n"
     ]
    },
    {
     "name": "stderr",
     "output_type": "stream",
     "text": [
      "\r",
      " 84%|███████████████████████████████████████████████████████████████████████████████████████████████████████████████████████████████████████████████████████████████████▏                               | 210/251 [01:13<00:07,  5.63it/s]"
     ]
    },
    {
     "name": "stdout",
     "output_type": "stream",
     "text": [
      "green data left = -0.731092436975 899.941176471\n",
      "green data left = -0.725552050473 897.586750789\n",
      "green data right = 0.592592592593 25.4074074074\n",
      "green data right = 0.583333333333 43.1666666667\n",
      "green data right = 0.6 19.4\n",
      "green data left = -0.753731343284 919.268656716\n",
      "green data right = 0.58024691358 34.6419753086\n",
      "green data left = -0.75 906.75\n",
      "green data left = -0.702898550725 884.579710145\n",
      "current clip data = [-0.73321955696434848, 901.45155602626801, 0.58774501442179328, 31.846866471199188]\n"
     ]
    },
    {
     "name": "stderr",
     "output_type": "stream",
     "text": [
      "\r",
      " 84%|███████████████████████████████████████████████████████████████████████████████████████████████████████████████████████████████████████████████████████████████████▉                               | 211/251 [01:14<00:07,  5.52it/s]"
     ]
    },
    {
     "name": "stdout",
     "output_type": "stream",
     "text": [
      "green data left = -0.727272727273 896.363636364\n",
      "green data right = 0.556291390728 55.6821192053\n",
      "green data right = 0.59375 29.15625\n",
      "green data left = -0.727272727273 896.818181818\n",
      "green data right = 0.619718309859 6.88732394366\n",
      "green data right = 0.598540145985 25.4817518248\n",
      "green data left = -0.769230769231 926.153846154\n",
      "green data left = -0.756578947368 918.756578947\n",
      "green data left = -0.712328767123 888.01369863\n",
      "green data right = 0.592105263158 23.0263157895\n",
      "current clip data = [-0.7376505825387133, 904.59291632323948, 0.59135835402545323, 28.680104539075348]\n"
     ]
    },
    {
     "name": "stderr",
     "output_type": "stream",
     "text": [
      "\r",
      " 84%|████████████████████████████████████████████████████████████████████████████████████████████████████████████████████████████████████████████████████████████████████▋                              | 212/251 [01:14<00:07,  5.52it/s]"
     ]
    },
    {
     "name": "stdout",
     "output_type": "stream",
     "text": [
      "green data left = -0.727659574468 897.6\n",
      "green data right = 0.579234972678 44.0546448087\n",
      "green data left = -0.754716981132 918.886792453\n",
      "green data left = -0.727272727273 898.818181818\n",
      "green data left = -0.728723404255 897.14893617\n",
      "green data left = -0.770833333333 928.958333333\n",
      "green data right = 0.581395348837 40.6744186047\n",
      "green data left = -0.745098039216 915.509803922\n",
      "green data left = -0.75 916.5\n",
      "green data right = 0.576923076923 35.3076923077\n",
      "green data left = -0.680555555556 881.125\n",
      "green data right = 0.578313253012 32.6506024096\n",
      "current clip data = [-0.73583446641905537, 906.571107113263, 0.58144500109507646, 36.273492533960408]\n"
     ]
    },
    {
     "name": "stderr",
     "output_type": "stream",
     "text": [
      "\r",
      " 85%|█████████████████████████████████████████████████████████████████████████████████████████████████████████████████████████████████████████████████████████████████████▍                             | 213/251 [01:14<00:07,  5.41it/s]"
     ]
    },
    {
     "name": "stdout",
     "output_type": "stream",
     "text": [
      "green data left = -0.750915750916 908.274725275\n",
      "green data right = 0.578231292517 42.4149659864\n",
      "green data right = 0.552631578947 59.1315789474\n",
      "green data left = -0.748201438849 908.172661871\n",
      "green data right = 0.584615384615 27.5692307692\n",
      "green data right = 0.6 21.2\n",
      "green data right = 0.555555555556 51.6666666667\n",
      "green data right = 0.571428571429 37.8571428571\n",
      "green data left = -0.722222222222 896.555555556\n",
      "green data left = -0.766666666667 925.6\n",
      "green data right = 0.588235294118 33.9411764706\n",
      "green data left = -0.728571428571 899.657142857\n",
      "current clip data = [-0.74206866227400681, 907.47186544519809, 0.57651783478457619, 38.75678177891912]\n"
     ]
    },
    {
     "name": "stderr",
     "output_type": "stream",
     "text": [
      "\r",
      " 85%|██████████████████████████████████████████████████████████████████████████████████████████████████████████████████████████████████████████████████████████████████████▎                            | 214/251 [01:14<00:07,  5.27it/s]"
     ]
    },
    {
     "name": "stdout",
     "output_type": "stream",
     "text": [
      "green data left = -0.748427672956 907.031446541\n",
      "green data right = 0.548387096774 61.7419354839\n",
      "green data left = -0.75 908.75\n",
      "green data right = 0.584905660377 35.9245283019\n",
      "green data right = 0.597222222222 19.2222222222\n",
      "green data right = 0.549450549451 61.3076923077\n",
      "green data right = 0.602941176471 18.0588235294\n",
      "current clip data = [-0.74683211174332698, 907.75110399535936, 0.57657075667991342, 39.168663937335033]\n"
     ]
    },
    {
     "name": "stderr",
     "output_type": "stream",
     "text": [
      "\r",
      " 86%|███████████████████████████████████████████████████████████████████████████████████████████████████████████████████████████████████████████████████████████████████████                            | 215/251 [01:14<00:06,  5.48it/s]"
     ]
    },
    {
     "name": "stdout",
     "output_type": "stream",
     "text": [
      "green data left = -0.752577319588 911.525773196\n",
      "green data right = 0.548780487805 57.9390243902\n",
      "green data right = 0.551724137931 61.9655172414\n",
      "green data left = -0.75 911.5\n",
      "green data right = 0.604651162791 15.2325581395\n",
      "current clip data = [-0.74980314377698576, 910.25895906374569, 0.57043163630162974, 43.576440927124295]\n"
     ]
    },
    {
     "name": "stderr",
     "output_type": "stream",
     "text": [
      "\r",
      " 86%|███████████████████████████████████████████████████████████████████████████████████████████████████████████████████████████████████████████████████████████████████████▊                           | 216/251 [01:14<00:06,  5.75it/s]"
     ]
    },
    {
     "name": "stdout",
     "output_type": "stream",
     "text": [
      "green data left = -0.751677852349 910.758389262\n",
      "green data right = 0.58 32.08\n",
      "green data left = -0.751700680272 909.510204082\n",
      "green data right = 0.6 22.0\n",
      "current clip data = [-0.75106055879936273, 910.17585080237438, 0.58347721210054193, 32.552146975709213]\n"
     ]
    },
    {
     "name": "stderr",
     "output_type": "stream",
     "text": [
      "\r",
      " 86%|████████████████████████████████████████████████████████████████████████████████████████████████████████████████████████████████████████████████████████████████████████▌                          | 217/251 [01:15<00:05,  5.77it/s]"
     ]
    },
    {
     "name": "stdout",
     "output_type": "stream",
     "text": [
      "green data left = -0.753246753247 911.935064935\n",
      "green data left = -0.753164556962 912.962025316\n",
      "green data right = 0.589743589744 25.0256410256\n",
      "green data left = -0.756756756757 920.324324324\n",
      "green data right = 0.569444444444 47.2222222222\n",
      "green data left = -0.756345177665 913.685279188\n",
      "current clip data = [-0.75411476068597527, 913.81650891320771, 0.5808884154295243, 34.933336741191674]\n"
     ]
    },
    {
     "name": "stderr",
     "output_type": "stream",
     "text": [
      "\r",
      " 87%|█████████████████████████████████████████████████████████████████████████████████████████████████████████████████████████████████████████████████████████████████████████▎                         | 218/251 [01:15<00:05,  5.80it/s]"
     ]
    },
    {
     "name": "stdout",
     "output_type": "stream",
     "text": [
      "green data left = -0.778260869565 923.273913043\n",
      "green data right = 0.558139534884 56.023255814\n",
      "green data left = -0.766666666667 918.033333333\n",
      "green data left = -0.727272727273 905.818181818\n",
      "green data left = -0.751937984496 912.589147287\n",
      "green data right = 0.608695652174 11.4782608696\n",
      "current clip data = [-0.755650601737344, 914.70621687900564, 0.58257453416238569, 34.14495114157031]\n"
     ]
    },
    {
     "name": "stderr",
     "output_type": "stream",
     "text": [
      "\r",
      " 87%|██████████████████████████████████████████████████████████████████████████████████████████████████████████████████████████████████████████████████████████████████████████▏                        | 219/251 [01:15<00:05,  5.84it/s]"
     ]
    },
    {
     "name": "stdout",
     "output_type": "stream",
     "text": [
      "green data left = -0.778242677824 922.69874477\n",
      "green data right = 0.579365079365 39.2142857143\n",
      "green data right = 0.560975609756 48.0975609756\n",
      "green data right = 0.601265822785 15.8860759494\n",
      "green data right = 0.573770491803 40.9508196721\n",
      "current clip data = [-0.76694663978080557, 918.70248082443993, 0.57959030757432994, 35.658738690593246]\n"
     ]
    },
    {
     "name": "stderr",
     "output_type": "stream",
     "text": [
      "\r",
      " 88%|██████████████████████████████████████████████████████████████████████████████████████████████████████████████████████████████████████████████████████████████████████████▉                        | 220/251 [01:15<00:05,  5.81it/s]"
     ]
    },
    {
     "name": "stdout",
     "output_type": "stream",
     "text": [
      "green data left = -0.778225806452 923.693548387\n",
      "green data right = 0.605263157895 18.2631578947\n",
      "green data left = -0.785123966942 935.991735537\n",
      "green data right = 0.574585635359 38.9779005525\n",
      "current clip data = [-0.77676547105818938, 926.12925491624253, 0.58647970027606, 30.966599045939631]\n"
     ]
    },
    {
     "name": "stderr",
     "output_type": "stream",
     "text": [
      "\r",
      " 88%|███████████████████████████████████████████████████████████████████████████████████████████████████████████████████████████████████████████████████████████████████████████▋                       | 221/251 [01:15<00:04,  6.02it/s]"
     ]
    },
    {
     "name": "stdout",
     "output_type": "stream",
     "text": [
      "green data left = -0.780487804878 922.609756098\n",
      "green data right = 0.572916666667 39.7291666667\n",
      "green data left = -0.780172413793 923.073275862\n",
      "current clip data = [-0.77914189657644739, 923.93742895862431, 0.57969818347136282, 35.347882856303606]\n"
     ]
    },
    {
     "name": "stderr",
     "output_type": "stream",
     "text": [
      "\r",
      " 88%|████████████████████████████████████████████████████████████████████████████████████████████████████████████████████████████████████████████████████████████████████████████▍                      | 222/251 [01:15<00:04,  5.87it/s]"
     ]
    },
    {
     "name": "stdout",
     "output_type": "stream",
     "text": [
      "green data left = -0.782608695652 925.043478261\n",
      "green data left = -0.778225806452 923.471774194\n",
      "green data right = 0.570175438596 50.5263157895\n",
      "green data right = 0.551181102362 59.5118110236\n",
      "green data left = -0.779661016949 923.13559322\n",
      "green data right = 0.56 51.84\n",
      "green data right = 0.592592592593 31.0740740741\n",
      "green data right = 0.555555555556 54.5555555556\n",
      "current clip data = [-0.77990935390734717, 923.89706865834523, 0.56820047876303359, 47.14260654983898]\n"
     ]
    },
    {
     "name": "stderr",
     "output_type": "stream",
     "text": [
      "\r",
      " 89%|█████████████████████████████████████████████████████████████████████████████████████████████████████████████████████████████████████████████████████████████████████████████▏                     | 223/251 [01:16<00:04,  5.77it/s]"
     ]
    },
    {
     "name": "stdout",
     "output_type": "stream",
     "text": [
      "green data left = -0.777777777778 921.222222222\n",
      "green data right = 0.583333333333 38.4166666667\n",
      "green data right = 0.576354679803 45.4679802956\n",
      "green data right = 0.587301587302 32.6984126984\n",
      "green data right = 0.596774193548 28.8225806452\n",
      "green data left = -0.754189944134 910.921787709\n",
      "current clip data = [-0.7706256919397344, 918.68035953002152, 0.58239285454986001, 38.50964937112871]\n"
     ]
    },
    {
     "name": "stderr",
     "output_type": "stream",
     "text": [
      "\r",
      " 89%|██████████████████████████████████████████████████████████████████████████████████████████████████████████████████████████████████████████████████████████████████████████████                     | 224/251 [01:16<00:04,  5.81it/s]"
     ]
    },
    {
     "name": "stdout",
     "output_type": "stream",
     "text": [
      "green data left = -0.777777777778 920.222222222\n",
      "green data right = 0.607476635514 14.9719626168\n",
      "green data left = -0.756097560976 910.585365854\n",
      "green data right = 0.579710144928 42.1594202899\n",
      "green data right = 0.595744680851 23.5319148936\n",
      "green data right = 0.577464788732 43.4366197183\n",
      "green data right = 0.595744680851 26.8085106383\n",
      "green data right = 0.597402597403 22.7792207792\n",
      "current clip data = [-0.7681670102310405, 916.49598253530075, 0.59084805468978896, 30.313899758180547]\n"
     ]
    },
    {
     "name": "stderr",
     "output_type": "stream",
     "text": [
      "\r",
      " 90%|██████████████████████████████████████████████████████████████████████████████████████████████████████████████████████████████████████████████████████████████████████████████▊                    | 225/251 [01:16<00:04,  5.59it/s]"
     ]
    },
    {
     "name": "stdout",
     "output_type": "stream",
     "text": [
      "green data left = -0.778301886792 921.382075472\n",
      "green data right = 0.576923076923 46.5384615385\n",
      "green data right = 0.59375 29.40625\n",
      "green data left = -0.744680851064 908.829787234\n",
      "green data right = 0.603174603175 20.8888888889\n",
      "green data left = -0.707865168539 892.415730337\n",
      "green data left = -0.727272727273 897.636363636\n",
      "current clip data = [-0.74525752877987528, 907.35198784289673, 0.59117393369686699, 31.786875046382917]\n"
     ]
    },
    {
     "name": "stderr",
     "output_type": "stream",
     "text": [
      "\r",
      " 90%|███████████████████████████████████████████████████████████████████████████████████████████████████████████████████████████████████████████████████████████████████████████████▌                   | 226/251 [01:16<00:04,  5.78it/s]"
     ]
    },
    {
     "name": "stdout",
     "output_type": "stream",
     "text": [
      "green data left = -0.779411764706 922.5\n",
      "green data right = 0.611111111111 15.8888888889\n",
      "green data right = 0.581818181818 40.8181818182\n",
      "green data left = -0.70297029703 883.326732673\n",
      "green data left = -0.723076923077 900.630769231\n",
      "green data right = 0.58064516129 43.9677419355\n",
      "green data right = 0.575 49.15\n",
      "green data left = -0.778260869565 923.373913043\n",
      "current clip data = [-0.7457954766315209, 907.43668055808246, 0.58794967758329386, 36.322337537790119]\n"
     ]
    },
    {
     "name": "stderr",
     "output_type": "stream",
     "text": [
      "\r",
      " 90%|████████████████████████████████████████████████████████████████████████████████████████████████████████████████████████████████████████████████████████████████████████████████▎                  | 227/251 [01:16<00:04,  5.88it/s]"
     ]
    },
    {
     "name": "stdout",
     "output_type": "stream",
     "text": [
      "green data left = -0.780612244898 922.647959184\n",
      "green data left = -0.705882352941 885.529411765\n",
      "green data left = -0.76 915.24\n",
      "green data right = 0.575757575758 49.3636363636\n",
      "green data left = -0.780373831776 923.135514019\n",
      "current clip data = [-0.75453278124927303, 910.79791310503128, 0.58185362667043439, 42.842986950713495]\n"
     ]
    },
    {
     "name": "stderr",
     "output_type": "stream",
     "text": [
      "\r",
      " 91%|█████████████████████████████████████████████████████████████████████████████████████████████████████████████████████████████████████████████████████████████████████████████████▏                 | 228/251 [01:17<00:03,  5.89it/s]"
     ]
    },
    {
     "name": "stdout",
     "output_type": "stream",
     "text": [
      "green data left = -0.780346820809 921.225433526\n",
      "green data left = -0.725 901.05\n",
      "green data right = 0.578947368421 47.2631578947\n",
      "green data left = -0.770833333333 918.041666667\n",
      "green data left = -0.778301886792 921.382075472\n",
      "green data right = 0.604395604396 20.5824175824\n",
      "current clip data = [-0.76180296443686257, 914.49941775388197, 0.58839886649569773, 36.896187475955564]\n"
     ]
    },
    {
     "name": "stderr",
     "output_type": "stream",
     "text": [
      "\r",
      " 91%|█████████████████████████████████████████████████████████████████████████████████████████████████████████████████████████████████████████████████████████████████████████████████▉                 | 229/251 [01:17<00:03,  5.96it/s]"
     ]
    },
    {
     "name": "stdout",
     "output_type": "stream",
     "text": [
      "green data left = -0.753521126761 908.11971831\n",
      "green data left = -0.78313253012 932.409638554\n",
      "green data left = -0.78125 933.34375\n",
      "green data left = -0.74358974359 904.153846154\n",
      "green data left = -0.802816901408 927.056338028\n",
      "green data right = 0.579439252336 39.3738317757\n",
      "green data left = -0.763157894737 914.236842105\n",
      "green data left = -0.754310344828 909.482758621\n",
      "current clip data = [-0.76794768823506665, 917.91278869074074, 0.58391905941607269, 38.13500962582863]\n"
     ]
    },
    {
     "name": "stderr",
     "output_type": "stream",
     "text": [
      "\r",
      " 92%|██████████████████████████████████████████████████████████████████████████████████████████████████████████████████████████████████████████████████████████████████████████████████▋                | 230/251 [01:17<00:03,  5.95it/s]"
     ]
    },
    {
     "name": "stdout",
     "output_type": "stream",
     "text": [
      "green data left = -0.75 906.75\n",
      "green data left = -0.78313253012 932.228915663\n",
      "green data left = -0.777777777778 917.666666667\n",
      "green data right = 0.6 21.8\n",
      "green data left = -0.769230769231 914.923076923\n",
      "green data left = -0.783783783784 935.810810811\n",
      "green data right = 0.6 29.4\n",
      "green data right = 0.596899224806 25.6821705426\n",
      "green data left = -0.7533632287 907.923766816\n",
      "current clip data = [-0.76931939683534745, 919.03086079572734, 0.59520457105556845, 28.754295042116212]\n"
     ]
    },
    {
     "name": "stderr",
     "output_type": "stream",
     "text": [
      "\r",
      " 92%|███████████████████████████████████████████████████████████████████████████████████████████████████████████████████████████████████████████████████████████████████████████████████▍               | 231/251 [01:17<00:03,  5.94it/s]"
     ]
    },
    {
     "name": "stdout",
     "output_type": "stream",
     "text": [
      "green data left = -0.750841750842 905.747474747\n",
      "green data left = -0.806896551724 943.820689655\n",
      "green data left = -0.794520547945 937.561643836\n",
      "green data right = 0.621212121212 10.3333333333\n",
      "green data right = 0.574193548387 41.6709677419\n",
      "green data left = -0.789473684211 936.052631579\n",
      "green data left = -0.757009345794 908.831775701\n",
      "green data left = -0.782608695652 930.913043478\n",
      "green data right = 0.610169491525 12.7288135593\n",
      "green data left = -0.744680851064 903.063829787\n",
      "current clip data = [-0.77441885300842062, 923.12774369742101, 0.60019493304505256, 23.371852419176872]\n"
     ]
    },
    {
     "name": "stderr",
     "output_type": "stream",
     "text": [
      "\r",
      " 92%|████████████████████████████████████████████████████████████████████████████████████████████████████████████████████████████████████████████████████████████████████████████████████▏              | 232/251 [01:17<00:03,  5.62it/s]"
     ]
    },
    {
     "name": "stdout",
     "output_type": "stream",
     "text": [
      "green data left = -0.80487804878 939.756097561\n",
      "green data left = -0.752941176471 904.364705882\n",
      "green data left = -0.746031746032 902.126984127\n",
      "green data left = -0.808333333333 943.083333333\n",
      "green data right = 0.575418994413 41.0111731844\n",
      "green data right = 0.593023255814 33.3837209302\n",
      "green data right = 0.597014925373 18.9552238806\n",
      "green data left = -0.733333333333 899.066666667\n",
      "green data left = -0.810526315789 942.989473684\n",
      "current clip data = [-0.77578040096391199, 922.07357213599187, 0.59141302716138777, 29.180492603590626]\n"
     ]
    },
    {
     "name": "stderr",
     "output_type": "stream",
     "text": [
      "\r",
      " 93%|█████████████████████████████████████████████████████████████████████████████████████████████████████████████████████████████████████████████████████████████████████████████████████              | 233/251 [01:17<00:03,  5.61it/s]"
     ]
    },
    {
     "name": "stdout",
     "output_type": "stream",
     "text": [
      "green data left = -0.750841750842 905.747474747\n",
      "green data left = -0.806896551724 943.013793103\n",
      "green data right = 0.57264957265 44.094017094\n",
      "green data right = 0.58064516129 45.0322580645\n",
      "green data left = -0.788321167883 933.905109489\n",
      "green data right = 0.585365853659 30.7073170732\n",
      "green data left = -0.766666666667 911.2\n",
      "green data right = 0.6 27.4\n",
      "green data left = -0.758620689655 923.206896552\n",
      "green data left = -0.739130434783 901.782608696\n",
      "green data right = 0.604166666667 24.2291666667\n",
      "current clip data = [-0.7694653803596363, 920.13277924619138, 0.58904004690441603, 33.440541916991954]\n"
     ]
    },
    {
     "name": "stderr",
     "output_type": "stream",
     "text": [
      "\r",
      " 93%|█████████████████████████████████████████████████████████████████████████████████████████████████████████████████████████████████████████████████████████████████████████████████████▊             | 234/251 [01:18<00:03,  5.43it/s]"
     ]
    },
    {
     "name": "stdout",
     "output_type": "stream",
     "text": [
      "green data left = -0.807692307692 941.884615385\n",
      "green data left = -0.751824817518 903.532846715\n",
      "green data right = 0.6 27.2\n",
      "green data left = -0.752577319588 905.010309278\n",
      "green data left = -0.80694980695 942.239382239\n",
      "green data right = 0.6125 14.375\n",
      "green data right = 0.612244897959 13.2857142857\n",
      "green data right = 0.569444444444 43.2083333333\n",
      "green data right = 0.583333333333 29.25\n",
      "green data right = 0.577464788732 38.3661971831\n",
      "current clip data = [-0.77770192642152591, 922.55998657277382, 0.59200393019625164, 28.446540959878252]\n"
     ]
    },
    {
     "name": "stderr",
     "output_type": "stream",
     "text": [
      "\r",
      " 94%|██████████████████████████████████████████████████████████████████████████████████████████████████████████████████████████████████████████████████████████████████████████████████████▌            | 235/251 [01:18<00:02,  5.54it/s]"
     ]
    },
    {
     "name": "stdout",
     "output_type": "stream",
     "text": [
      "green data left = -0.751748251748 904.517482517\n",
      "green data left = -0.807142857143 941.935714286\n",
      "green data right = 0.576923076923 48.4615384615\n",
      "green data right = 0.575 36.125\n",
      "green data right = 0.583333333333 30.75\n",
      "green data left = -0.781456953642 931.284768212\n",
      "green data right = 0.602409638554 18.8192771084\n",
      "green data right = 0.561403508772 53.0877192982\n",
      "current clip data = [-0.77951249723875471, 925.07448789697253, 0.58184558129646835, 35.948345971349248]\n"
     ]
    },
    {
     "name": "stderr",
     "output_type": "stream",
     "text": [
      "\r",
      " 94%|███████████████████████████████████████████████████████████████████████████████████████████████████████████████████████████████████████████████████████████████████████████████████████▎           | 236/251 [01:18<00:02,  5.65it/s]"
     ]
    },
    {
     "name": "stdout",
     "output_type": "stream",
     "text": [
      "green data left = -0.752688172043 905.290322581\n",
      "green data left = -0.811688311688 944.448051948\n",
      "green data left = -0.785714285714 934.642857143\n",
      "green data right = 0.594202898551 31.884057971\n",
      "green data right = 0.571428571429 42.7142857143\n",
      "green data left = -0.796296296296 938.703703704\n",
      "green data left = -0.752613240418 906.526132404\n",
      "green data left = -0.806818181818 942.738636364\n",
      "green data left = -0.770833333333 930.541666667\n",
      "current clip data = [-0.78202053981878639, 928.49573233833928, 0.58249235042525482, 36.848896552216353]\n"
     ]
    },
    {
     "name": "stderr",
     "output_type": "stream",
     "text": [
      "\r",
      " 94%|████████████████████████████████████████████████████████████████████████████████████████████████████████████████████████████████████████████████████████████████████████████████████████           | 237/251 [01:18<00:02,  5.57it/s]"
     ]
    },
    {
     "name": "stdout",
     "output_type": "stream",
     "text": [
      "green data left = -0.752650176678 905.03180212\n",
      "green data left = -0.8 938.4\n",
      "green data right = 0.575757575758 36.5454545455\n",
      "green data right = 0.555555555556 57.8888888889\n",
      "green data right = 0.56976744186 56.6627906977\n",
      "green data right = 0.571428571429 40.5714285714\n",
      "green data left = -0.788461538462 937.25\n",
      "current clip data = [-0.78078306373969253, 927.29438361462019, 0.57100029900548321, 45.703491851133926]\n"
     ]
    },
    {
     "name": "stderr",
     "output_type": "stream",
     "text": [
      "\r",
      " 95%|████████████████████████████████████████████████████████████████████████████████████████████████████████████████████████████████████████████████████████████████████████████████████████▉          | 238/251 [01:18<00:02,  5.73it/s]"
     ]
    },
    {
     "name": "stdout",
     "output_type": "stream",
     "text": [
      "green data left = -0.750877192982 906.259649123\n",
      "green data left = -0.810714285714 945.05\n",
      "green data left = -0.809917355372 945.603305785\n",
      "green data right = 0.5625 54.625\n",
      "green data left = -0.745098039216 903.058823529\n",
      "green data left = -0.8 939.0\n",
      "green data left = -0.757894736842 916.105263158\n",
      "green data left = -0.755319148936 908.595744681\n",
      "current clip data = [-0.77632547785028649, 923.87089623633801, 0.56675014950274338, 50.164245925565467]\n"
     ]
    },
    {
     "name": "stderr",
     "output_type": "stream",
     "text": [
      "\r",
      " 95%|█████████████████████████████████████████████████████████████████████████████████████████████████████████████████████████████████████████████████████████████████████████████████████████▋         | 239/251 [01:19<00:02,  5.09it/s]"
     ]
    },
    {
     "name": "stdout",
     "output_type": "stream",
     "text": [
      "green data left = -0.753521126761 905.957746479\n",
      "green data left = -0.810185185185 944.921296296\n",
      "green data left = -0.754601226994 907.871165644\n",
      "green data left = -0.810606060606 945.825757576\n",
      "green data right = 0.582417582418 34.6703296703\n",
      "green data left = -0.753488372093 906.981395349\n",
      "green data right = 0.583333333333 39.4166666667\n",
      "current clip data = [-0.77645457491483028, 922.57137626337897, 0.57750035508455289, 41.417080754187644]\n"
     ]
    },
    {
     "name": "stderr",
     "output_type": "stream",
     "text": [
      "\r",
      " 96%|██████████████████████████████████████████████████████████████████████████████████████████████████████████████████████████████████████████████████████████████████████████████████████████▍        | 240/251 [01:19<00:02,  5.34it/s]"
     ]
    },
    {
     "name": "stdout",
     "output_type": "stream",
     "text": [
      "green data left = -0.807971014493 943.166666667\n",
      "green data left = -0.752767527675 906.57195572\n",
      "green data right = 0.558823529412 53.0294117647\n",
      "green data left = -0.81067961165 943.733009709\n",
      "green data right = 0.595238095238 30.1666666667\n",
      "green data left = -0.741935483871 900.225806452\n",
      "current clip data = [-0.77796164252086319, 923.25376296199079, 0.5771873265781382, 41.537719728519697]\n"
     ]
    },
    {
     "name": "stderr",
     "output_type": "stream",
     "text": [
      "\r",
      " 96%|███████████████████████████████████████████████████████████████████████████████████████████████████████████████████████████████████████████████████████████████████████████████████████████▏       | 241/251 [01:19<00:01,  5.77it/s]"
     ]
    },
    {
     "name": "stdout",
     "output_type": "stream",
     "text": [
      "green data left = -0.812121212121 944.903030303\n",
      "green data left = -0.750972762646 905.785992218\n",
      "green data left = -0.796296296296 939.314814815\n",
      "green data right = 0.601503759398 19.7067669173\n",
      "green data left = -0.752808988764 907.831460674\n",
      "green data right = 0.583333333333 44.8333333333\n",
      "green data left = -0.795918367347 938.734693878\n",
      "green data left = -0.79012345679 938.209876543\n",
      "green data left = -0.781818181818 931.690909091\n",
      "green data left = -0.810408921933 944.951672862\n",
      "current clip data = [-0.78538109224851793, 930.51957926066825, 0.58734147310332208, 35.359273326382713]\n"
     ]
    },
    {
     "name": "stderr",
     "output_type": "stream",
     "text": [
      "\r",
      " 96%|████████████████████████████████████████████████████████████████████████████████████████████████████████████████████████████████████████████████████████████████████████████████████████████       | 242/251 [01:19<00:01,  5.52it/s]"
     ]
    },
    {
     "name": "stdout",
     "output_type": "stream",
     "text": [
      "green data left = -0.806691449814 940.334572491\n",
      "green data left = -0.753521126761 905.549295775\n",
      "green data left = -0.808823529412 942.632352941\n",
      "green data right = 0.584615384615 40.2923076923\n",
      "green data right = 0.575342465753 41.2465753425\n",
      "current clip data = [-0.78860429955874367, 929.75895011680007, 0.58243310782404389, 38.966052120385235]\n"
     ]
    },
    {
     "name": "stderr",
     "output_type": "stream",
     "text": [
      "\r",
      " 97%|████████████████████████████████████████████████████████████████████████████████████████████████████████████████████████████████████████████████████████████████████████████████████████████▊      | 243/251 [01:19<00:01,  5.84it/s]"
     ]
    },
    {
     "name": "stdout",
     "output_type": "stream",
     "text": [
      "green data left = -0.809160305344 941.122137405\n",
      "green data right = 0.558282208589 56.4049079755\n",
      "green data right = 0.597014925373 22.1492537313\n",
      "green data right = 0.571428571429 46.4285714286\n",
      "green data right = 0.593220338983 25.4237288136\n",
      "current clip data = [-0.79888230245112701, 935.44054376068993, 0.58047583043955064, 37.874502813864595]\n"
     ]
    },
    {
     "name": "stderr",
     "output_type": "stream",
     "text": [
      "\r",
      " 97%|█████████████████████████████████████████████████████████████████████████████████████████████████████████████████████████████████████████████████████████████████████████████████████████████▌     | 244/251 [01:19<00:01,  6.03it/s]"
     ]
    },
    {
     "name": "stdout",
     "output_type": "stream",
     "text": [
      "green data left = -0.807547169811 940.60754717\n",
      "green data left = -0.807486631016 939.165775401\n",
      "green data right = 0.571428571429 47.2857142857\n",
      "green data right = 0.549019607843 62.431372549\n",
      "green data left = -0.808429118774 940.08045977\n",
      "current clip data = [-0.80558630551310917, 938.82358152542122, 0.56697466990375223, 49.197196549533572]\n"
     ]
    },
    {
     "name": "stderr",
     "output_type": "stream",
     "text": [
      "\r",
      " 98%|██████████████████████████████████████████████████████████████████████████████████████████████████████████████████████████████████████████████████████████████████████████████████████████████▎    | 245/251 [01:19<00:00,  6.06it/s]"
     ]
    },
    {
     "name": "stdout",
     "output_type": "stream",
     "text": [
      "green data left = -0.807692307692 939.038461538\n",
      "green data right = 0.553191489362 62.7446808511\n",
      "green data right = 0.578512396694 49.5950413223\n",
      "green data left = -0.806201550388 939.178294574\n",
      "green data right = 0.587301587302 32.1746031746\n",
      "green data right = 0.580882352941 36.5\n",
      "current clip data = [-0.80649338786433844, 939.01344587917549, 0.57337249924048717, 46.04230437950234]\n"
     ]
    },
    {
     "name": "stderr",
     "output_type": "stream",
     "text": [
      "\r",
      " 98%|███████████████████████████████████████████████████████████████████████████████████████████████████████████████████████████████████████████████████████████████████████████████████████████████    | 246/251 [01:20<00:00,  6.19it/s]"
     ]
    },
    {
     "name": "stdout",
     "output_type": "stream",
     "text": [
      "green data left = -0.783333333333 929.966666667\n",
      "green data left = -0.754716981132 915.150943396\n",
      "green data right = 0.555555555556 62.1111111111\n",
      "green data right = 0.577540106952 51.5240641711\n",
      "green data right = 0.572222222222 44.2722222222\n",
      "green data right = 0.573913043478 44.0173913043\n",
      "green data right = 0.589285714286 30.75\n",
      "green data left = -0.757142857143 921.228571429\n",
      "green data left = -0.765957446809 925.574468085\n",
      "green data left = -0.75 915.0\n",
      "green data right = 0.581632653061 36.0612244898\n",
      "current clip data = [-0.76960733438018514, 924.32234924262423, 0.57478882782790564, 44.968331096871246]\n"
     ]
    },
    {
     "name": "stderr",
     "output_type": "stream",
     "text": [
      "\r",
      " 98%|███████████████████████████████████████████████████████████████████████████████████████████████████████████████████████████████████████████████████████████████████████████████████████████████▉   | 247/251 [01:20<00:00,  5.77it/s]"
     ]
    },
    {
     "name": "stdout",
     "output_type": "stream",
     "text": [
      "green data left = -0.807453416149 939.155279503\n",
      "green data right = 0.597122302158 32.0935251799\n",
      "green data right = 0.551948051948 66.3051948052\n",
      "green data right = 0.55737704918 58.7049180328\n",
      "green data right = 0.551948051948 65.2012987013\n",
      "green data right = 0.59375 36.4375\n",
      "current clip data = [-0.78853037526462688, 931.73881437286502, 0.57115571384376929, 50.6184613026671]\n"
     ]
    },
    {
     "name": "stderr",
     "output_type": "stream",
     "text": [
      "\r",
      " 99%|████████████████████████████████████████████████████████████████████████████████████████████████████████████████████████████████████████████████████████████████████████████████████████████████▋  | 248/251 [01:20<00:00,  5.82it/s]"
     ]
    },
    {
     "name": "stdout",
     "output_type": "stream",
     "text": [
      "green data left = -0.775 925.975\n",
      "green data left = -0.80198019802 936.732673267\n",
      "green data right = 0.568181818182 48.5681818182\n",
      "green data left = -0.790697674419 932.627906977\n",
      "green data left = -0.755458515284 916.873362445\n",
      "green data left = -0.740740740741 912.0\n",
      "green data left = -0.769230769231 924.230769231\n",
      "green data right = 0.579710144928 38.7101449275\n",
      "green data right = 0.56 59.16\n",
      "green data left = -0.744186046512 913.720930233\n",
      "green data right = 0.573248407643 44.6050955414\n",
      "current clip data = [-0.77072803993375083, 924.2374320657093, 0.5704592169192878, 48.332376717956571]\n"
     ]
    },
    {
     "name": "stderr",
     "output_type": "stream",
     "text": [
      "\r",
      " 99%|█████████████████████████████████████████████████████████████████████████████████████████████████████████████████████████████████████████████████████████████████████████████████████████████████▍ | 249/251 [01:20<00:00,  5.75it/s]"
     ]
    },
    {
     "name": "stdout",
     "output_type": "stream",
     "text": [
      "green data left = -0.775700934579 926.953271028\n",
      "green data left = -0.803738317757 936.177570093\n",
      "green data left = -0.80701754386 941.49122807\n",
      "green data left = -0.753424657534 916.369863014\n",
      "green data right = 0.592592592593 35.1111111111\n",
      "green data left = -0.745098039216 910.980392157\n",
      "green data right = 0.566037735849 51.7924528302\n",
      "green data left = -0.748251748252 900.48951049\n",
      "green data right = 0.571428571429 53.8571428571\n",
      "green data right = 0.571428571429 45.5714285714\n",
      "green data right = 0.5625 56.875\n",
      "current clip data = [-0.77199418301879053, 922.38560955963635, 0.57240778136968384, 48.589918681300766]\n"
     ]
    },
    {
     "name": "stderr",
     "output_type": "stream",
     "text": [
      "\r",
      "100%|██████████████████████████████████████████████████████████████████████████████████████████████████████████████████████████████████████████████████████████████████████████████████████████████████▏| 250/251 [01:20<00:00,  5.64it/s]"
     ]
    },
    {
     "name": "stdout",
     "output_type": "stream",
     "text": [
      "green data left = -0.777777777778 925.666666667\n",
      "green data left = -0.776470588235 925.870588235\n",
      "green data right = 0.571428571429 50.0\n",
      "green data right = 0.590909090909 29.2272727273\n",
      "current clip data = [-0.77541418301062104, 924.64095482053244, 0.57824848123578099, 42.605730469525362]\n"
     ]
    },
    {
     "name": "stderr",
     "output_type": "stream",
     "text": [
      "100%|███████████████████████████████████████████████████████████████████████████████████████████████████████████████████████████████████████████████████████████████████████████████████████████████████| 251/251 [01:21<00:00,  5.88it/s]\n"
     ]
    },
    {
     "name": "stdout",
     "output_type": "stream",
     "text": [
      "[MoviePy] Done.\n",
      "[MoviePy] >>>> Video ready: extra.mp4 \n",
      "\n",
      "Wall time: 1min 23s\n"
     ]
    },
    {
     "data": {
      "image/png": "[encoded data removed]",
      "text/plain": [
       "<matplotlib.figure.Figure at 0x1cd6250af98>"
      ]
     },
     "metadata": {},
     "output_type": "display_data"
    }
   ],
   "source": [
    "prev_clip_data = [0, 0, 0, 0]\n",
    "bottom_y = 0\n",
    "challenge_output = 'extra.mp4'\n",
    "clip2 = VideoFileClip('challenge.mp4')\n",
    "challenge_clip = clip2.fl_image(process_image)\n",
    "%time challenge_clip.write_videofile(challenge_output, audio=False)"
   ]
  },
  {
   "cell_type": "markdown",
   "metadata": {
    "collapsed": false,
    "deletable": true,
    "editable": true
   },
   "source": [
    "## HTML(\"\"\"\n",
    "<video width=\"960\" height=\"540\" controls>\n",
    "  <source src=\"{0}\">\n",
    "</video>\n",
    "\"\"\".format(challenge_output))"
   ]
  },
  {
   "cell_type": "code",
   "execution_count": null,
   "metadata": {
    "collapsed": true,
    "deletable": true,
    "editable": true
   },
   "outputs": [],
   "source": []
  }
 ],
 "metadata": {
  "anaconda-cloud": {},
  "kernelspec": {
   "display_name": "Python 3",
   "language": "python",
   "name": "python3"
  },
  "language_info": {
   "codemirror_mode": {
    "name": "ipython",
    "version": 3
   },
   "file_extension": ".py",
   "mimetype": "text/x-python",
   "name": "python",
   "nbconvert_exporter": "python",
   "pygments_lexer": "ipython3",
   "version": "3.5.2"
  },
  "widgets": {
   "state": {},
   "version": "1.1.2"
  }
 },
 "nbformat": 4,
 "nbformat_minor": 0
}
