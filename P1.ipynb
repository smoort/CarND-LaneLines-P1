{
 "cells": [
  {
   "cell_type": "markdown",
   "metadata": {
    "deletable": true,
    "editable": true
   },
   "source": [
    "# Self-Driving Car Engineer Nanodegree\n",
    "\n",
    "\n",
    "## Project: **Finding Lane Lines on the Road** \n",
    "***\n",
    "In this project, you will use the tools you learned about in the lesson to identify lane lines on the road.  You can develop your pipeline on a series of individual images, and later apply the result to a video stream (really just a series of images). Check out the video clip \"raw-lines-example.mp4\" (also contained in this repository) to see what the output should look like after using the helper functions below. \n",
    "\n",
    "Once you have a result that looks roughly like \"raw-lines-example.mp4\", you'll need to get creative and try to average and/or extrapolate the line segments you've detected to map out the full extent of the lane lines.  You can see an example of the result you're going for in the video \"P1_example.mp4\".  Ultimately, you would like to draw just one line for the left side of the lane, and one for the right.\n",
    "\n",
    "In addition to implementing code, there is a brief writeup to complete. The writeup should be completed in a separate file, which can be either a markdown file or a pdf document. There is a [write up template](https://github.com/udacity/CarND-LaneLines-P1/blob/master/writeup_template.md) that can be used to guide the writing process. Completing both the code in the Ipython notebook and the writeup template will cover all of the [rubric points](https://review.udacity.com/#!/rubrics/322/view) for this project.\n",
    "\n",
    "---\n",
    "Let's have a look at our first image called 'test_images/solidWhiteRight.jpg'.  Run the 2 cells below (hit Shift-Enter or the \"play\" button above) to display the image.\n",
    "\n",
    "**Note: If, at any point, you encounter frozen display windows or other confounding issues, you can always start again with a clean slate by going to the \"Kernel\" menu above and selecting \"Restart & Clear Output\".**\n",
    "\n",
    "---"
   ]
  },
  {
   "cell_type": "markdown",
   "metadata": {
    "deletable": true,
    "editable": true
   },
   "source": [
    "**The tools you have are color selection, region of interest selection, grayscaling, Gaussian smoothing, Canny Edge Detection and Hough Tranform line detection.  You  are also free to explore and try other techniques that were not presented in the lesson.  Your goal is piece together a pipeline to detect the line segments in the image, then average/extrapolate them and draw them onto the image for display (as below).  Once you have a working pipeline, try it out on the video stream below.**\n",
    "\n",
    "---\n",
    "\n",
    "<figure>\n",
    " <img src=\"line-segments-example.jpg\" width=\"380\" alt=\"Combined Image\" />\n",
    " <figcaption>\n",
    " <p></p> \n",
    " <p style=\"text-align: center;\"> Your output should look something like this (above) after detecting line segments using the helper functions below </p> \n",
    " </figcaption>\n",
    "</figure>\n",
    " <p></p> \n",
    "<figure>\n",
    " <img src=\"laneLines_thirdPass.jpg\" width=\"380\" alt=\"Combined Image\" />\n",
    " <figcaption>\n",
    " <p></p> \n",
    " <p style=\"text-align: center;\"> Your goal is to connect/average/extrapolate line segments to get output like this</p> \n",
    " </figcaption>\n",
    "</figure>"
   ]
  },
  {
   "cell_type": "markdown",
   "metadata": {
    "deletable": true,
    "editable": true
   },
   "source": [
    "**Run the cell below to import some packages.  If you get an `import error` for a package you've already installed, try changing your kernel (select the Kernel menu above --> Change Kernel).  Still have problems?  Try relaunching Jupyter Notebook from the terminal prompt.  Also, see [this forum post](https://carnd-forums.udacity.com/cq/viewquestion.action?spaceKey=CAR&id=29496372&questionTitle=finding-lanes---import-cv2-fails-even-though-python-in-the-terminal-window-has-no-problem-with-import-cv2) for more troubleshooting tips.**  "
   ]
  },
  {
   "cell_type": "markdown",
   "metadata": {
    "deletable": true,
    "editable": true
   },
   "source": [
    "## Import Packages"
   ]
  },
  {
   "cell_type": "code",
   "execution_count": 145,
   "metadata": {
    "collapsed": false,
    "deletable": true,
    "editable": true
   },
   "outputs": [],
   "source": [
    "#importing some useful packages\n",
    "import matplotlib.pyplot as plt\n",
    "import matplotlib.image as mpimg\n",
    "import numpy as np\n",
    "import cv2\n",
    "%matplotlib inline\n",
    "import math\n",
    "\n",
    "# global variable\n",
    "prev_clip_data = [0, 0, 0, 0]        # Slope & intercept from previous clip used as reference to filter outliers\n",
    "bottom_y = 0                         # Variable to hold the bottom most starting point\n",
    "\n",
    "# constants\n",
    "SLOPE_TOLERANCE = 0.5                # Used to derieve allowed slope range based on on previous clip slope\n",
    "INTERCEPT_TOLERANCE = 25             # Used to derieve allowed intecept range based on on previous clip intercept\n",
    "TOP_Y_FACTOR = 0.615                 # Factor that decides the top edge of mask\n",
    "BOTTOM_Y_FACTOR = 1.0                # Factor that decides the bottom edge of mask\n",
    "MASK_BOTTOM_RIGHT_X_FACTOR = 0.975   # Factor that decides the bottom right position of mask\n",
    "MASK_BOTTOM_LEFT_X_FACTOR = 0.125    # Factor that decides the bottom left position of mask\n",
    "MASK_TOP_RIGHT_X_FACTOR = 0.575      # Factor that decides the top right position of mask\n",
    "MASK_TOP_LEFT_X_FACTOR = 0.425       # Factor that decides the top left position of mask"
   ]
  },
  {
   "cell_type": "markdown",
   "metadata": {
    "deletable": true,
    "editable": true
   },
   "source": [
    "## Read in an Image"
   ]
  },
  {
   "cell_type": "code",
   "execution_count": 2,
   "metadata": {
    "collapsed": false,
    "deletable": true,
    "editable": true
   },
   "outputs": [],
   "source": [
    "#reading in an image\n",
    "#image = mpimg.imread('test_images/Challenge6.jpg')\n",
    "\n",
    "#printing out some stats and plotting\n",
    "#print('This image is:', type(image), 'with dimensions:', image.shape)\n",
    "#plt.imshow(image)  # if you wanted to show a single color channel image called 'gray',\n",
    "#    for example, call as plt.imshow(gray, cmap='gray')"
   ]
  },
  {
   "cell_type": "markdown",
   "metadata": {
    "deletable": true,
    "editable": true
   },
   "source": [
    "## Ideas for Lane Detection Pipeline"
   ]
  },
  {
   "cell_type": "markdown",
   "metadata": {
    "deletable": true,
    "editable": true
   },
   "source": [
    "**Some OpenCV functions (beyond those introduced in the lesson) that might be useful for this project are:**\n",
    "\n",
    "`cv2.inRange()` for color selection  \n",
    "`cv2.fillPoly()` for regions selection  \n",
    "`cv2.line()` to draw lines on an image given endpoints  \n",
    "`cv2.addWeighted()` to coadd / overlay two images\n",
    "`cv2.cvtColor()` to grayscale or change color\n",
    "`cv2.imwrite()` to output images to file  \n",
    "`cv2.bitwise_and()` to apply a mask to an image\n",
    "\n",
    "**Check out the OpenCV documentation to learn about these and discover even more awesome functionality!**"
   ]
  },
  {
   "cell_type": "markdown",
   "metadata": {
    "deletable": true,
    "editable": true
   },
   "source": [
    "## Helper Functions"
   ]
  },
  {
   "cell_type": "markdown",
   "metadata": {
    "deletable": true,
    "editable": true
   },
   "source": [
    "Below are some helper functions to help get you started. They should look familiar from the lesson!"
   ]
  },
  {
   "cell_type": "code",
   "execution_count": 170,
   "metadata": {
    "collapsed": false,
    "deletable": true,
    "editable": true
   },
   "outputs": [],
   "source": [
    "def grayscale(img):\n",
    "    \"\"\"Applies the Grayscale transform\n",
    "    This will return an image with only one color channel\n",
    "    but NOTE: to see the returned image as grayscale\n",
    "    (assuming your grayscaled image is called 'gray')\n",
    "    you should call plt.imshow(gray, cmap='gray')\"\"\"\n",
    "    return cv2.cvtColor(img, cv2.COLOR_RGB2GRAY)\n",
    "    # Or use BGR2GRAY if you read an image with cv2.imread()\n",
    "    # return cv2.cvtColor(img, cv2.COLOR_BGR2GRAY)\n",
    "\n",
    "def canny(img, low_threshold, high_threshold):\n",
    "    \"\"\"Applies the Canny transform\"\"\"\n",
    "    return cv2.Canny(img, low_threshold, high_threshold)\n",
    "\n",
    "def gaussian_blur(img, kernel_size):\n",
    "    \"\"\"Applies a Gaussian Noise kernel\"\"\"\n",
    "    return cv2.GaussianBlur(img, (kernel_size, kernel_size), 0)\n",
    "\n",
    "def region_of_interest(img, vertices):\n",
    "    \"\"\"\n",
    "    Applies an image mask.\n",
    "\n",
    "    Only keeps the region of the image defined by the polygon\n",
    "    formed from `vertices`. The rest of the image is set to black.\n",
    "    \"\"\"\n",
    "    #defining a blank mask to start with\n",
    "    mask = np.zeros_like(img)\n",
    "\n",
    "    #defining a 3 channel or 1 channel color to fill the mask with depending on the input image\n",
    "    if len(img.shape) > 2:\n",
    "        channel_count = img.shape[2]  # i.e. 3 or 4 depending on your image\n",
    "        ignore_mask_color = (255,) * channel_count\n",
    "    else:\n",
    "        ignore_mask_color = 255\n",
    "\n",
    "    #filling pixels inside the polygon defined by \"vertices\" with the fill color\n",
    "    cv2.fillPoly(mask, vertices, ignore_mask_color)\n",
    "\n",
    "    #returning the image only where mask pixels are nonzero\n",
    "    masked_image = cv2.bitwise_and(img, mask)\n",
    "    return masked_image\n",
    "\n",
    "def draw_lines(img, lines, color=[255, 0, 0], thickness=10):\n",
    "    \"\"\"\n",
    "    This section iterates through the line co-ordinates returned by Hough transform and\n",
    "    calculates the average slope (m) and intercept (b) for left lane and right lane seperately.\n",
    "    Positive slope is considered as right lane and negative slope is considered as left lane.\n",
    "    \n",
    "    The following filters are applied :\n",
    "        1. Lines with slope^2 outside the range of 0.1 and 100 are filtered out as horizontal lines\n",
    "        2. Lines with slope < 0 (left lane) but lying to the right of center are filtered\n",
    "        3. Lines with slope > 0 (right lane) but lying to the left of center are filtered\n",
    "        4. Lines with slope & intercept beyond the allowed variance are filtered.\n",
    "\n",
    "    The mean of slope and intercept of valid left side lines is calculated as the left lane slope & intecept.\n",
    "    The mean of slope and intercept of valid right side lines is calculated as the left lane slope & intecept.\n",
    "\n",
    "    The left and right lanes are extrapolated by determining top and bottom x values using y = mx + b\n",
    "    for y = top and bottom edge of mask\n",
    "    \n",
    "    The extrapolated lines are then drawn to produce the image.\n",
    "    \"\"\"\n",
    "\n",
    "    global prev_clip_data                    # Array that holds the slope & intercept of previous clip\n",
    "    global bottom_y                          # Variable that holds the bottom most y value\n",
    "\n",
    "    prev_left_slope = prev_clip_data[0]      # Variable that holds the slope of left lane from previous clip\n",
    "    prev_left_intercept = prev_clip_data[1]  # Variable that holds the intercept of left lane from previous clip\n",
    "    prev_right_slope = prev_clip_data[2]     # Variable that holds the slope of right lane from previous clip\n",
    "    prev_right_intercept = prev_clip_data[3] # Variable that holds the intercept of right lane from previous clip\n",
    "\n",
    "    left_lane_slope_accumulator = 0.0        # Variable used to accumulate left lane slope to calculate mean\n",
    "    left_lane_intercept_accumulator = 0.0    # Variable used to accumulate left lane intercept to calculate mean\n",
    "    left_lane_line_counter = 0               # Variable used to count the number of valid left lanes\n",
    "    left_lane_intercept_average = 0.0        # Variable used to hold the left lane intercept average\n",
    "    right_lane_slope_accumulator = 0.0       # Variable used to accumulate right lane slope to calculate mean       \n",
    "    right_lane_intercept_accumulator = 0.0   # Variable used to accumulate right lane intercept to calculate mean\n",
    "    right_lane_line_counter = 0              # Variable used to count the number of valid right lanes\n",
    "    right_lane_slope_average = 0.0           # Variable used to hold the right lane intercept average\n",
    "    right_lane_intercept_average = 0.0       # Variable used to hold the right lane intercept average\n",
    "\n",
    "    top_y = int(img.shape[0] * TOP_Y_FACTOR) # Calculates the top edge of mask to be used in extrapolation\n",
    "\n",
    "    if prev_left_slope == 0:                 # Identifies the very first clip and uses logic without prev clip reference\n",
    "        for line in lines:\n",
    "            for x1, y1, x2, y2 in line:\n",
    "                slope, intercept = np.polyfit([x1, x2], [y1, y2], 1)   # Calculate slope & intercept\n",
    "                if((slope*slope) > 0.1) & ((slope*slope) < 100):       # Filters out horizontal lines \n",
    "#                    cv2.line(img, (x1, y1), (x2, y2), color=[0, 255, 0], thickness=2)\n",
    "                    if y1 > bottom_y:                                  # Reposition bottom edge if line is lower\n",
    "                        bottom_y = y1\n",
    "                    if y2 > bottom_y:                                  # Reposition bottom edge if line is lower\n",
    "                        bottom_y = y2\n",
    "                    if slope < 0:                                      # Identifies lane position as left or right\n",
    "                        left_lane_slope_accumulator += slope\n",
    "                        left_lane_intercept_accumulator += intercept\n",
    "                        left_lane_line_counter += 1\n",
    "                    else:\n",
    "                        right_lane_slope_accumulator += slope\n",
    "                        right_lane_intercept_accumulator += intercept\n",
    "                        right_lane_line_counter += 1\n",
    "                else:\n",
    "#                    print ('ignoring line ', line, ' as outlier ', slope, intercept)\n",
    "#                    cv2.line(img, (x1, y1), (x2, y2), color=[0, 0, 255], thickness=2)\n",
    "                    pass\n",
    "        \n",
    "        \"\"\"\n",
    "        Below section calculates the mean of slope and intercept for left and right lanes seperately using \n",
    "        filtered out lines.  \n",
    "        \"\"\"\n",
    "        if left_lane_line_counter != 0:                                    # handle division by zero scenario\n",
    "            left_lane_slope_average = left_lane_slope_accumulator / left_lane_line_counter\n",
    "            left_lane_intercept_average = left_lane_intercept_accumulator / left_lane_line_counter\n",
    "            left_lane_top_x = (top_y - left_lane_intercept_average)/ left_lane_slope_average\n",
    "            left_lane_bottom_x = (bottom_y - left_lane_intercept_average) / left_lane_slope_average\n",
    "            cv2.line(img, (int(left_lane_bottom_x), bottom_y), (int(left_lane_top_x), top_y), color, thickness)\n",
    "\n",
    "        if right_lane_line_counter != 0:                                    # handle division by zero scenario\n",
    "            right_lane_slope_average = right_lane_slope_accumulator / right_lane_line_counter\n",
    "            right_lane_intercept_average = right_lane_intercept_accumulator / right_lane_line_counter\n",
    "            right_lane_top_x = (top_y - right_lane_intercept_average) / right_lane_slope_average\n",
    "            right_lane_bottom_x = (bottom_y - right_lane_intercept_average) / right_lane_slope_average\n",
    "            cv2.line(img, (int(right_lane_bottom_x), bottom_y), (int(right_lane_top_x), top_y), color, thickness)\n",
    "\n",
    "        prev_clip_data = [left_lane_slope_average, left_lane_intercept_average, \n",
    "                             right_lane_slope_average, right_lane_intercept_average]\n",
    "#        print('current clip data =', prev_clip_data)\n",
    "\n",
    "    else:\n",
    "        left_lane_slope_accumulator = prev_left_slope                 # Use slope and intercept from previous\n",
    "        left_lane_intercept_accumulator = prev_left_intercept         # clip as one of the valid lines. This  \n",
    "        left_lane_line_counter = 1                                    # will help increase the weight for valid\n",
    "        right_lane_slope_accumulator = prev_right_slope               # lines in current clip and also act as \n",
    "        right_lane_intercept_accumulator = prev_right_intercept       # reference in case no line could be detected\n",
    "        right_lane_line_counter = 1\n",
    "        \n",
    "        for line in lines:\n",
    "            for x1, y1, x2, y2 in line:\n",
    "                slope, intercept = np.polyfit([x1, x2], [y1, y2], 1)  # calculate slope & intercept\n",
    "                if((slope*slope) > 0.1) & ((slope*slope) < 100):      # filter out horizontal lines\n",
    "                    if slope < 0:                                     # Line slope < 0 is considered left lane line\n",
    "                        if x1 < (img.shape[1]/2):                     # Check if line is in left side of image\n",
    "                            \"\"\"\n",
    "                            The below condition checks if a line is within the tolerance range using previous\n",
    "                            clip slope and intercept as reference\n",
    "                            \"\"\"\n",
    "                            if ((prev_left_slope-SLOPE_TOLERANCE) < slope < (prev_left_slope+SLOPE_TOLERANCE)) & \\\n",
    "                             ((prev_left_intercept-INTERCEPT_TOLERANCE) < intercept < \\\n",
    "                                (prev_left_intercept+INTERCEPT_TOLERANCE)):\n",
    "                                left_lane_slope_accumulator += slope\n",
    "                                left_lane_intercept_accumulator += intercept\n",
    "                                left_lane_line_counter += 1\n",
    "#                                cv2.line(img, (x1, y1), (x2, y2), color=[0, 255, 0], thickness=20)\n",
    "#                               print('green data left =', slope, intercept)\n",
    "                                if y1 > bottom_y:                    # Reposition bottom edge if line is lower\n",
    "                                    bottom_y = y1\n",
    "                                if y2 > bottom_y:                    # Reposition bottom edge if line is lower\n",
    "                                    bottom_y = y2\n",
    "                            else:\n",
    "#                                print('ignoring line ', line, ' as outlier ', slope, intercept)\n",
    "#                               cv2.line(img, (x1, y1), (x2, y2), color=[0, 0, 255], thickness=2)\n",
    "                                pass\n",
    "                        else:\n",
    "#                           print('ignoring line ', line, ' as outlier ', slope, intercept)\n",
    "#                            cv2.line(img, (x1, y1), (x2, y2), color=[240, 66, 236], thickness=2)\n",
    "                            pass\n",
    "                    else:\n",
    "                        if x1 > (img.shape[1]/2):                   # Check if line is in right side of image\n",
    "                            \"\"\"\n",
    "                            The below condition checks if a line is within the tolerance range using previous\n",
    "                            clip slope and intercept as reference\n",
    "                            \"\"\"\n",
    "                            if ((prev_right_slope-SLOPE_TOLERANCE) < slope < (prev_right_slope+SLOPE_TOLERANCE)) & \\\n",
    "                                ((prev_right_intercept-INTERCEPT_TOLERANCE) < \\\n",
    "                                    intercept < (prev_right_intercept+INTERCEPT_TOLERANCE)):\n",
    "                                right_lane_slope_accumulator += slope\n",
    "                                right_lane_intercept_accumulator += intercept\n",
    "                                right_lane_line_counter += 1\n",
    "#                                cv2.line(img, (x1, y1), (x2, y2), color=[0, 255, 0], thickness=20)\n",
    "#                                print('green data right =', slope, intercept)\n",
    "                                if y1 > bottom_y:                        # Reposition bottom edge if line is lower\n",
    "                                    bottom_y = y1\n",
    "                                if y2 > bottom_y:                        # Reposition bottom edge if line is lower\n",
    "                                    bottom_y = y2\n",
    "                            else:\n",
    "#                               print('ignoring line ', line, ' as outlier ', slope, intercept)\n",
    "#                                cv2.line(img, (x1, y1), (x2, y2), color=[0, 0, 255], thickness=2)\n",
    "                                pass\n",
    "                        else:\n",
    "#                           print('ignoring line ', line, ' as outlier ', slope, intercept)\n",
    "#                            cv2.line(img, (x1, y1), (x2, y2), color=[240, 66, 236], thickness=2)\n",
    "                            pass\n",
    "                else:\n",
    "#                   print('ignoring line ', line, ' as outlier ', slope, intercept)\n",
    "#                    cv2.line(img, (x1, y1), (x2, y2), color=[252, 255, 111], thickness=2)\n",
    "                    pass\n",
    "\n",
    "        \"\"\"\n",
    "        Below section calculates the mean of slope and intercept for left and right lanes seperately using \n",
    "        filtered out lines.  \n",
    "        \"\"\"\n",
    "        left_lane_slope_average = left_lane_slope_accumulator / left_lane_line_counter\n",
    "        left_lane_intercept_average = left_lane_intercept_accumulator / left_lane_line_counter\n",
    "        left_lane_top_x = (top_y - left_lane_intercept_average) / left_lane_slope_average\n",
    "        left_lane_bottom_x = (bottom_y - left_lane_intercept_average) / left_lane_slope_average\n",
    "        cv2.line(img, (int(left_lane_bottom_x), bottom_y), (int(left_lane_top_x), top_y), color, thickness)\n",
    "\n",
    "        right_lane_slope_average = right_lane_slope_accumulator / right_lane_line_counter\n",
    "        right_lane_intercept_average = right_lane_intercept_accumulator / right_lane_line_counter\n",
    "        right_lane_top_x = (top_y - right_lane_intercept_average) / right_lane_slope_average\n",
    "        right_lane_bottom_x = (bottom_y - right_lane_intercept_average) / right_lane_slope_average\n",
    "        cv2.line(img, (int(right_lane_bottom_x), bottom_y), (int(right_lane_top_x), top_y), color, thickness)\n",
    "\n",
    "        \"\"\"\n",
    "        Set the previous clip data to the current clip data so that it can be used for next clip\n",
    "        \"\"\"\n",
    "        prev_clip_data = [left_lane_slope_average, left_lane_intercept_average,  \n",
    "                             right_lane_slope_average, right_lane_intercept_average]\n",
    "\n",
    "#        print('current clip data =', prev_clip_data)\n",
    "    \n",
    "    \n",
    "def hough_lines(img, rho, theta, threshold, min_line_len, max_line_gap):\n",
    "    \"\"\"\n",
    "    Returns an image with hough lines drawn.\n",
    "    \"\"\"\n",
    "    lines = cv2.HoughLinesP(img, rho, theta, threshold, np.array([]), minLineLength=min_line_len, maxLineGap=max_line_gap)\n",
    "\n",
    "    line_img = np.zeros((img.shape[0], img.shape[1], 3), dtype=np.uint8)\n",
    "\n",
    "    draw_lines(line_img, lines)\n",
    "    return line_img\n",
    "\n",
    "\n",
    "def weighted_img(img, initial_img, α=0.8, β=1., λ=0.):\n",
    "    \"\"\"\n",
    "    Blends the orginial image with the image containing identified lane lines\n",
    "    \"\"\"\n",
    "    return cv2.addWeighted(initial_img, α, img, β, λ)"
   ]
  },
  {
   "cell_type": "markdown",
   "metadata": {
    "deletable": true,
    "editable": true
   },
   "source": [
    "## Test Images\n",
    "\n",
    "Build your pipeline to work on the images in the directory \"test_images\"  \n",
    "**You should make sure your pipeline works well on these images before you try the videos.**"
   ]
  },
  {
   "cell_type": "code",
   "execution_count": 4,
   "metadata": {
    "collapsed": false,
    "deletable": true,
    "editable": true
   },
   "outputs": [
    {
     "data": {
      "text/plain": [
       "['Challenge5.jpg',\n",
       " 'Challenge6.jpg',\n",
       " 'Challenge7.jpg',\n",
       " 'Output2_Challenge5-old.jpg',\n",
       " 'Output2_Challenge5-old1.jpg',\n",
       " 'Output2_Challenge5.jpg',\n",
       " 'Output2_Challenge6-old.jpg',\n",
       " 'Output2_Challenge6-old1.jpg',\n",
       " 'Output2_Challenge6.jpg',\n",
       " 'Output2_Challenge7-old.jpg',\n",
       " 'Output2_Challenge7-old1.jpg',\n",
       " 'Output2_Challenge7.jpg']"
      ]
     },
     "execution_count": 4,
     "metadata": {},
     "output_type": "execute_result"
    }
   ],
   "source": [
    "import os\n",
    "os.listdir(\"test_images/\")"
   ]
  },
  {
   "cell_type": "markdown",
   "metadata": {
    "deletable": true,
    "editable": true
   },
   "source": [
    "## Build a Lane Finding Pipeline\n",
    "\n"
   ]
  },
  {
   "cell_type": "markdown",
   "metadata": {
    "deletable": true,
    "editable": true
   },
   "source": [
    "Build the pipeline and run your solution on all test_images. Make copies into the test_images directory, and you can use the images in your writeup report.\n",
    "\n",
    "Try tuning the various parameters, especially the low and high Canny thresholds as well as the Hough lines parameters."
   ]
  },
  {
   "cell_type": "code",
   "execution_count": 169,
   "metadata": {
    "collapsed": false,
    "deletable": true,
    "editable": true,
    "scrolled": true
   },
   "outputs": [
    {
     "name": "stdout",
     "output_type": "stream",
     "text": [
      "processing image  Challenge5.jpg\n",
      "processing image  Challenge6.jpg\n",
      "processing image  Challenge7.jpg\n",
      "ignoring image  Output2_Challenge5.jpg\n",
      "ignoring image  Output2_Challenge6.jpg\n",
      "ignoring image  Output2_Challenge7.jpg\n"
     ]
    }
   ],
   "source": [
    "def pipeline(input_image):\n",
    "    \"\"\"\n",
    "    Pipeline that will draw lane lines on the test_images and then save them to the test_images directory.\n",
    "    \"\"\"\n",
    "    \n",
    "    gaussian_kernel_size = 7  # kernel size used for gaussian blur\n",
    "    canny_low_threshold = 40 # pixel with gradient below the low threshold are rejected\n",
    "    canny_high_threshold = 100 # gradient used to detect strong edges\n",
    "    \n",
    "    \n",
    "    mask_bottom_right_x = input_image.shape[1] * MASK_BOTTOM_RIGHT_X_FACTOR\n",
    "    mask_bottom_left_x = input_image.shape[1] * MASK_BOTTOM_LEFT_X_FACTOR\n",
    "    mask_top_right_x = input_image.shape[1] * MASK_TOP_RIGHT_X_FACTOR\n",
    "    mask_top_left_x = input_image.shape[1] * MASK_TOP_LEFT_X_FACTOR\n",
    "    mask_top_y = input_image.shape[0] * TOP_Y_FACTOR\n",
    "    mask_bottom_y = input_image.shape[0] * BOTTOM_Y_FACTOR\n",
    "\n",
    "    \n",
    "    vertices = np.array([[(mask_top_left_x, mask_top_y), (mask_top_right_x, mask_top_y),  \\\n",
    "                          (mask_bottom_right_x, mask_bottom_y), (mask_bottom_left_x, mask_bottom_y)]],  \\\n",
    "                             dtype=np.int32) # vertices of the masked area\n",
    "    rho = 2 # distance resolution in pixels of the Hough grid\n",
    "    theta = np.pi/180 # angular resolution in radians of the Hough grid\n",
    "    threshold = 60     # minimum number of votes (intersections in Hough grid cell)\n",
    "    min_line_length = 20 #minimum number of pixels making up a line\n",
    "    max_line_gap = 30    # maximum gap in pixels between connectable line segments\n",
    "    \n",
    "    grayscale_image = grayscale(input_image)\n",
    "#    print (\"gray image\")\n",
    "#    plt.imshow(grayscale_image, cmap='gray')\n",
    "\n",
    "    gaussian_blurred_image = gaussian_blur(grayscale_image, gaussian_kernel_size)\n",
    "#    print (\"gaussian image\")\n",
    "#    plt.imshow(gaussian_blurred_image, cmap='gray')\n",
    "\n",
    "    canny_image = canny(gaussian_blurred_image, canny_low_threshold, canny_high_threshold)\n",
    "#    print (\"canny image\")\n",
    "#    plt.imshow(canny_image, cmap='gray')\n",
    "#    plt.imsave('canny.png', canny_image, format='png', cmap='gray')\n",
    "\n",
    "    masked_image = region_of_interest(canny_image, vertices)\n",
    "#    print (\"masked image\")\n",
    "#    plt.imshow(masked_image, cmap='gray')\n",
    "#    plt.show()\n",
    "\n",
    "    hough_image = hough_lines(masked_image, rho, theta, threshold, min_line_length, max_line_gap)\n",
    "#    print (\"hough image\")\n",
    "#    plt.imshow(hough_image, cmap='gray')\n",
    "#    plt.show()\n",
    "\n",
    "    weighted_image = weighted_img(hough_image, input_image)\n",
    "#    print (\"weighted image\")\n",
    "#    plt.imshow(weighted_image)\n",
    "    \n",
    "    return weighted_image\n",
    "\n",
    "'''\n",
    "NOTE : This section is used to test the pipeline against the set of test images provided\n",
    "'''\n",
    "\n",
    "images = os.listdir('test_images/')\n",
    "\n",
    "for image in images:\n",
    "    \n",
    "    if image[:6] != 'Output':\n",
    "        input_image = mpimg.imread('test_images/%s' % image)\n",
    "        print('processing image ', image)\n",
    "        prev_clip_data = [0, 0, 0, 0]\n",
    "        bottom_y = 0\n",
    "        output_image = pipeline(input_image)\n",
    "        output_img_name = 'Output2_' + image\n",
    "        mpimg.imsave('test_images/%s' % output_img_name, output_image)\n",
    "    else:\n",
    "        print('ignoring image ', image)"
   ]
  },
  {
   "cell_type": "code",
   "execution_count": null,
   "metadata": {
    "collapsed": true
   },
   "outputs": [],
   "source": []
  },
  {
   "cell_type": "markdown",
   "metadata": {
    "deletable": true,
    "editable": true
   },
   "source": [
    "## Test on Videos\n",
    "\n",
    "You know what's cooler than drawing lanes over images? Drawing lanes over video!\n",
    "\n",
    "We can test our solution on two provided videos:\n",
    "\n",
    "`solidWhiteRight.mp4`\n",
    "\n",
    "`solidYellowLeft.mp4`\n",
    "\n",
    "**Note: if you get an `import error` when you run the next cell, try changing your kernel (select the Kernel menu above --> Change Kernel).  Still have problems?  Try relaunching Jupyter Notebook from the terminal prompt. Also, check out [this forum post](https://carnd-forums.udacity.com/questions/22677062/answers/22677109) for more troubleshooting tips.**\n",
    "\n",
    "**If you get an error that looks like this:**\n",
    "```\n",
    "NeedDownloadError: Need ffmpeg exe. \n",
    "You can download it by calling: \n",
    "imageio.plugins.ffmpeg.download()\n",
    "```\n",
    "**Follow the instructions in the error message and check out [this forum post](https://carnd-forums.udacity.com/display/CAR/questions/26218840/import-videofileclip-error) for more troubleshooting tips across operating systems.**"
   ]
  },
  {
   "cell_type": "code",
   "execution_count": 6,
   "metadata": {
    "collapsed": true,
    "deletable": true,
    "editable": true
   },
   "outputs": [],
   "source": [
    "# Import everything needed to edit/save/watch video clips\n",
    "from moviepy.editor import VideoFileClip\n",
    "from IPython.display import HTML"
   ]
  },
  {
   "cell_type": "code",
   "execution_count": 7,
   "metadata": {
    "collapsed": true,
    "deletable": true,
    "editable": true
   },
   "outputs": [],
   "source": [
    "def process_image(image):\n",
    "    # NOTE: The output you return should be a color image (3 channel) for processing video below\n",
    "    # Calling pipeline that will return the final output (image where lines are drawn on lanes)\n",
    "        \n",
    "    result = pipeline(image)\n",
    "\n",
    "    return result"
   ]
  },
  {
   "cell_type": "markdown",
   "metadata": {
    "deletable": true,
    "editable": true
   },
   "source": [
    "Let's try the one with the solid white lane on the right first ..."
   ]
  },
  {
   "cell_type": "code",
   "execution_count": 174,
   "metadata": {
    "collapsed": false,
    "deletable": true,
    "editable": true
   },
   "outputs": [
    {
     "name": "stdout",
     "output_type": "stream",
     "text": [
      "[MoviePy] >>>> Building video white.mp4\n",
      "[MoviePy] Writing video white.mp4\n"
     ]
    },
    {
     "name": "stderr",
     "output_type": "stream",
     "text": [
      "100%|██████████████████████████████████████████████████████████████████████████████████████████████████████████████████████████████████████████████████████████████████████████████████████████████████ | 221/222 [00:06<00:00, 34.95it/s]\n"
     ]
    },
    {
     "name": "stdout",
     "output_type": "stream",
     "text": [
      "[MoviePy] Done.\n",
      "[MoviePy] >>>> Video ready: white.mp4 \n",
      "\n",
      "Wall time: 7.37 s\n"
     ]
    }
   ],
   "source": [
    "prev_clip_data = [0, 0, 0, 0]\n",
    "bottom_y = 0\n",
    "white_output = 'white.mp4'\n",
    "clip1 = VideoFileClip(\"solidWhiteRight.mp4\")\n",
    "white_clip = clip1.fl_image(process_image) #NOTE: this function expects color images!!\n",
    "%time white_clip.write_videofile(white_output, audio=False)"
   ]
  },
  {
   "cell_type": "markdown",
   "metadata": {
    "deletable": true,
    "editable": true
   },
   "source": [
    "Play the video inline, or if you prefer find the video in your filesystem (should be in the same directory) and play it in your video player of choice."
   ]
  },
  {
   "cell_type": "code",
   "execution_count": null,
   "metadata": {
    "collapsed": false,
    "deletable": true,
    "editable": true
   },
   "outputs": [],
   "source": [
    "HTML(\"\"\"\n",
    "<video width=\"960\" height=\"540\" controls>\n",
    "  <source src=\"{0}\">\n",
    "</video>\n",
    "\"\"\".format(white_output))"
   ]
  },
  {
   "cell_type": "markdown",
   "metadata": {
    "deletable": true,
    "editable": true
   },
   "source": [
    "## Improve the draw_lines() function\n",
    "\n",
    "**At this point, if you were successful with making the pipeline and tuning parameters, you probably have the Hough line segments drawn onto the road, but what about identifying the full extent of the lane and marking it clearly as in the example video (P1_example.mp4)?  Think about defining a line to run the full length of the visible lane based on the line segments you identified with the Hough Transform. As mentioned previously, try to average and/or extrapolate the line segments you've detected to map out the full extent of the lane lines. You can see an example of the result you're going for in the video \"P1_example.mp4\".**\n",
    "\n",
    "**Go back and modify your draw_lines function accordingly and try re-running your pipeline. The new output should draw a single, solid line over the left lane line and a single, solid line over the right lane line. The lines should start from the bottom of the image and extend out to the top of the region of interest.**"
   ]
  },
  {
   "cell_type": "markdown",
   "metadata": {
    "deletable": true,
    "editable": true
   },
   "source": [
    "Now for the one with the solid yellow lane on the left. This one's more tricky!"
   ]
  },
  {
   "cell_type": "code",
   "execution_count": 175,
   "metadata": {
    "collapsed": false,
    "deletable": true,
    "editable": true
   },
   "outputs": [
    {
     "name": "stdout",
     "output_type": "stream",
     "text": [
      "[MoviePy] >>>> Building video yellow.mp4\n",
      "[MoviePy] Writing video yellow.mp4\n"
     ]
    },
    {
     "name": "stderr",
     "output_type": "stream",
     "text": [
      "100%|██████████████████████████████████████████████████████████████████████████████████████████████████████████████████████████████████████████████████████████████████████████████████████████████████▋| 681/682 [00:16<00:00, 52.75it/s]\n"
     ]
    },
    {
     "name": "stdout",
     "output_type": "stream",
     "text": [
      "[MoviePy] Done.\n",
      "[MoviePy] >>>> Video ready: yellow.mp4 \n",
      "\n",
      "Wall time: 17.5 s\n"
     ]
    }
   ],
   "source": [
    "prev_clip_data = [0, 0, 0, 0]\n",
    "bottom_y = 0\n",
    "yellow_output = 'yellow.mp4'\n",
    "clip2 = VideoFileClip('solidYellowLeft.mp4')\n",
    "yellow_clip = clip2.fl_image(process_image)\n",
    "%time yellow_clip.write_videofile(yellow_output, audio=False)"
   ]
  },
  {
   "cell_type": "code",
   "execution_count": null,
   "metadata": {
    "collapsed": false,
    "deletable": true,
    "editable": true
   },
   "outputs": [],
   "source": [
    "HTML(\"\"\"\n",
    "<video width=\"960\" height=\"540\" controls>\n",
    "  <source src=\"{0}\">\n",
    "</video>\n",
    "\"\"\".format(yellow_output))"
   ]
  },
  {
   "cell_type": "markdown",
   "metadata": {
    "deletable": true,
    "editable": true
   },
   "source": [
    "## Writeup and Submission\n",
    "\n",
    "If you're satisfied with your video outputs, it's time to make the report writeup in a pdf or markdown file. Once you have this Ipython notebook ready along with the writeup, it's time to submit for review! Here is a [link](https://github.com/udacity/CarND-LaneLines-P1/blob/master/writeup_template.md) to the writeup template file.\n"
   ]
  },
  {
   "cell_type": "markdown",
   "metadata": {
    "collapsed": true,
    "deletable": true,
    "editable": true
   },
   "source": [
    "## Optional Challenge\n",
    "\n",
    "Try your lane finding pipeline on the video below.  Does it still work?  Can you figure out a way to make it more robust?  If you're up for the challenge, modify your pipeline so it works with this video and submit it along with the rest of your project!"
   ]
  },
  {
   "cell_type": "code",
   "execution_count": 171,
   "metadata": {
    "collapsed": false,
    "deletable": true,
    "editable": true
   },
   "outputs": [
    {
     "name": "stdout",
     "output_type": "stream",
     "text": [
      "[MoviePy] >>>> Building video extra.mp4\n",
      "[MoviePy] Writing video extra.mp4\n"
     ]
    },
    {
     "name": "stderr",
     "output_type": "stream",
     "text": [
      "100%|███████████████████████████████████████████████████████████████████████████████████████████████████████████████████████████████████████████████████████████████████████████████████████████████████| 251/251 [00:13<00:00, 25.45it/s]\n"
     ]
    },
    {
     "name": "stdout",
     "output_type": "stream",
     "text": [
      "[MoviePy] Done.\n",
      "[MoviePy] >>>> Video ready: extra.mp4 \n",
      "\n",
      "Wall time: 14.9 s\n"
     ]
    }
   ],
   "source": [
    "prev_clip_data = [0, 0, 0, 0]\n",
    "bottom_y = 0\n",
    "challenge_output = 'extra.mp4'\n",
    "clip2 = VideoFileClip('challenge.mp4')\n",
    "challenge_clip = clip2.fl_image(process_image)\n",
    "%time challenge_clip.write_videofile(challenge_output, audio=False)"
   ]
  },
  {
   "cell_type": "markdown",
   "metadata": {
    "collapsed": false,
    "deletable": true,
    "editable": true
   },
   "source": [
    "## HTML(\"\"\"\n",
    "<video width=\"960\" height=\"540\" controls>\n",
    "  <source src=\"{0}\">\n",
    "</video>\n",
    "\"\"\".format(challenge_output))"
   ]
  },
  {
   "cell_type": "code",
   "execution_count": null,
   "metadata": {
    "collapsed": true,
    "deletable": true,
    "editable": true
   },
   "outputs": [],
   "source": []
  }
 ],
 "metadata": {
  "anaconda-cloud": {},
  "kernelspec": {
   "display_name": "Python 3",
   "language": "python",
   "name": "python3"
  },
  "language_info": {
   "codemirror_mode": {
    "name": "ipython",
    "version": 3
   },
   "file_extension": ".py",
   "mimetype": "text/x-python",
   "name": "python",
   "nbconvert_exporter": "python",
   "pygments_lexer": "ipython3",
   "version": "3.5.2"
  },
  "widgets": {
   "state": {},
   "version": "1.1.2"
  }
 },
 "nbformat": 4,
 "nbformat_minor": 0
}
